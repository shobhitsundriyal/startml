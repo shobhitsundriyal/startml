{
  "nbformat": 4,
  "nbformat_minor": 0,
  "metadata": {
    "colab": {
      "name": "03 Amazon Fine Food Reviews Analysis_KNN.ipynb",
      "version": "0.3.2",
      "provenance": [],
      "collapsed_sections": [
        "zZs1QbloDYLk",
        "_pcNUauJDYLr",
        "6bReCy__DYLx",
        "ZKhyFyhmDYMd",
        "ArO5fI7kDYMv",
        "m0UxvEKBDYM8",
        "sgcPCRG8DYNC",
        "L-xcoDmADYNP",
        "jfY8wT02DYNU",
        "kG-xYnK7DYNt",
        "ddU0dZI0DYNx",
        "IQUILTzFDYN0"
      ],
      "include_colab_link": true
    },
    "language_info": {
      "codemirror_mode": {
        "name": "ipython",
        "version": 3
      },
      "file_extension": ".py",
      "mimetype": "text/x-python",
      "name": "python",
      "nbconvert_exporter": "python",
      "pygments_lexer": "ipython3",
      "version": "3.6.6"
    },
    "kernelspec": {
      "display_name": "Python 3",
      "language": "python",
      "name": "python3"
    }
  },
  "cells": [
    {
      "cell_type": "markdown",
      "metadata": {
        "id": "view-in-github",
        "colab_type": "text"
      },
      "source": [
        "<a href=\"https://colab.research.google.com/github/shobhitsundriyal/startml/blob/master/03_Amazon_Fine_Food_Reviews_Analysis_KNN.ipynb\" target=\"_parent\"><img src=\"https://colab.research.google.com/assets/colab-badge.svg\" alt=\"Open In Colab\"/></a>"
      ]
    },
    {
      "cell_type": "code",
      "metadata": {
        "id": "ijjonSUmpdB7",
        "colab_type": "code",
        "colab": {}
      },
      "source": [
        "import warnings\n",
        "warnings.filterwarnings(\"ignore\")\n",
        "from google.colab import drive\n",
        "drive.mount('/content/gdrive')"
      ],
      "execution_count": 0,
      "outputs": []
    },
    {
      "cell_type": "markdown",
      "metadata": {
        "id": "4UPJU7FIDYHb",
        "colab_type": "text"
      },
      "source": [
        "# Amazon Fine Food Reviews Analysis\n",
        "\n",
        "\n",
        "Data Source: https://www.kaggle.com/snap/amazon-fine-food-reviews <br>\n",
        "\n",
        "EDA: https://nycdatascience.com/blog/student-works/amazon-fine-foods-visualization/\n",
        "\n",
        "\n",
        "The Amazon Fine Food Reviews dataset consists of reviews of fine foods from Amazon.<br>\n",
        "\n",
        "Number of reviews: 568,454<br>\n",
        "Number of users: 256,059<br>\n",
        "Number of products: 74,258<br>\n",
        "Timespan: Oct 1999 - Oct 2012<br>\n",
        "Number of Attributes/Columns in data: 10 \n",
        "\n",
        "Attribute Information:\n",
        "\n",
        "1. Id\n",
        "2. ProductId - unique identifier for the product\n",
        "3. UserId - unqiue identifier for the user\n",
        "4. ProfileName\n",
        "5. HelpfulnessNumerator - number of users who found the review helpful\n",
        "6. HelpfulnessDenominator - number of users who indicated whether they found the review helpful or not\n",
        "7. Score - rating between 1 and 5\n",
        "8. Time - timestamp for the review\n",
        "9. Summary - brief summary of the review\n",
        "10. Text - text of the review\n",
        "\n",
        "\n",
        "#### Objective:\n",
        "Given a review, determine whether the review is positive (rating of 4 or 5) or negative (rating of 1 or 2).\n",
        "\n",
        "<br>\n",
        "[Q] How to determine if a review is positive or negative?<br>\n",
        "<br> \n",
        "[Ans] We could use Score/Rating. A rating of 4 or 5 can be cosnidered as a positive review. A rating of 1 or 2 can be considered as negative one. A review of rating 3 is considered nuetral and such reviews are ignored from our analysis. This is an approximate and proxy way of determining the polarity (positivity/negativity) of a review.\n",
        "\n",
        "\n"
      ]
    },
    {
      "cell_type": "markdown",
      "metadata": {
        "id": "Iac3VjZcDYHf",
        "colab_type": "text"
      },
      "source": [
        "# [1]. Reading Data"
      ]
    },
    {
      "cell_type": "markdown",
      "metadata": {
        "id": "wEsMRzNDDYHi",
        "colab_type": "text"
      },
      "source": [
        "## [1.1] Loading the data\n",
        "\n",
        "The dataset is available in two forms\n",
        "1. .csv file\n",
        "2. SQLite Database\n",
        "\n",
        "In order to load the data, We have used the SQLITE dataset as it is easier to query the data and visualise the data efficiently.\n",
        "<br> \n",
        "\n",
        "Here as we only want to get the global sentiment of the recommendations (positive or negative), we will purposefully ignore all Scores equal to 3. If the score is above 3, then the recommendation wil be set to \"positive\". Otherwise, it will be set to \"negative\"."
      ]
    },
    {
      "cell_type": "code",
      "metadata": {
        "id": "ADl9geUvDYHl",
        "colab_type": "code",
        "colab": {}
      },
      "source": [
        "%matplotlib inline\n",
        "import warnings\n",
        "warnings.filterwarnings(\"ignore\")\n",
        "\n",
        "\n",
        "import sqlite3\n",
        "import pandas as pd\n",
        "import numpy as np\n",
        "import nltk\n",
        "import string\n",
        "import matplotlib.pyplot as plt\n",
        "import seaborn as sns\n",
        "from sklearn.metrics import accuracy_score\n",
        "from sklearn.model_selection import cross_validate\n",
        "from sklearn.model_selection import train_test_split\n",
        "from sklearn.neighbors import KNeighborsClassifier\n",
        "from sklearn.model_selection import cross_val_score\n",
        "from sklearn.feature_extraction.text import TfidfTransformer\n",
        "from sklearn.feature_extraction.text import TfidfVectorizer\n",
        "\n",
        "from sklearn.feature_extraction.text import CountVectorizer\n",
        "from sklearn.metrics import confusion_matrix\n",
        "from sklearn import metrics\n",
        "from sklearn.metrics import roc_curve, auc\n",
        "from nltk.stem.porter import PorterStemmer\n",
        "\n",
        "import re\n",
        "# Tutorial about Python regular expressions: https://pymotw.com/2/re/\n",
        "import string\n",
        "from nltk.corpus import stopwords\n",
        "from nltk.stem import PorterStemmer\n",
        "from nltk.stem.wordnet import WordNetLemmatizer\n",
        "\n",
        "from gensim.models import Word2Vec\n",
        "from gensim.models import KeyedVectors\n",
        "import pickle\n",
        "\n",
        "from tqdm import tqdm\n",
        "import os\n",
        "import seaborn as sb"
      ],
      "execution_count": 0,
      "outputs": []
    },
    {
      "cell_type": "code",
      "metadata": {
        "id": "9pO69buUDYHz",
        "colab_type": "code",
        "outputId": "84f077ff-346c-4c96-c3a8-d56baab82e37",
        "colab": {
          "base_uri": "https://localhost:8080/",
          "height": 432
        }
      },
      "source": [
        "# using SQLite Table to read data.\n",
        "con = sqlite3.connect('gdrive/My Drive/AFR/database.sqlite') \n",
        "\n",
        "# filtering only positive and negative reviews i.e. \n",
        "# not taking into consideration those reviews with Score=3\n",
        "# SELECT * FROM Reviews WHERE Score != 3 LIMIT 500000, will give top 500000 data points\n",
        "# you can change the number to any other number based on your computing power\n",
        "\n",
        "# filtered_data = pd.read_sql_query(\"\"\" SELECT * FROM Reviews WHERE Score != 3 LIMIT 500000\"\"\", con) \n",
        "# for tsne assignment you can take 5k data points\n",
        "\n",
        "filtered_data = pd.read_sql_query(\"\"\" SELECT * FROM Reviews WHERE Score != 3 LIMIT 5000\"\"\", con) \n",
        "\n",
        "# Give reviews with Score>3 a positive rating(1), and reviews with a score<3 a negative rating(0).\n",
        "def partition(x):\n",
        "    if x < 3:\n",
        "        return 0\n",
        "    return 1\n",
        "\n",
        "#changing reviews with score less than 3 to be positive and vice-versa\n",
        "actualScore = filtered_data['Score']\n",
        "positiveNegative = actualScore.map(partition) \n",
        "filtered_data['Score'] = positiveNegative\n",
        "print(\"Number of data points in our data\", filtered_data.shape)\n",
        "filtered_data.head(3)"
      ],
      "execution_count": 0,
      "outputs": [
        {
          "output_type": "stream",
          "text": [
            "Number of data points in our data (5000, 10)\n"
          ],
          "name": "stdout"
        },
        {
          "output_type": "execute_result",
          "data": {
            "text/html": [
              "<div>\n",
              "<style scoped>\n",
              "    .dataframe tbody tr th:only-of-type {\n",
              "        vertical-align: middle;\n",
              "    }\n",
              "\n",
              "    .dataframe tbody tr th {\n",
              "        vertical-align: top;\n",
              "    }\n",
              "\n",
              "    .dataframe thead th {\n",
              "        text-align: right;\n",
              "    }\n",
              "</style>\n",
              "<table border=\"1\" class=\"dataframe\">\n",
              "  <thead>\n",
              "    <tr style=\"text-align: right;\">\n",
              "      <th></th>\n",
              "      <th>Id</th>\n",
              "      <th>ProductId</th>\n",
              "      <th>UserId</th>\n",
              "      <th>ProfileName</th>\n",
              "      <th>HelpfulnessNumerator</th>\n",
              "      <th>HelpfulnessDenominator</th>\n",
              "      <th>Score</th>\n",
              "      <th>Time</th>\n",
              "      <th>Summary</th>\n",
              "      <th>Text</th>\n",
              "    </tr>\n",
              "  </thead>\n",
              "  <tbody>\n",
              "    <tr>\n",
              "      <th>0</th>\n",
              "      <td>1</td>\n",
              "      <td>B001E4KFG0</td>\n",
              "      <td>A3SGXH7AUHU8GW</td>\n",
              "      <td>delmartian</td>\n",
              "      <td>1</td>\n",
              "      <td>1</td>\n",
              "      <td>1</td>\n",
              "      <td>1303862400</td>\n",
              "      <td>Good Quality Dog Food</td>\n",
              "      <td>I have bought several of the Vitality canned d...</td>\n",
              "    </tr>\n",
              "    <tr>\n",
              "      <th>1</th>\n",
              "      <td>2</td>\n",
              "      <td>B00813GRG4</td>\n",
              "      <td>A1D87F6ZCVE5NK</td>\n",
              "      <td>dll pa</td>\n",
              "      <td>0</td>\n",
              "      <td>0</td>\n",
              "      <td>0</td>\n",
              "      <td>1346976000</td>\n",
              "      <td>Not as Advertised</td>\n",
              "      <td>Product arrived labeled as Jumbo Salted Peanut...</td>\n",
              "    </tr>\n",
              "    <tr>\n",
              "      <th>2</th>\n",
              "      <td>3</td>\n",
              "      <td>B000LQOCH0</td>\n",
              "      <td>ABXLMWJIXXAIN</td>\n",
              "      <td>Natalia Corres \"Natalia Corres\"</td>\n",
              "      <td>1</td>\n",
              "      <td>1</td>\n",
              "      <td>1</td>\n",
              "      <td>1219017600</td>\n",
              "      <td>\"Delight\" says it all</td>\n",
              "      <td>This is a confection that has been around a fe...</td>\n",
              "    </tr>\n",
              "  </tbody>\n",
              "</table>\n",
              "</div>"
            ],
            "text/plain": [
              "   Id  ...                                               Text\n",
              "0   1  ...  I have bought several of the Vitality canned d...\n",
              "1   2  ...  Product arrived labeled as Jumbo Salted Peanut...\n",
              "2   3  ...  This is a confection that has been around a fe...\n",
              "\n",
              "[3 rows x 10 columns]"
            ]
          },
          "metadata": {
            "tags": []
          },
          "execution_count": 3
        }
      ]
    },
    {
      "cell_type": "code",
      "metadata": {
        "id": "bDrGXaolDYIH",
        "colab_type": "code",
        "colab": {}
      },
      "source": [
        "display = pd.read_sql_query(\"\"\"\n",
        "SELECT UserId, ProductId, ProfileName, Time, Score, Text, COUNT(*)\n",
        "FROM Reviews\n",
        "GROUP BY UserId\n",
        "HAVING COUNT(*)>1\n",
        "\"\"\", con)"
      ],
      "execution_count": 0,
      "outputs": []
    },
    {
      "cell_type": "code",
      "metadata": {
        "scrolled": true,
        "id": "Jj-M3g0FDYIj",
        "colab_type": "code",
        "outputId": "0d5ee648-4362-4702-fff5-5e048ac4682c",
        "colab": {
          "base_uri": "https://localhost:8080/",
          "height": 216
        }
      },
      "source": [
        "print(display.shape)\n",
        "display.head()"
      ],
      "execution_count": 0,
      "outputs": [
        {
          "output_type": "stream",
          "text": [
            "(80668, 7)\n"
          ],
          "name": "stdout"
        },
        {
          "output_type": "execute_result",
          "data": {
            "text/html": [
              "<div>\n",
              "<style scoped>\n",
              "    .dataframe tbody tr th:only-of-type {\n",
              "        vertical-align: middle;\n",
              "    }\n",
              "\n",
              "    .dataframe tbody tr th {\n",
              "        vertical-align: top;\n",
              "    }\n",
              "\n",
              "    .dataframe thead th {\n",
              "        text-align: right;\n",
              "    }\n",
              "</style>\n",
              "<table border=\"1\" class=\"dataframe\">\n",
              "  <thead>\n",
              "    <tr style=\"text-align: right;\">\n",
              "      <th></th>\n",
              "      <th>UserId</th>\n",
              "      <th>ProductId</th>\n",
              "      <th>ProfileName</th>\n",
              "      <th>Time</th>\n",
              "      <th>Score</th>\n",
              "      <th>Text</th>\n",
              "      <th>COUNT(*)</th>\n",
              "    </tr>\n",
              "  </thead>\n",
              "  <tbody>\n",
              "    <tr>\n",
              "      <th>0</th>\n",
              "      <td>#oc-R115TNMSPFT9I7</td>\n",
              "      <td>B007Y59HVM</td>\n",
              "      <td>Breyton</td>\n",
              "      <td>1331510400</td>\n",
              "      <td>2</td>\n",
              "      <td>Overall its just OK when considering the price...</td>\n",
              "      <td>2</td>\n",
              "    </tr>\n",
              "    <tr>\n",
              "      <th>1</th>\n",
              "      <td>#oc-R11D9D7SHXIJB9</td>\n",
              "      <td>B005HG9ET0</td>\n",
              "      <td>Louis E. Emory \"hoppy\"</td>\n",
              "      <td>1342396800</td>\n",
              "      <td>5</td>\n",
              "      <td>My wife has recurring extreme muscle spasms, u...</td>\n",
              "      <td>3</td>\n",
              "    </tr>\n",
              "    <tr>\n",
              "      <th>2</th>\n",
              "      <td>#oc-R11DNU2NBKQ23Z</td>\n",
              "      <td>B007Y59HVM</td>\n",
              "      <td>Kim Cieszykowski</td>\n",
              "      <td>1348531200</td>\n",
              "      <td>1</td>\n",
              "      <td>This coffee is horrible and unfortunately not ...</td>\n",
              "      <td>2</td>\n",
              "    </tr>\n",
              "    <tr>\n",
              "      <th>3</th>\n",
              "      <td>#oc-R11O5J5ZVQE25C</td>\n",
              "      <td>B005HG9ET0</td>\n",
              "      <td>Penguin Chick</td>\n",
              "      <td>1346889600</td>\n",
              "      <td>5</td>\n",
              "      <td>This will be the bottle that you grab from the...</td>\n",
              "      <td>3</td>\n",
              "    </tr>\n",
              "    <tr>\n",
              "      <th>4</th>\n",
              "      <td>#oc-R12KPBODL2B5ZD</td>\n",
              "      <td>B007OSBE1U</td>\n",
              "      <td>Christopher P. Presta</td>\n",
              "      <td>1348617600</td>\n",
              "      <td>1</td>\n",
              "      <td>I didnt like this coffee. Instead of telling y...</td>\n",
              "      <td>2</td>\n",
              "    </tr>\n",
              "  </tbody>\n",
              "</table>\n",
              "</div>"
            ],
            "text/plain": [
              "               UserId  ... COUNT(*)\n",
              "0  #oc-R115TNMSPFT9I7  ...        2\n",
              "1  #oc-R11D9D7SHXIJB9  ...        3\n",
              "2  #oc-R11DNU2NBKQ23Z  ...        2\n",
              "3  #oc-R11O5J5ZVQE25C  ...        3\n",
              "4  #oc-R12KPBODL2B5ZD  ...        2\n",
              "\n",
              "[5 rows x 7 columns]"
            ]
          },
          "metadata": {
            "tags": []
          },
          "execution_count": 5
        }
      ]
    },
    {
      "cell_type": "code",
      "metadata": {
        "id": "eAG-AQpWDYIx",
        "colab_type": "code",
        "outputId": "d5061cff-c7cf-49de-e079-3c99e1da7500",
        "colab": {
          "base_uri": "https://localhost:8080/",
          "height": 78
        }
      },
      "source": [
        "display[display['UserId']=='AZY10LLTJ71NX']"
      ],
      "execution_count": 0,
      "outputs": [
        {
          "output_type": "execute_result",
          "data": {
            "text/html": [
              "<div>\n",
              "<style scoped>\n",
              "    .dataframe tbody tr th:only-of-type {\n",
              "        vertical-align: middle;\n",
              "    }\n",
              "\n",
              "    .dataframe tbody tr th {\n",
              "        vertical-align: top;\n",
              "    }\n",
              "\n",
              "    .dataframe thead th {\n",
              "        text-align: right;\n",
              "    }\n",
              "</style>\n",
              "<table border=\"1\" class=\"dataframe\">\n",
              "  <thead>\n",
              "    <tr style=\"text-align: right;\">\n",
              "      <th></th>\n",
              "      <th>UserId</th>\n",
              "      <th>ProductId</th>\n",
              "      <th>ProfileName</th>\n",
              "      <th>Time</th>\n",
              "      <th>Score</th>\n",
              "      <th>Text</th>\n",
              "      <th>COUNT(*)</th>\n",
              "    </tr>\n",
              "  </thead>\n",
              "  <tbody>\n",
              "    <tr>\n",
              "      <th>80638</th>\n",
              "      <td>AZY10LLTJ71NX</td>\n",
              "      <td>B006P7E5ZI</td>\n",
              "      <td>undertheshrine \"undertheshrine\"</td>\n",
              "      <td>1334707200</td>\n",
              "      <td>5</td>\n",
              "      <td>I was recommended to try green tea extract to ...</td>\n",
              "      <td>5</td>\n",
              "    </tr>\n",
              "  </tbody>\n",
              "</table>\n",
              "</div>"
            ],
            "text/plain": [
              "              UserId  ... COUNT(*)\n",
              "80638  AZY10LLTJ71NX  ...        5\n",
              "\n",
              "[1 rows x 7 columns]"
            ]
          },
          "metadata": {
            "tags": []
          },
          "execution_count": 6
        }
      ]
    },
    {
      "cell_type": "code",
      "metadata": {
        "id": "3qBpPZKaDYI7",
        "colab_type": "code",
        "outputId": "42fe6ff9-aa85-4a30-fccb-dff539833856",
        "colab": {
          "base_uri": "https://localhost:8080/",
          "height": 34
        }
      },
      "source": [
        "display['COUNT(*)'].sum()"
      ],
      "execution_count": 0,
      "outputs": [
        {
          "output_type": "execute_result",
          "data": {
            "text/plain": [
              "393063"
            ]
          },
          "metadata": {
            "tags": []
          },
          "execution_count": 7
        }
      ]
    },
    {
      "cell_type": "markdown",
      "metadata": {
        "id": "G1rTdPsqDYJI",
        "colab_type": "text"
      },
      "source": [
        "#  [2] Exploratory Data Analysis"
      ]
    },
    {
      "cell_type": "markdown",
      "metadata": {
        "id": "Wh5RH-NsDYJJ",
        "colab_type": "text"
      },
      "source": [
        "## [2.1] Data Cleaning: Deduplication\n",
        "\n",
        "It is observed (as shown in the table below) that the reviews data had many duplicate entries. Hence it was necessary to remove duplicates in order to get unbiased results for the analysis of the data.  Following is an example:"
      ]
    },
    {
      "cell_type": "code",
      "metadata": {
        "scrolled": false,
        "id": "EUF69tvsDYJO",
        "colab_type": "code",
        "outputId": "2f6bc420-11ea-4bad-a2a4-47792f7b2724",
        "colab": {
          "base_uri": "https://localhost:8080/",
          "height": 564
        }
      },
      "source": [
        "display= pd.read_sql_query(\"\"\"\n",
        "SELECT *\n",
        "FROM Reviews\n",
        "WHERE Score != 3 AND UserId=\"AR5J8UI46CURR\"\n",
        "ORDER BY ProductID\n",
        "\"\"\", con)\n",
        "display.head()"
      ],
      "execution_count": 0,
      "outputs": [
        {
          "output_type": "execute_result",
          "data": {
            "text/html": [
              "<div>\n",
              "<style scoped>\n",
              "    .dataframe tbody tr th:only-of-type {\n",
              "        vertical-align: middle;\n",
              "    }\n",
              "\n",
              "    .dataframe tbody tr th {\n",
              "        vertical-align: top;\n",
              "    }\n",
              "\n",
              "    .dataframe thead th {\n",
              "        text-align: right;\n",
              "    }\n",
              "</style>\n",
              "<table border=\"1\" class=\"dataframe\">\n",
              "  <thead>\n",
              "    <tr style=\"text-align: right;\">\n",
              "      <th></th>\n",
              "      <th>Id</th>\n",
              "      <th>ProductId</th>\n",
              "      <th>UserId</th>\n",
              "      <th>ProfileName</th>\n",
              "      <th>HelpfulnessNumerator</th>\n",
              "      <th>HelpfulnessDenominator</th>\n",
              "      <th>Score</th>\n",
              "      <th>Time</th>\n",
              "      <th>Summary</th>\n",
              "      <th>Text</th>\n",
              "    </tr>\n",
              "  </thead>\n",
              "  <tbody>\n",
              "    <tr>\n",
              "      <th>0</th>\n",
              "      <td>78445</td>\n",
              "      <td>B000HDL1RQ</td>\n",
              "      <td>AR5J8UI46CURR</td>\n",
              "      <td>Geetha Krishnan</td>\n",
              "      <td>2</td>\n",
              "      <td>2</td>\n",
              "      <td>5</td>\n",
              "      <td>1199577600</td>\n",
              "      <td>LOACKER QUADRATINI VANILLA WAFERS</td>\n",
              "      <td>DELICIOUS WAFERS. I FIND THAT EUROPEAN WAFERS ...</td>\n",
              "    </tr>\n",
              "    <tr>\n",
              "      <th>1</th>\n",
              "      <td>138317</td>\n",
              "      <td>B000HDOPYC</td>\n",
              "      <td>AR5J8UI46CURR</td>\n",
              "      <td>Geetha Krishnan</td>\n",
              "      <td>2</td>\n",
              "      <td>2</td>\n",
              "      <td>5</td>\n",
              "      <td>1199577600</td>\n",
              "      <td>LOACKER QUADRATINI VANILLA WAFERS</td>\n",
              "      <td>DELICIOUS WAFERS. I FIND THAT EUROPEAN WAFERS ...</td>\n",
              "    </tr>\n",
              "    <tr>\n",
              "      <th>2</th>\n",
              "      <td>138277</td>\n",
              "      <td>B000HDOPYM</td>\n",
              "      <td>AR5J8UI46CURR</td>\n",
              "      <td>Geetha Krishnan</td>\n",
              "      <td>2</td>\n",
              "      <td>2</td>\n",
              "      <td>5</td>\n",
              "      <td>1199577600</td>\n",
              "      <td>LOACKER QUADRATINI VANILLA WAFERS</td>\n",
              "      <td>DELICIOUS WAFERS. I FIND THAT EUROPEAN WAFERS ...</td>\n",
              "    </tr>\n",
              "    <tr>\n",
              "      <th>3</th>\n",
              "      <td>73791</td>\n",
              "      <td>B000HDOPZG</td>\n",
              "      <td>AR5J8UI46CURR</td>\n",
              "      <td>Geetha Krishnan</td>\n",
              "      <td>2</td>\n",
              "      <td>2</td>\n",
              "      <td>5</td>\n",
              "      <td>1199577600</td>\n",
              "      <td>LOACKER QUADRATINI VANILLA WAFERS</td>\n",
              "      <td>DELICIOUS WAFERS. I FIND THAT EUROPEAN WAFERS ...</td>\n",
              "    </tr>\n",
              "    <tr>\n",
              "      <th>4</th>\n",
              "      <td>155049</td>\n",
              "      <td>B000PAQ75C</td>\n",
              "      <td>AR5J8UI46CURR</td>\n",
              "      <td>Geetha Krishnan</td>\n",
              "      <td>2</td>\n",
              "      <td>2</td>\n",
              "      <td>5</td>\n",
              "      <td>1199577600</td>\n",
              "      <td>LOACKER QUADRATINI VANILLA WAFERS</td>\n",
              "      <td>DELICIOUS WAFERS. I FIND THAT EUROPEAN WAFERS ...</td>\n",
              "    </tr>\n",
              "  </tbody>\n",
              "</table>\n",
              "</div>"
            ],
            "text/plain": [
              "       Id  ...                                               Text\n",
              "0   78445  ...  DELICIOUS WAFERS. I FIND THAT EUROPEAN WAFERS ...\n",
              "1  138317  ...  DELICIOUS WAFERS. I FIND THAT EUROPEAN WAFERS ...\n",
              "2  138277  ...  DELICIOUS WAFERS. I FIND THAT EUROPEAN WAFERS ...\n",
              "3   73791  ...  DELICIOUS WAFERS. I FIND THAT EUROPEAN WAFERS ...\n",
              "4  155049  ...  DELICIOUS WAFERS. I FIND THAT EUROPEAN WAFERS ...\n",
              "\n",
              "[5 rows x 10 columns]"
            ]
          },
          "metadata": {
            "tags": []
          },
          "execution_count": 8
        }
      ]
    },
    {
      "cell_type": "markdown",
      "metadata": {
        "id": "cKrGPQEfDYJW",
        "colab_type": "text"
      },
      "source": [
        "As it can be seen above that same user has multiple reviews with same values for HelpfulnessNumerator, HelpfulnessDenominator, Score, Time, Summary and Text and on doing analysis it was found that <br>\n",
        "<br> \n",
        "ProductId=B000HDOPZG was Loacker Quadratini Vanilla Wafer Cookies, 8.82-Ounce Packages (Pack of 8)<br>\n",
        "<br> \n",
        "ProductId=B000HDL1RQ was Loacker Quadratini Lemon Wafer Cookies, 8.82-Ounce Packages (Pack of 8) and so on<br>\n",
        "\n",
        "It was inferred after analysis that reviews with same parameters other than ProductId belonged to the same product just having different flavour or quantity. Hence in order to reduce redundancy it was decided to eliminate the rows having same parameters.<br>\n",
        "\n",
        "The method used for the same was that we first sort the data according to ProductId and then just keep the first similar product review and delelte the others. for eg. in the above just the review for ProductId=B000HDL1RQ remains. This method ensures that there is only one representative for each product and deduplication without sorting would lead to possibility of different representatives still existing for the same product."
      ]
    },
    {
      "cell_type": "code",
      "metadata": {
        "id": "eQWrz1nFDYJX",
        "colab_type": "code",
        "colab": {}
      },
      "source": [
        "#Sorting data according to ProductId in ascending order\n",
        "sorted_data=filtered_data.sort_values('ProductId', axis=0, ascending=True, inplace=False, kind='quicksort', na_position='last')"
      ],
      "execution_count": 0,
      "outputs": []
    },
    {
      "cell_type": "code",
      "metadata": {
        "id": "4CS7fUdLDYJd",
        "colab_type": "code",
        "outputId": "adcf01f4-2702-49a1-c0a2-53d2e0bd8e5b",
        "colab": {
          "base_uri": "https://localhost:8080/",
          "height": 34
        }
      },
      "source": [
        "#Deduplication of entries\n",
        "final=sorted_data.drop_duplicates(subset={\"UserId\",\"ProfileName\",\"Time\",\"Text\"}, keep='first', inplace=False)\n",
        "final.shape"
      ],
      "execution_count": 0,
      "outputs": [
        {
          "output_type": "execute_result",
          "data": {
            "text/plain": [
              "(4986, 10)"
            ]
          },
          "metadata": {
            "tags": []
          },
          "execution_count": 10
        }
      ]
    },
    {
      "cell_type": "code",
      "metadata": {
        "id": "Hcc_-CJMDYJk",
        "colab_type": "code",
        "outputId": "d7855dd1-6c8c-4418-ef47-4c066cf802b3",
        "colab": {
          "base_uri": "https://localhost:8080/",
          "height": 34
        }
      },
      "source": [
        "#Checking to see how much % of data still remains\n",
        "(final['Id'].size*1.0)/(filtered_data['Id'].size*1.0)*100"
      ],
      "execution_count": 0,
      "outputs": [
        {
          "output_type": "execute_result",
          "data": {
            "text/plain": [
              "99.72"
            ]
          },
          "metadata": {
            "tags": []
          },
          "execution_count": 11
        }
      ]
    },
    {
      "cell_type": "markdown",
      "metadata": {
        "id": "engwR6VNDYJq",
        "colab_type": "text"
      },
      "source": [
        "<b>Observation:-</b> It was also seen that in two rows given below the value of HelpfulnessNumerator is greater than HelpfulnessDenominator which is not practically possible hence these two rows too are removed from calcualtions"
      ]
    },
    {
      "cell_type": "code",
      "metadata": {
        "id": "hjN7-OL_DYJt",
        "colab_type": "code",
        "outputId": "f1efe69f-3035-4b20-d77f-4ca1012319d5",
        "colab": {
          "base_uri": "https://localhost:8080/",
          "height": 264
        }
      },
      "source": [
        "display= pd.read_sql_query(\"\"\"\n",
        "SELECT *\n",
        "FROM Reviews\n",
        "WHERE Score != 3 AND Id=44737 OR Id=64422\n",
        "ORDER BY ProductID\n",
        "\"\"\", con)\n",
        "\n",
        "display.head()"
      ],
      "execution_count": 0,
      "outputs": [
        {
          "output_type": "execute_result",
          "data": {
            "text/html": [
              "<div>\n",
              "<style scoped>\n",
              "    .dataframe tbody tr th:only-of-type {\n",
              "        vertical-align: middle;\n",
              "    }\n",
              "\n",
              "    .dataframe tbody tr th {\n",
              "        vertical-align: top;\n",
              "    }\n",
              "\n",
              "    .dataframe thead th {\n",
              "        text-align: right;\n",
              "    }\n",
              "</style>\n",
              "<table border=\"1\" class=\"dataframe\">\n",
              "  <thead>\n",
              "    <tr style=\"text-align: right;\">\n",
              "      <th></th>\n",
              "      <th>Id</th>\n",
              "      <th>ProductId</th>\n",
              "      <th>UserId</th>\n",
              "      <th>ProfileName</th>\n",
              "      <th>HelpfulnessNumerator</th>\n",
              "      <th>HelpfulnessDenominator</th>\n",
              "      <th>Score</th>\n",
              "      <th>Time</th>\n",
              "      <th>Summary</th>\n",
              "      <th>Text</th>\n",
              "    </tr>\n",
              "  </thead>\n",
              "  <tbody>\n",
              "    <tr>\n",
              "      <th>0</th>\n",
              "      <td>64422</td>\n",
              "      <td>B000MIDROQ</td>\n",
              "      <td>A161DK06JJMCYF</td>\n",
              "      <td>J. E. Stephens \"Jeanne\"</td>\n",
              "      <td>3</td>\n",
              "      <td>1</td>\n",
              "      <td>5</td>\n",
              "      <td>1224892800</td>\n",
              "      <td>Bought This for My Son at College</td>\n",
              "      <td>My son loves spaghetti so I didn't hesitate or...</td>\n",
              "    </tr>\n",
              "    <tr>\n",
              "      <th>1</th>\n",
              "      <td>44737</td>\n",
              "      <td>B001EQ55RW</td>\n",
              "      <td>A2V0I904FH7ABY</td>\n",
              "      <td>Ram</td>\n",
              "      <td>3</td>\n",
              "      <td>2</td>\n",
              "      <td>4</td>\n",
              "      <td>1212883200</td>\n",
              "      <td>Pure cocoa taste with crunchy almonds inside</td>\n",
              "      <td>It was almost a 'love at first bite' - the per...</td>\n",
              "    </tr>\n",
              "  </tbody>\n",
              "</table>\n",
              "</div>"
            ],
            "text/plain": [
              "      Id  ...                                               Text\n",
              "0  64422  ...  My son loves spaghetti so I didn't hesitate or...\n",
              "1  44737  ...  It was almost a 'love at first bite' - the per...\n",
              "\n",
              "[2 rows x 10 columns]"
            ]
          },
          "metadata": {
            "tags": []
          },
          "execution_count": 12
        }
      ]
    },
    {
      "cell_type": "code",
      "metadata": {
        "id": "Ezix6kJ_DYJ3",
        "colab_type": "code",
        "colab": {}
      },
      "source": [
        "final=final[final.HelpfulnessNumerator<=final.HelpfulnessDenominator]"
      ],
      "execution_count": 0,
      "outputs": []
    },
    {
      "cell_type": "code",
      "metadata": {
        "id": "yWsVhvArDYJ9",
        "colab_type": "code",
        "outputId": "a11adcb0-2075-4533-afe0-069c06bc14fe",
        "colab": {
          "base_uri": "https://localhost:8080/",
          "height": 86
        }
      },
      "source": [
        "#Before starting the next phase of preprocessing lets see the number of entries left\n",
        "print(final.shape)\n",
        "\n",
        "#How many positive and negative reviews are present in our dataset?\n",
        "final['Score'].value_counts()"
      ],
      "execution_count": 0,
      "outputs": [
        {
          "output_type": "stream",
          "text": [
            "(4986, 10)\n"
          ],
          "name": "stdout"
        },
        {
          "output_type": "execute_result",
          "data": {
            "text/plain": [
              "1    4178\n",
              "0     808\n",
              "Name: Score, dtype: int64"
            ]
          },
          "metadata": {
            "tags": []
          },
          "execution_count": 14
        }
      ]
    },
    {
      "cell_type": "markdown",
      "metadata": {
        "id": "AoLxCQ-VDYKI",
        "colab_type": "text"
      },
      "source": [
        "#  [3] Preprocessing"
      ]
    },
    {
      "cell_type": "markdown",
      "metadata": {
        "id": "P7Zq_ToqDYKJ",
        "colab_type": "text"
      },
      "source": [
        "## [3.1].  Preprocessing Review Text\n",
        "\n",
        "Now that we have finished deduplication our data requires some preprocessing before we go on further with analysis and making the prediction model.\n",
        "\n",
        "Hence in the Preprocessing phase we do the following in the order below:-\n",
        "\n",
        "1. Begin by removing the html tags\n",
        "2. Remove any punctuations or limited set of special characters like , or . or # etc.\n",
        "3. Check if the word is made up of english letters and is not alpha-numeric\n",
        "4. Check to see if the length of the word is greater than 2 (as it was researched that there is no adjective in 2-letters)\n",
        "5. Convert the word to lowercase\n",
        "6. Remove Stopwords\n",
        "7. Finally Snowball Stemming the word (it was obsereved to be better than Porter Stemming)<br>\n",
        "\n",
        "After which we collect the words used to describe positive and negative reviews"
      ]
    },
    {
      "cell_type": "code",
      "metadata": {
        "id": "3jw5g5yEDYKL",
        "colab_type": "code",
        "outputId": "48535158-232f-42fd-f364-19d9437866df",
        "colab": {
          "base_uri": "https://localhost:8080/",
          "height": 175
        }
      },
      "source": [
        "# printing some random reviews\n",
        "sent_0 = final['Text'].values[0]\n",
        "print(sent_0)\n",
        "print(\"=\"*50)\n",
        "\n",
        "sent_1000 = final['Text'].values[1000]\n",
        "print(sent_1000)\n",
        "print(\"=\"*50)\n",
        "\n",
        "sent_1500 = final['Text'].values[1500]\n",
        "print(sent_1500)\n",
        "print(\"=\"*50)\n",
        "\n",
        "sent_4900 = final['Text'].values[4900]\n",
        "print(sent_4900)\n",
        "print(\"=\"*50)"
      ],
      "execution_count": 0,
      "outputs": [
        {
          "output_type": "stream",
          "text": [
            "Why is this $[...] when the same product is available for $[...] here?<br />http://www.amazon.com/VICTOR-FLY-MAGNET-BAIT-REFILL/dp/B00004RBDY<br /><br />The Victor M380 and M502 traps are unreal, of course -- total fly genocide. Pretty stinky, but only right nearby.\n",
            "==================================================\n",
            "I recently tried this flavor/brand and was surprised at how delicious these chips are.  The best thing was that there were a lot of \"brown\" chips in the bsg (my favorite), so I bought some more through amazon and shared with family and friends.  I am a little disappointed that there are not, so far, very many brown chips in these bags, but the flavor is still very good.  I like them better than the yogurt and green onion flavor because they do not seem to be as salty, and the onion flavor is better.  If you haven't eaten Kettle chips before, I recommend that you try a bag before buying bulk.  They are thicker and crunchier than Lays but just as fresh out of the bag.\n",
            "==================================================\n",
            "Wow.  So far, two two-star reviews.  One obviously had no idea what they were ordering; the other wants crispy cookies.  Hey, I'm sorry; but these reviews do nobody any good beyond reminding us to look  before ordering.<br /><br />These are chocolate-oatmeal cookies.  If you don't like that combination, don't order this type of cookie.  I find the combo quite nice, really.  The oatmeal sort of \"calms\" the rich chocolate flavor and gives the cookie sort of a coconut-type consistency.  Now let's also remember that tastes differ; so, I've given my opinion.<br /><br />Then, these are soft, chewy cookies -- as advertised.  They are not \"crispy\" cookies, or the blurb would say \"crispy,\" rather than \"chewy.\"  I happen to like raw cookie dough; however, I don't see where these taste like raw cookie dough.  Both are soft, however, so is this the confusion?  And, yes, they stick together.  Soft cookies tend to do that.  They aren't individually wrapped, which would add to the cost.  Oh yeah, chocolate chip cookies tend to be somewhat sweet.<br /><br />So, if you want something hard and crisp, I suggest Nabiso's Ginger Snaps.  If you want a cookie that's soft, chewy and tastes like a combination of chocolate and oatmeal, give these a try.  I'm here to place my second order.\n",
            "==================================================\n",
            "love to order my coffee on amazon.  easy and shows up quickly.<br />This k cup is great coffee.  dcaf is very good as well\n",
            "==================================================\n"
          ],
          "name": "stdout"
        }
      ]
    },
    {
      "cell_type": "code",
      "metadata": {
        "id": "WloiOvL3DYKT",
        "colab_type": "code",
        "outputId": "a7707fef-fce7-4d59-c036-bb93a7421318",
        "colab": {
          "base_uri": "https://localhost:8080/",
          "height": 54
        }
      },
      "source": [
        "# remove urls from text python: https://stackoverflow.com/a/40823105/4084039\n",
        "sent_0 = re.sub(r\"http\\S+\", \"\", sent_0)\n",
        "sent_1000 = re.sub(r\"http\\S+\", \"\", sent_1000)\n",
        "sent_150 = re.sub(r\"http\\S+\", \"\", sent_1500)\n",
        "sent_4900 = re.sub(r\"http\\S+\", \"\", sent_4900)\n",
        "\n",
        "print(sent_0)"
      ],
      "execution_count": 0,
      "outputs": [
        {
          "output_type": "stream",
          "text": [
            "Why is this $[...] when the same product is available for $[...] here?<br /> /><br />The Victor M380 and M502 traps are unreal, of course -- total fly genocide. Pretty stinky, but only right nearby.\n"
          ],
          "name": "stdout"
        }
      ]
    },
    {
      "cell_type": "code",
      "metadata": {
        "id": "SzCCi9tPDYKf",
        "colab_type": "code",
        "outputId": "d998225e-da7a-4002-b8e1-58fcefe20c53",
        "colab": {
          "base_uri": "https://localhost:8080/",
          "height": 158
        }
      },
      "source": [
        "# https://stackoverflow.com/questions/16206380/python-beautifulsoup-how-to-remove-all-tags-from-an-element\n",
        "from bs4 import BeautifulSoup\n",
        "\n",
        "soup = BeautifulSoup(sent_0, 'lxml')\n",
        "text = soup.get_text()\n",
        "print(text)\n",
        "print(\"=\"*50)\n",
        "\n",
        "soup = BeautifulSoup(sent_1000, 'lxml')\n",
        "text = soup.get_text()\n",
        "print(text)\n",
        "print(\"=\"*50)\n",
        "\n",
        "soup = BeautifulSoup(sent_1500, 'lxml')\n",
        "text = soup.get_text()\n",
        "print(text)\n",
        "print(\"=\"*50)\n",
        "\n",
        "soup = BeautifulSoup(sent_4900, 'lxml')\n",
        "text = soup.get_text()\n",
        "print(text)"
      ],
      "execution_count": 0,
      "outputs": [
        {
          "output_type": "stream",
          "text": [
            "Why is this $[...] when the same product is available for $[...] here? />The Victor M380 and M502 traps are unreal, of course -- total fly genocide. Pretty stinky, but only right nearby.\n",
            "==================================================\n",
            "I recently tried this flavor/brand and was surprised at how delicious these chips are.  The best thing was that there were a lot of \"brown\" chips in the bsg (my favorite), so I bought some more through amazon and shared with family and friends.  I am a little disappointed that there are not, so far, very many brown chips in these bags, but the flavor is still very good.  I like them better than the yogurt and green onion flavor because they do not seem to be as salty, and the onion flavor is better.  If you haven't eaten Kettle chips before, I recommend that you try a bag before buying bulk.  They are thicker and crunchier than Lays but just as fresh out of the bag.\n",
            "==================================================\n",
            "Wow.  So far, two two-star reviews.  One obviously had no idea what they were ordering; the other wants crispy cookies.  Hey, I'm sorry; but these reviews do nobody any good beyond reminding us to look  before ordering.These are chocolate-oatmeal cookies.  If you don't like that combination, don't order this type of cookie.  I find the combo quite nice, really.  The oatmeal sort of \"calms\" the rich chocolate flavor and gives the cookie sort of a coconut-type consistency.  Now let's also remember that tastes differ; so, I've given my opinion.Then, these are soft, chewy cookies -- as advertised.  They are not \"crispy\" cookies, or the blurb would say \"crispy,\" rather than \"chewy.\"  I happen to like raw cookie dough; however, I don't see where these taste like raw cookie dough.  Both are soft, however, so is this the confusion?  And, yes, they stick together.  Soft cookies tend to do that.  They aren't individually wrapped, which would add to the cost.  Oh yeah, chocolate chip cookies tend to be somewhat sweet.So, if you want something hard and crisp, I suggest Nabiso's Ginger Snaps.  If you want a cookie that's soft, chewy and tastes like a combination of chocolate and oatmeal, give these a try.  I'm here to place my second order.\n",
            "==================================================\n",
            "love to order my coffee on amazon.  easy and shows up quickly.This k cup is great coffee.  dcaf is very good as well\n"
          ],
          "name": "stdout"
        }
      ]
    },
    {
      "cell_type": "code",
      "metadata": {
        "id": "vQ2mdt2jDYKo",
        "colab_type": "code",
        "colab": {}
      },
      "source": [
        "# https://stackoverflow.com/a/47091490/4084039\n",
        "import re\n",
        "\n",
        "def decontracted(phrase):\n",
        "    # specific\n",
        "    phrase = re.sub(r\"won't\", \"will not\", phrase)\n",
        "    phrase = re.sub(r\"can\\'t\", \"can not\", phrase)\n",
        "\n",
        "    # general\n",
        "    phrase = re.sub(r\"n\\'t\", \" not\", phrase)\n",
        "    phrase = re.sub(r\"\\'re\", \" are\", phrase)\n",
        "    phrase = re.sub(r\"\\'s\", \" is\", phrase)\n",
        "    phrase = re.sub(r\"\\'d\", \" would\", phrase)\n",
        "    phrase = re.sub(r\"\\'ll\", \" will\", phrase)\n",
        "    phrase = re.sub(r\"\\'t\", \" not\", phrase)\n",
        "    phrase = re.sub(r\"\\'ve\", \" have\", phrase)\n",
        "    phrase = re.sub(r\"\\'m\", \" am\", phrase)\n",
        "    return phrase"
      ],
      "execution_count": 0,
      "outputs": []
    },
    {
      "cell_type": "code",
      "metadata": {
        "id": "GD5_8P5jDYKr",
        "colab_type": "code",
        "outputId": "98fb11ff-a261-4eab-cd57-daa1a2236c4a",
        "colab": {
          "base_uri": "https://localhost:8080/",
          "height": 72
        }
      },
      "source": [
        "sent_1500 = decontracted(sent_1500)\n",
        "print(sent_1500)\n",
        "print(\"=\"*50)"
      ],
      "execution_count": 0,
      "outputs": [
        {
          "output_type": "stream",
          "text": [
            "Wow.  So far, two two-star reviews.  One obviously had no idea what they were ordering; the other wants crispy cookies.  Hey, I am sorry; but these reviews do nobody any good beyond reminding us to look  before ordering.<br /><br />These are chocolate-oatmeal cookies.  If you do not like that combination, do not order this type of cookie.  I find the combo quite nice, really.  The oatmeal sort of \"calms\" the rich chocolate flavor and gives the cookie sort of a coconut-type consistency.  Now let is also remember that tastes differ; so, I have given my opinion.<br /><br />Then, these are soft, chewy cookies -- as advertised.  They are not \"crispy\" cookies, or the blurb would say \"crispy,\" rather than \"chewy.\"  I happen to like raw cookie dough; however, I do not see where these taste like raw cookie dough.  Both are soft, however, so is this the confusion?  And, yes, they stick together.  Soft cookies tend to do that.  They are not individually wrapped, which would add to the cost.  Oh yeah, chocolate chip cookies tend to be somewhat sweet.<br /><br />So, if you want something hard and crisp, I suggest Nabiso is Ginger Snaps.  If you want a cookie that is soft, chewy and tastes like a combination of chocolate and oatmeal, give these a try.  I am here to place my second order.\n",
            "==================================================\n"
          ],
          "name": "stdout"
        }
      ]
    },
    {
      "cell_type": "code",
      "metadata": {
        "id": "qTHM_mDnDYKx",
        "colab_type": "code",
        "outputId": "74d63b52-8e67-4217-e64a-de6a53fe3baa",
        "colab": {
          "base_uri": "https://localhost:8080/",
          "height": 54
        }
      },
      "source": [
        "#remove words with numbers python: https://stackoverflow.com/a/18082370/4084039\n",
        "sent_0 = re.sub(\"\\S*\\d\\S*\", \"\", sent_0).strip()\n",
        "print(sent_0)"
      ],
      "execution_count": 0,
      "outputs": [
        {
          "output_type": "stream",
          "text": [
            "Why is this $[...] when the same product is available for $[...] here?<br /> /><br />The Victor  and  traps are unreal, of course -- total fly genocide. Pretty stinky, but only right nearby.\n"
          ],
          "name": "stdout"
        }
      ]
    },
    {
      "cell_type": "code",
      "metadata": {
        "id": "pXhZUMDzDYK6",
        "colab_type": "code",
        "outputId": "9407cca4-6fc8-49d9-a269-49ec6049a837",
        "colab": {
          "base_uri": "https://localhost:8080/",
          "height": 54
        }
      },
      "source": [
        "#remove spacial character: https://stackoverflow.com/a/5843547/4084039\n",
        "sent_1500 = re.sub('[^A-Za-z0-9]+', ' ', sent_1500)\n",
        "print(sent_1500)"
      ],
      "execution_count": 0,
      "outputs": [
        {
          "output_type": "stream",
          "text": [
            "Wow So far two two star reviews One obviously had no idea what they were ordering the other wants crispy cookies Hey I am sorry but these reviews do nobody any good beyond reminding us to look before ordering br br These are chocolate oatmeal cookies If you do not like that combination do not order this type of cookie I find the combo quite nice really The oatmeal sort of calms the rich chocolate flavor and gives the cookie sort of a coconut type consistency Now let is also remember that tastes differ so I have given my opinion br br Then these are soft chewy cookies as advertised They are not crispy cookies or the blurb would say crispy rather than chewy I happen to like raw cookie dough however I do not see where these taste like raw cookie dough Both are soft however so is this the confusion And yes they stick together Soft cookies tend to do that They are not individually wrapped which would add to the cost Oh yeah chocolate chip cookies tend to be somewhat sweet br br So if you want something hard and crisp I suggest Nabiso is Ginger Snaps If you want a cookie that is soft chewy and tastes like a combination of chocolate and oatmeal give these a try I am here to place my second order \n"
          ],
          "name": "stdout"
        }
      ]
    },
    {
      "cell_type": "code",
      "metadata": {
        "id": "vZJNhKvKDYLA",
        "colab_type": "code",
        "colab": {}
      },
      "source": [
        "# https://gist.github.com/sebleier/554280\n",
        "# we are removing the words from the stop words list: 'no', 'nor', 'not'\n",
        "# <br /><br /> ==> after the above steps, we are getting \"br br\"\n",
        "# we are including them into stop words list\n",
        "# instead of <br /> if we have <br/> these tags would have revmoved in the 1st step\n",
        "\n",
        "stopwords= set(['br', 'the', 'i', 'me', 'my', 'myself', 'we', 'our', 'ours', 'ourselves', 'you', \"you're\", \"you've\",\\\n",
        "            \"you'll\", \"you'd\", 'your', 'yours', 'yourself', 'yourselves', 'he', 'him', 'his', 'himself', \\\n",
        "            'she', \"she's\", 'her', 'hers', 'herself', 'it', \"it's\", 'its', 'itself', 'they', 'them', 'their',\\\n",
        "            'theirs', 'themselves', 'what', 'which', 'who', 'whom', 'this', 'that', \"that'll\", 'these', 'those', \\\n",
        "            'am', 'is', 'are', 'was', 'were', 'be', 'been', 'being', 'have', 'has', 'had', 'having', 'do', 'does', \\\n",
        "            'did', 'doing', 'a', 'an', 'the', 'and', 'but', 'if', 'or', 'because', 'as', 'until', 'while', 'of', \\\n",
        "            'at', 'by', 'for', 'with', 'about', 'against', 'between', 'into', 'through', 'during', 'before', 'after',\\\n",
        "            'above', 'below', 'to', 'from', 'up', 'down', 'in', 'out', 'on', 'off', 'over', 'under', 'again', 'further',\\\n",
        "            'then', 'once', 'here', 'there', 'when', 'where', 'why', 'how', 'all', 'any', 'both', 'each', 'few', 'more',\\\n",
        "            'most', 'other', 'some', 'such', 'only', 'own', 'same', 'so', 'than', 'too', 'very', \\\n",
        "            's', 't', 'can', 'will', 'just', 'don', \"don't\", 'should', \"should've\", 'now', 'd', 'll', 'm', 'o', 're', \\\n",
        "            've', 'y', 'ain', 'aren', \"aren't\", 'couldn', \"couldn't\", 'didn', \"didn't\", 'doesn', \"doesn't\", 'hadn',\\\n",
        "            \"hadn't\", 'hasn', \"hasn't\", 'haven', \"haven't\", 'isn', \"isn't\", 'ma', 'mightn', \"mightn't\", 'mustn',\\\n",
        "            \"mustn't\", 'needn', \"needn't\", 'shan', \"shan't\", 'shouldn', \"shouldn't\", 'wasn', \"wasn't\", 'weren', \"weren't\", \\\n",
        "            'won', \"won't\", 'wouldn', \"wouldn't\"])"
      ],
      "execution_count": 0,
      "outputs": []
    },
    {
      "cell_type": "code",
      "metadata": {
        "id": "1Rd8zIc8DYLF",
        "colab_type": "code",
        "outputId": "5023f068-d176-4993-cd4e-fd307e59f5d1",
        "colab": {
          "base_uri": "https://localhost:8080/",
          "height": 34
        }
      },
      "source": [
        "# Combining all the above stundents \n",
        "from tqdm import tqdm\n",
        "preprocessed_reviews = []\n",
        "# tqdm is for printing the status bar\n",
        "for sentance in tqdm(final['Text'].values):\n",
        "    sentance = re.sub(r\"http\\S+\", \"\", sentance)\n",
        "    sentance = BeautifulSoup(sentance, 'lxml').get_text()\n",
        "    sentance = decontracted(sentance)\n",
        "    sentance = re.sub(\"\\S*\\d\\S*\", \"\", sentance).strip()\n",
        "    sentance = re.sub('[^A-Za-z]+', ' ', sentance)\n",
        "    # https://gist.github.com/sebleier/554280\n",
        "    sentance = ' '.join(e.lower() for e in sentance.split() if e.lower() not in stopwords)\n",
        "    preprocessed_reviews.append(sentance.strip())"
      ],
      "execution_count": 0,
      "outputs": [
        {
          "output_type": "stream",
          "text": [
            "100%|██████████| 4986/4986 [00:01<00:00, 2543.87it/s]\n"
          ],
          "name": "stderr"
        }
      ]
    },
    {
      "cell_type": "code",
      "metadata": {
        "id": "YBWzfi2NDYLL",
        "colab_type": "code",
        "outputId": "e80f402f-5014-40bf-c0fc-7a4e100b4875",
        "colab": {
          "base_uri": "https://localhost:8080/",
          "height": 54
        }
      },
      "source": [
        "preprocessed_reviews[1500]"
      ],
      "execution_count": 0,
      "outputs": [
        {
          "output_type": "execute_result",
          "data": {
            "text/plain": [
              "'wow far two two star reviews one obviously no idea ordering wants crispy cookies hey sorry reviews nobody good beyond reminding us look ordering chocolate oatmeal cookies not like combination not order type cookie find combo quite nice really oatmeal sort calms rich chocolate flavor gives cookie sort coconut type consistency let also remember tastes differ given opinion soft chewy cookies advertised not crispy cookies blurb would say crispy rather chewy happen like raw cookie dough however not see taste like raw cookie dough soft however confusion yes stick together soft cookies tend not individually wrapped would add cost oh yeah chocolate chip cookies tend somewhat sweet want something hard crisp suggest nabiso ginger snaps want cookie soft chewy tastes like combination chocolate oatmeal give try place second order'"
            ]
          },
          "metadata": {
            "tags": []
          },
          "execution_count": 24
        }
      ]
    },
    {
      "cell_type": "markdown",
      "metadata": {
        "id": "jDp9oUXaDYLZ",
        "colab_type": "text"
      },
      "source": [
        "<h2><font color='red'>[3.2] Preprocessing Review Summary</font></h2>"
      ]
    },
    {
      "cell_type": "code",
      "metadata": {
        "id": "G9NmSQw9DYLa",
        "colab_type": "code",
        "colab": {}
      },
      "source": [
        "## Similartly you can do preprocessing for review summary also."
      ],
      "execution_count": 0,
      "outputs": []
    },
    {
      "cell_type": "markdown",
      "metadata": {
        "id": "vSmZvNNZDYLi",
        "colab_type": "text"
      },
      "source": [
        "# [4] Featurization"
      ]
    },
    {
      "cell_type": "markdown",
      "metadata": {
        "id": "zZs1QbloDYLk",
        "colab_type": "text"
      },
      "source": [
        "## [4.1] BAG OF WORDS"
      ]
    },
    {
      "cell_type": "code",
      "metadata": {
        "id": "KGkxITLpDYLl",
        "colab_type": "code",
        "outputId": "a8bebb73-2084-4656-9fe7-1a5275314763",
        "colab": {
          "base_uri": "https://localhost:8080/"
        }
      },
      "source": [
        "#BoW\n",
        "count_vect = CountVectorizer() #in scikit-learn\n",
        "count_vect.fit(preprocessed_reviews)\n",
        "print(\"some feature names \", count_vect.get_feature_names()[:10])\n",
        "print('='*50)\n",
        "\n",
        "final_counts = count_vect.transform(preprocessed_reviews)\n",
        "print(\"the type of count vectorizer \",type(final_counts))\n",
        "print(\"the shape of out text BOW vectorizer \",final_counts.get_shape())\n",
        "print(\"the number of unique words \", final_counts.get_shape()[1])"
      ],
      "execution_count": 0,
      "outputs": [
        {
          "output_type": "stream",
          "text": [
            "some feature names  ['aa', 'aahhhs', 'aback', 'abandon', 'abates', 'abbott', 'abby', 'abdominal', 'abiding', 'ability']\n",
            "==================================================\n",
            "the type of count vectorizer  <class 'scipy.sparse.csr.csr_matrix'>\n",
            "the shape of out text BOW vectorizer  (4986, 12997)\n",
            "the number of unique words  12997\n"
          ],
          "name": "stdout"
        }
      ]
    },
    {
      "cell_type": "markdown",
      "metadata": {
        "id": "_pcNUauJDYLr",
        "colab_type": "text"
      },
      "source": [
        "## [4.2] Bi-Grams and n-Grams."
      ]
    },
    {
      "cell_type": "code",
      "metadata": {
        "id": "cM2SIgUvDYLt",
        "colab_type": "code",
        "outputId": "7be3bcbc-027f-4b44-89e9-e65aedd12ace",
        "colab": {
          "base_uri": "https://localhost:8080/"
        }
      },
      "source": [
        "#bi-gram, tri-gram and n-gram\n",
        "\n",
        "#removing stop words like \"not\" should be avoided before building n-grams\n",
        "# count_vect = CountVectorizer(ngram_range=(1,2))\n",
        "# please do read the CountVectorizer documentation http://scikit-learn.org/stable/modules/generated/sklearn.feature_extraction.text.CountVectorizer.html\n",
        "\n",
        "# you can choose these numebrs min_df=10, max_features=5000, of your choice\n",
        "count_vect = CountVectorizer(ngram_range=(1,2), min_df=10, max_features=5000)\n",
        "final_bigram_counts = count_vect.fit_transform(preprocessed_reviews)\n",
        "print(\"the type of count vectorizer \",type(final_bigram_counts))\n",
        "print(\"the shape of out text BOW vectorizer \",final_bigram_counts.get_shape())\n",
        "print(\"the number of unique words including both unigrams and bigrams \", final_bigram_counts.get_shape()[1])"
      ],
      "execution_count": 0,
      "outputs": [
        {
          "output_type": "stream",
          "text": [
            "the type of count vectorizer  <class 'scipy.sparse.csr.csr_matrix'>\n",
            "the shape of out text BOW vectorizer  (4986, 3144)\n",
            "the number of unique words including both unigrams and bigrams  3144\n"
          ],
          "name": "stdout"
        }
      ]
    },
    {
      "cell_type": "markdown",
      "metadata": {
        "id": "6bReCy__DYLx",
        "colab_type": "text"
      },
      "source": [
        "## [4.3] TF-IDF"
      ]
    },
    {
      "cell_type": "code",
      "metadata": {
        "id": "hfpsAqaXDYLy",
        "colab_type": "code",
        "outputId": "e97dc106-485d-4700-bc1e-488c34fcb016",
        "colab": {
          "base_uri": "https://localhost:8080/"
        }
      },
      "source": [
        "tf_idf_vect = TfidfVectorizer(ngram_range=(1,2), min_df=10)\n",
        "tf_idf_vect.fit(preprocessed_reviews)\n",
        "print(\"some sample features(unique words in the corpus)\",tf_idf_vect.get_feature_names()[0:10])\n",
        "print('='*50)\n",
        "\n",
        "final_tf_idf = tf_idf_vect.transform(preprocessed_reviews)\n",
        "print(\"the type of count vectorizer \",type(final_tf_idf))\n",
        "print(\"the shape of out text TFIDF vectorizer \",final_tf_idf.get_shape())\n",
        "print(\"the number of unique words including both unigrams and bigrams \", final_tf_idf.get_shape()[1])"
      ],
      "execution_count": 0,
      "outputs": [
        {
          "output_type": "stream",
          "text": [
            "some sample features(unique words in the corpus) ['ability', 'able', 'able find', 'able get', 'absolute', 'absolutely', 'absolutely delicious', 'absolutely love', 'absolutely no', 'according']\n",
            "==================================================\n",
            "the type of count vectorizer  <class 'scipy.sparse.csr.csr_matrix'>\n",
            "the shape of out text TFIDF vectorizer  (4986, 3144)\n",
            "the number of unique words including both unigrams and bigrams  3144\n"
          ],
          "name": "stdout"
        }
      ]
    },
    {
      "cell_type": "markdown",
      "metadata": {
        "id": "9kpriSSvDYL8",
        "colab_type": "text"
      },
      "source": [
        "## [4.4] Word2Vec"
      ]
    },
    {
      "cell_type": "code",
      "metadata": {
        "id": "ntd7uVHicJDs",
        "colab_type": "code",
        "colab": {}
      },
      "source": [
        "sample_points = preprocessed_reviews\n",
        "labels = final['Score']"
      ],
      "execution_count": 0,
      "outputs": []
    },
    {
      "cell_type": "code",
      "metadata": {
        "id": "kD6WSgF0chX7",
        "colab_type": "code",
        "colab": {}
      },
      "source": [
        "X_train, X_test, Y_train, Y_test = train_test_split(\n",
        "    sample_points, labels, test_size=0.3, random_state=0)"
      ],
      "execution_count": 0,
      "outputs": []
    },
    {
      "cell_type": "code",
      "metadata": {
        "id": "zm7QLZ2jDYL-",
        "colab_type": "code",
        "colab": {}
      },
      "source": [
        "# Train your own Word2Vec model using your own text corpus\n",
        "i=0\n",
        "train_list_of_sentance=[]\n",
        "for sentance in X_train:\n",
        "    train_list_of_sentance.append(sentance.split())"
      ],
      "execution_count": 0,
      "outputs": []
    },
    {
      "cell_type": "code",
      "metadata": {
        "scrolled": true,
        "id": "mLAtDE_UDYMF",
        "colab_type": "code",
        "outputId": "ff06ceb5-47fb-4a06-9126-d042dc242a33",
        "colab": {
          "base_uri": "https://localhost:8080/"
        }
      },
      "source": [
        "# Using Google News Word2Vectors\n",
        "\n",
        "# in this project we are using a pretrained model by google\n",
        "# its 3.3G file, once you load this into your memory \n",
        "# it occupies ~9Gb, so please do this step only if you have >12G of ram\n",
        "# we will provide a pickle file wich contains a dict , \n",
        "# and it contains all our courpus words as keys and  model[word] as values\n",
        "# To use this code-snippet, download \"GoogleNews-vectors-negative300.bin\" \n",
        "# from https://drive.google.com/file/d/0B7XkCwpI5KDYNlNUTTlSS21pQmM/edit\n",
        "# it's 1.9GB in size.\n",
        "\n",
        "\n",
        "# http://kavita-ganesan.com/gensim-word2vec-tutorial-starter-code/#.W17SRFAzZPY\n",
        "# you can comment this whole cell\n",
        "# or change these varible according to your need\n",
        "\n",
        "is_your_ram_gt_16g=False\n",
        "want_to_use_google_w2v = False\n",
        "want_to_train_w2v = True\n",
        "\n",
        "if want_to_train_w2v:\n",
        "    # min_count = 5 considers only words that occured atleast 5 times\n",
        "    train_w2v_model=Word2Vec(list_of_sentance,min_count=5,size=50, workers=4)\n",
        "    print(train_w2v_model.wv.most_similar('great'))\n",
        "    print('='*50)\n",
        "    print(train_w2v_model.wv.most_similar('worst'))\n",
        "    \n",
        "elif want_to_use_google_w2v and is_your_ram_gt_16g:\n",
        "    if os.path.isfile('GoogleNews-vectors-negative300.bin'):\n",
        "        train_w2v_model=KeyedVectors.load_word2vec_format('GoogleNews-vectors-negative300.bin', binary=True)\n",
        "        print(train_w2v_model.wv.most_similar('great'))\n",
        "        print(train_w2v_model.wv.most_similar('worst'))\n",
        "    else:\n",
        "        print(\"you don't have gogole's word2vec file, keep want_to_train_w2v = True, to train your own w2v \")"
      ],
      "execution_count": 0,
      "outputs": [
        {
          "output_type": "stream",
          "text": [
            "[('alternative', 0.9994263052940369), ('care', 0.9991533756256104), ('greasy', 0.9990972280502319), ('texture', 0.9990515112876892), ('fried', 0.9990097284317017), ('probably', 0.9990062713623047), ('amazing', 0.9989997148513794), ('popchips', 0.9989818334579468), ('crispy', 0.9989776015281677), ('although', 0.9989709258079529)]\n",
            "==================================================\n",
            "[('excellent', 0.9995973110198975), ('finally', 0.9995796084403992), ('house', 0.999567985534668), ('wanted', 0.9995512366294861), ('wonderful', 0.9995459914207458), ('part', 0.9995392560958862), ('cooking', 0.9995348453521729), ('yummy', 0.9995347857475281), ('ready', 0.9995336532592773), ('come', 0.9995273947715759)]\n"
          ],
          "name": "stdout"
        }
      ]
    },
    {
      "cell_type": "code",
      "metadata": {
        "id": "hTiK-q0NDYMN",
        "colab_type": "code",
        "outputId": "57ecf1fb-fb35-4608-fea4-24b097c5f954",
        "colab": {
          "base_uri": "https://localhost:8080/"
        }
      },
      "source": [
        "train_w2v_words = list(train_w2v_model.wv.vocab)\n",
        "print(\"number of words that occured minimum 5 times \",len(train_w2v_words))\n",
        "print(\"sample words \", train_w2v_words[0:50])"
      ],
      "execution_count": 0,
      "outputs": [
        {
          "output_type": "stream",
          "text": [
            "number of words that occured minimum 5 times  3125\n",
            "sample words  ['lb', 'dog', 'never', 'refused', 'eat', 'newman', 'organic', 'glad', 'pet', 'food', 'made', 'without', 'junk', 'feed', 'quick', 'convenient', 'way', 'drink', 'green', 'tea', 'add', 'lemon', 'juice', 'stevia', 'steal', 'make', 'lot', 'gingerbread', 'cookies', 'holidays', 'large', 'ones', 'long', 'bag', 'bags', 'look', 'like', 'bought', 'store', 'best', 'cheap', 'weight', 'watcher', 'months', 'lost', 'pounds', 'important', 'part', 'watchers', 'find']\n"
          ],
          "name": "stdout"
        }
      ]
    },
    {
      "cell_type": "code",
      "metadata": {
        "id": "ZBwbT_QpRsrM",
        "colab_type": "code",
        "colab": {}
      },
      "source": [
        "#For X_test\n",
        "i=0\n",
        "test_list_of_sentance=[]\n",
        "for sentance in X_test:\n",
        "    test_list_of_sentance.append(sentance.split())"
      ],
      "execution_count": 0,
      "outputs": []
    },
    {
      "cell_type": "code",
      "metadata": {
        "id": "ED0KBAweRsni",
        "colab_type": "code",
        "outputId": "798790de-0fb2-4b78-a8e4-98362e512da1",
        "colab": {
          "base_uri": "https://localhost:8080/"
        }
      },
      "source": [
        "is_your_ram_gt_16g=False\n",
        "want_to_use_google_w2v = False\n",
        "want_to_train_w2v = True\n",
        "\n",
        "if want_to_train_w2v:\n",
        "    # min_count = 5 considers only words that occured atleast 5 times\n",
        "    test_w2v_model=Word2Vec(list_of_sentance,min_count=5,size=50, workers=4)\n",
        "    print(test_w2v_model.wv.most_similar('great'))\n",
        "    print('='*50)\n",
        "    print(test_w2v_model.wv.most_similar('worst'))\n",
        "    \n",
        "elif want_to_use_google_w2v and is_your_ram_gt_16g:\n",
        "    if os.path.isfile('GoogleNews-vectors-negative300.bin'):\n",
        "        test_w2v_model=KeyedVectors.load_word2vec_format('GoogleNews-vectors-negative300.bin', binary=True)\n",
        "        print(test_w2v_model.wv.most_similar('great'))\n",
        "        print(test_w2v_model.wv.most_similar('worst'))\n",
        "    else:\n",
        "        print(\"you don't have gogole's word2vec file, keep want_to_train_w2v = True, to train your own w2v \")"
      ],
      "execution_count": 0,
      "outputs": [
        {
          "output_type": "stream",
          "text": [
            "[('easy', 0.9998840689659119), ('get', 0.9998803734779358), ('little', 0.9998750686645508), ('best', 0.9998748898506165), ('also', 0.9998738169670105), ('use', 0.9998735189437866), ('right', 0.9998729228973389), ('without', 0.9998709559440613), ('make', 0.9998688697814941), ('found', 0.9998682141304016)]\n",
            "==================================================\n",
            "[('pass', 0.9946870803833008), ('weak', 0.9946801662445068), ('cakes', 0.9946449398994446), ('raw', 0.9945597648620605), ('leave', 0.9945183396339417), ('jalapeno', 0.9944760203361511), ('cheddar', 0.9944660067558289), ('means', 0.9944522380828857), ('unique', 0.9944308996200562), ('molasses', 0.9944264888763428)]\n"
          ],
          "name": "stdout"
        }
      ]
    },
    {
      "cell_type": "code",
      "metadata": {
        "id": "KQwhvaLuRsi7",
        "colab_type": "code",
        "outputId": "06816165-995d-478a-fbc0-57b7cf4dd3c4",
        "colab": {
          "base_uri": "https://localhost:8080/"
        }
      },
      "source": [
        "test_w2v_words = list(test_w2v_model.wv.vocab)\n",
        "print(\"number of words that occured minimum 5 times \",len(test_w2v_words))\n",
        "print(\"sample words \", test_w2v_words[0:50])"
      ],
      "execution_count": 0,
      "outputs": [
        {
          "output_type": "stream",
          "text": [
            "number of words that occured minimum 5 times  1833\n",
            "sample words  ['ordered', 'friend', 'south', 'christmas', 'want', 'try', 'italian', 'chocolates', 'lol', 'item', 'arrived', 'earlier', 'expected', 'well', 'packed', 'mouth', 'totally', 'loves', 'three', 'different', 'taste', 'flavors', 'give', 'yummy', 'feeding', 'wellness', 'grain', 'free', 'couple', 'years', 'great', 'results', 'cats', 'believe', 'cost', 'top', 'quality', 'food', 'worth', 'healthy', 'happy', 'reduced', 'vet', 'still', 'excited', 'see', 'felidae', 'formula', 'larger', 'sized']\n"
          ],
          "name": "stdout"
        }
      ]
    },
    {
      "cell_type": "code",
      "metadata": {
        "id": "6kwhM4UiRseI",
        "colab_type": "code",
        "outputId": "b5caf835-8178-476c-a595-ef1cd5854b4a",
        "colab": {
          "base_uri": "https://localhost:8080/"
        }
      },
      "source": [
        "print(len(train_w2v_words), len(test_w2v_words))"
      ],
      "execution_count": 0,
      "outputs": [
        {
          "output_type": "stream",
          "text": [
            "3125 1833\n"
          ],
          "name": "stdout"
        }
      ]
    },
    {
      "cell_type": "markdown",
      "metadata": {
        "id": "cse_ZlapDYMX",
        "colab_type": "text"
      },
      "source": [
        "## [4.4.1] Converting text into vectors using Avg W2V, TFIDF-W2V"
      ]
    },
    {
      "cell_type": "markdown",
      "metadata": {
        "id": "3H0BUlYEDYMY",
        "colab_type": "text"
      },
      "source": [
        "#### [4.4.1.1] Avg W2v"
      ]
    },
    {
      "cell_type": "code",
      "metadata": {
        "id": "czBD_JcEDYMY",
        "colab_type": "code",
        "outputId": "44183f52-dcd0-4d92-c30f-a28c4302535e",
        "colab": {
          "base_uri": "https://localhost:8080/",
          "height": 69
        }
      },
      "source": [
        "# average Word2Vec\n",
        "# compute average word2vec for each review.\n",
        "train_vectors = []; # the avg-w2v for each sentence/review is stored in this list\n",
        "for sent in tqdm(train_list_of_sentance): # for each review/sentence\n",
        "    train_vec = np.zeros(50) # as word vectors are of zero length 50, you might need to change this to 300 if you use google's w2v\n",
        "    cnt_words =0; # num of words with a valid vector in the sentence/review\n",
        "    for word in sent: # for each word in a review/sentence\n",
        "        if word in train_w2v_words:\n",
        "            vec = train_w2v_model.wv[word]\n",
        "            train_vec += vec\n",
        "            cnt_words += 1\n",
        "    if cnt_words != 0:\n",
        "        train_vec /= cnt_words\n",
        "    train_vectors.append(train_vec)\n",
        "print(len(train_vectors))\n",
        "print(len(train_vectors[0]))"
      ],
      "execution_count": 0,
      "outputs": [
        {
          "output_type": "stream",
          "text": [
            "100%|██████████| 3490/3490 [00:02<00:00, 1353.63it/s]"
          ],
          "name": "stderr"
        },
        {
          "output_type": "stream",
          "text": [
            "3490\n",
            "50\n"
          ],
          "name": "stdout"
        },
        {
          "output_type": "stream",
          "text": [
            "\n"
          ],
          "name": "stderr"
        }
      ]
    },
    {
      "cell_type": "code",
      "metadata": {
        "id": "aYZ4mAzbhc5t",
        "colab_type": "code",
        "outputId": "48f9da0c-8a49-4238-8ae5-3783034cada9",
        "colab": {
          "base_uri": "https://localhost:8080/",
          "height": 69
        }
      },
      "source": [
        "test_vectors = []; \n",
        "for sent in tqdm(test_list_of_sentance): \n",
        "    test_vec = np.zeros(50) \n",
        "    cnt_words =0; \n",
        "    for word in sent: \n",
        "        if word in test_w2v_words:\n",
        "            vec = test_w2v_model.wv[word]\n",
        "            test_vec += vec\n",
        "            cnt_words += 1\n",
        "    if cnt_words != 0:\n",
        "        test_vec /= cnt_words\n",
        "    test_vectors.append(test_vec)\n",
        "print(len(test_vectors))\n",
        "print(len(test_vectors[0]))"
      ],
      "execution_count": 0,
      "outputs": [
        {
          "output_type": "stream",
          "text": [
            "100%|██████████| 1496/1496 [00:00<00:00, 1770.93it/s]"
          ],
          "name": "stderr"
        },
        {
          "output_type": "stream",
          "text": [
            "1496\n",
            "50\n"
          ],
          "name": "stdout"
        },
        {
          "output_type": "stream",
          "text": [
            "\n"
          ],
          "name": "stderr"
        }
      ]
    },
    {
      "cell_type": "code",
      "metadata": {
        "id": "MHnIbwsRh_ls",
        "colab_type": "code",
        "colab": {}
      },
      "source": [
        "X_train = train_vectors\n",
        "X_test = test_vectors"
      ],
      "execution_count": 0,
      "outputs": []
    },
    {
      "cell_type": "markdown",
      "metadata": {
        "id": "ZKhyFyhmDYMd",
        "colab_type": "text"
      },
      "source": [
        "#### [4.4.1.2] TFIDF weighted W2v"
      ]
    },
    {
      "cell_type": "code",
      "metadata": {
        "id": "IqHYV-uKj8_J",
        "colab_type": "code",
        "outputId": "72b28129-b4c3-434c-e4ce-9415b203e1ad",
        "colab": {
          "base_uri": "https://localhost:8080/",
          "height": 34
        }
      },
      "source": [
        "X_train, X_test, Y_train, Y_test = train_test_split(\n",
        "    sample_points, labels, test_size=0.3)\n",
        "print(len(X_train), len(X_test), len(Y_train), len(Y_test))"
      ],
      "execution_count": 0,
      "outputs": [
        {
          "output_type": "stream",
          "text": [
            "3490 1496 3490 1496\n"
          ],
          "name": "stdout"
        }
      ]
    },
    {
      "cell_type": "code",
      "metadata": {
        "id": "2UmpXW92DYMe",
        "colab_type": "code",
        "colab": {}
      },
      "source": [
        "# S = [\"abc def pqr\", \"def def def abc\", \"pqr pqr def\"]\n",
        "model = TfidfVectorizer()\n",
        "train_tf_idf_matrix = model.fit_transform(X_train)\n",
        "# we are converting a dictionary with word as a key, and the idf as a value\n",
        "dictionary = dict(zip(model.get_feature_names(), list(model.idf_)))"
      ],
      "execution_count": 0,
      "outputs": []
    },
    {
      "cell_type": "code",
      "metadata": {
        "scrolled": true,
        "id": "yJgfDSnUDYMk",
        "colab_type": "code",
        "outputId": "a40a7fbf-1f59-45bc-d3db-2bc05ddb690b",
        "colab": {
          "base_uri": "https://localhost:8080/",
          "height": 34
        }
      },
      "source": [
        "# TF-IDF weighted Word2Vec\n",
        "tfidf_feat = model.get_feature_names() # tfidf words/col-names\n",
        "# final_tf_idf is the sparse matrix with row= sentence, col=word and cell_val = tfidf\n",
        "\n",
        "train_tfidf_sent_vectors = []; # the tfidf-w2v for each sentence/review is stored in this list\n",
        "row=0;\n",
        "for sent in tqdm(train_list_of_sentance): # for each review/sentence \n",
        "    sent_vec = np.zeros(50) # as word vectors are of zero length\n",
        "    weight_sum =0; # num of words with a valid vector in the sentence/review\n",
        "    for word in sent: # for each word in a review/sentence\n",
        "        if word in train_w2v_words and word in tfidf_feat:\n",
        "            vec = train_w2v_model.wv[word]\n",
        "#             tf_idf = tf_idf_matrix[row, tfidf_feat.index(word)]\n",
        "            # to reduce the computation we are \n",
        "            # dictionary[word] = idf value of word in whole courpus\n",
        "            # sent.count(word) = tf valeus of word in this review\n",
        "            tf_idf = dictionary[word]*(sent.count(word)/len(sent))\n",
        "            sent_vec += (vec * tf_idf)\n",
        "            weight_sum += tf_idf\n",
        "    if weight_sum != 0:\n",
        "        sent_vec /= weight_sum\n",
        "    train_tfidf_sent_vectors.append(sent_vec)\n",
        "    row += 1"
      ],
      "execution_count": 0,
      "outputs": [
        {
          "output_type": "stream",
          "text": [
            "100%|██████████| 3490/3490 [00:18<00:00, 191.93it/s]\n"
          ],
          "name": "stderr"
        }
      ]
    },
    {
      "cell_type": "code",
      "metadata": {
        "id": "fK5HdrWNmCjH",
        "colab_type": "code",
        "colab": {}
      },
      "source": [
        "#For test part\n",
        "tmodel = TfidfVectorizer()\n",
        "test_tf_idf_matrix = tmodel.fit_transform(X_test)\n",
        "dictionary = dict(zip(tmodel.get_feature_names(), list(tmodel.idf_)))"
      ],
      "execution_count": 0,
      "outputs": []
    },
    {
      "cell_type": "code",
      "metadata": {
        "id": "vo2lUHTvmCgS",
        "colab_type": "code",
        "outputId": "c94675a5-cdb0-48e2-cec9-97a13ea2d166",
        "colab": {
          "base_uri": "https://localhost:8080/",
          "height": 34
        }
      },
      "source": [
        "tfidf_feat = tmodel.get_feature_names()\n",
        "\n",
        "test_tfidf_sent_vectors = []; \n",
        "row=0;\n",
        "for sent in tqdm(test_list_of_sentance): \n",
        "    sent_vec = np.zeros(50) \n",
        "    weight_sum =0; \n",
        "    for word in sent: \n",
        "        if word in test_w2v_words and word in tfidf_feat:\n",
        "            vec = test_w2v_model.wv[word]             \n",
        "            tf_idf = dictionary[word]*(sent.count(word)/len(sent))\n",
        "            sent_vec += (vec * tf_idf)\n",
        "            weight_sum += tf_idf\n",
        "    if weight_sum != 0:\n",
        "        sent_vec /= weight_sum\n",
        "    test_tfidf_sent_vectors.append(sent_vec)\n",
        "    row += 1"
      ],
      "execution_count": 0,
      "outputs": [
        {
          "output_type": "stream",
          "text": [
            "100%|██████████| 1496/1496 [00:04<00:00, 318.05it/s]\n"
          ],
          "name": "stderr"
        }
      ]
    },
    {
      "cell_type": "code",
      "metadata": {
        "id": "J0ZRmvsgmI4R",
        "colab_type": "code",
        "colab": {}
      },
      "source": [
        "X_train = train_tfidf_sent_vectors\n",
        "X_test = test_tfidf_sent_vectors"
      ],
      "execution_count": 0,
      "outputs": []
    },
    {
      "cell_type": "markdown",
      "metadata": {
        "id": "grP7WVsuDYMp",
        "colab_type": "text"
      },
      "source": [
        "# [5] Assignment 3: KNN"
      ]
    },
    {
      "cell_type": "markdown",
      "metadata": {
        "id": "ysQgMV4SDYMq",
        "colab_type": "text"
      },
      "source": [
        "<ol>\n",
        "    <li><strong>Apply Knn(brute force version) on these feature sets</strong>\n",
        "        <ul>\n",
        "            <li><font color='red'>SET 1:</font>Review text, preprocessed one converted into vectors using (BOW)</li>\n",
        "            <li><font color='red'>SET 2:</font>Review text, preprocessed one converted into vectors using (TFIDF)</li>\n",
        "            <li><font color='red'>SET 3:</font>Review text, preprocessed one converted into vectors using (AVG W2v)</li>\n",
        "            <li><font color='red'>SET 4:</font>Review text, preprocessed one converted into vectors using (TFIDF W2v)</li>\n",
        "        </ul>\n",
        "    </li>\n",
        "    <br>\n",
        "    <li><strong>Apply Knn(kd tree version) on these feature sets</strong>\n",
        "        <br><font color='red'>NOTE: </font>sklearn implementation of kd-tree accepts only dense matrices, you need to convert the sparse matrices of CountVectorizer/TfidfVectorizer into dense matices. You can convert sparse matrices to dense using .toarray() attribute. For more information please visit this <a href='https://docs.scipy.org/doc/scipy-0.18.1/reference/generated/scipy.sparse.csr_matrix.toarray.html'>link</a>\n",
        "        <ul>\n",
        "            <li><font color='red'>SET 5:</font>Review text, preprocessed one converted into vectors using (BOW) but with restriction on maximum features generated.\n",
        "            <pre>\n",
        "            count_vect = CountVectorizer(min_df=10, max_features=500) \n",
        "            count_vect.fit(preprocessed_reviews)\n",
        "            </pre>\n",
        "            </li>\n",
        "            <li><font color='red'>SET 6:</font>Review text, preprocessed one converted into vectors using (TFIDF) but with restriction on maximum features generated.\n",
        "            <pre>\n",
        "                tf_idf_vect = TfidfVectorizer(min_df=10, max_features=500)\n",
        "                tf_idf_vect.fit(preprocessed_reviews)\n",
        "            </pre>\n",
        "            </li>\n",
        "            <li><font color='red'>SET 3:</font>Review text, preprocessed one converted into vectors using (AVG W2v)</li>\n",
        "            <li><font color='red'>SET 4:</font>Review text, preprocessed one converted into vectors using (TFIDF W2v)</li>\n",
        "        </ul>\n",
        "    </li>\n",
        "    <br>\n",
        "    <li><strong>The hyper paramter tuning(find best K)</strong>\n",
        "        <ul>\n",
        "    <li>Find the best hyper parameter which will give the maximum <a href='https://www.appliedaicourse.com/course/applied-ai-course-online/lessons/receiver-operating-characteristic-curve-roc-curve-and-auc-1/'>AUC</a> value</li>\n",
        "    <li>Find the best hyper paramter using k-fold cross validation or simple cross validation data</li>\n",
        "    <li>Use gridsearch cv or randomsearch cv or you can also write your own for loops to do this task of hyperparameter tuning</li>\n",
        "        </ul>\n",
        "    </li>\n",
        "    <br>\n",
        "    <li>\n",
        "    <strong>Representation of results</strong>\n",
        "        <ul>\n",
        "    <li>You need to plot the performance of model both on train data and cross validation data for each hyper parameter, like shown in the figure\n",
        "    <img src='train_cv_auc.JPG' width=300px></li>\n",
        "    <li>Once after you found the best hyper parameter, you need to train your model with it, and find the AUC on test data and plot the ROC curve on both train and test.\n",
        "    <img src='train_test_auc.JPG' width=300px></li>\n",
        "    <li>Along with plotting ROC curve, you need to print the <a href='https://www.appliedaicourse.com/course/applied-ai-course-online/lessons/confusion-matrix-tpr-fpr-fnr-tnr-1/'>confusion matrix</a> with predicted and original labels of test data points\n",
        "    <img src='confusion_matrix.png' width=300px></li>\n",
        "        </ul>\n",
        "    </li>\n",
        "    <br>\n",
        "    <li><strong>Conclusion</strong>\n",
        "        <ul>\n",
        "    <li>You need to summarize the results at the end of the notebook, summarize it in the table format. To print out a table please refer to this prettytable library<a href='http://zetcode.com/python/prettytable/'> link</a> \n",
        "        <img src='summary.JPG' width=400px>\n",
        "    </li>\n",
        "        </ul>\n",
        "</ol>"
      ]
    },
    {
      "cell_type": "markdown",
      "metadata": {
        "id": "juYtRIKQDYMr",
        "colab_type": "text"
      },
      "source": [
        "<h4><font color='red'>Note: Data Leakage</font></h4>\n",
        "\n",
        "1. There will be an issue of data-leakage if you vectorize the entire data and then split it into train/cv/test.\n",
        "2. To avoid the issue of data-leakag, make sure to split your data first and then vectorize it. \n",
        "3. While vectorizing your data, apply the method fit_transform() on you train data, and apply the method transform() on cv/test data.\n",
        "4. For more details please go through this <a href='https://soundcloud.com/applied-ai-course/leakage-bow-and-tfidf'>link.</a>"
      ]
    },
    {
      "cell_type": "markdown",
      "metadata": {
        "id": "WEbTAOWHDYMu",
        "colab_type": "text"
      },
      "source": [
        "## [5.1] Applying KNN brute force"
      ]
    },
    {
      "cell_type": "markdown",
      "metadata": {
        "id": "ArO5fI7kDYMv",
        "colab_type": "text"
      },
      "source": [
        "### [5.1.1] Applying KNN brute force on BOW,<font color='red'> SET 1</font>"
      ]
    },
    {
      "cell_type": "code",
      "metadata": {
        "id": "oKeJ4h7in8bV",
        "colab_type": "code",
        "outputId": "3360aa24-8aed-4199-fc3b-9a8b93419d69",
        "colab": {
          "base_uri": "https://localhost:8080/"
        }
      },
      "source": [
        "final[final['Score'] == 1]"
      ],
      "execution_count": 0,
      "outputs": [
        {
          "output_type": "execute_result",
          "data": {
            "text/html": [
              "<div>\n",
              "<style scoped>\n",
              "    .dataframe tbody tr th:only-of-type {\n",
              "        vertical-align: middle;\n",
              "    }\n",
              "\n",
              "    .dataframe tbody tr th {\n",
              "        vertical-align: top;\n",
              "    }\n",
              "\n",
              "    .dataframe thead th {\n",
              "        text-align: right;\n",
              "    }\n",
              "</style>\n",
              "<table border=\"1\" class=\"dataframe\">\n",
              "  <thead>\n",
              "    <tr style=\"text-align: right;\">\n",
              "      <th></th>\n",
              "      <th>Id</th>\n",
              "      <th>ProductId</th>\n",
              "      <th>UserId</th>\n",
              "      <th>ProfileName</th>\n",
              "      <th>HelpfulnessNumerator</th>\n",
              "      <th>HelpfulnessDenominator</th>\n",
              "      <th>Score</th>\n",
              "      <th>Time</th>\n",
              "      <th>Summary</th>\n",
              "      <th>Text</th>\n",
              "    </tr>\n",
              "  </thead>\n",
              "  <tbody>\n",
              "    <tr>\n",
              "      <th>2546</th>\n",
              "      <td>2774</td>\n",
              "      <td>B00002NCJC</td>\n",
              "      <td>A196AJHU9EASJN</td>\n",
              "      <td>Alex Chaffee</td>\n",
              "      <td>0</td>\n",
              "      <td>0</td>\n",
              "      <td>1</td>\n",
              "      <td>1282953600</td>\n",
              "      <td>thirty bucks?</td>\n",
              "      <td>Why is this $[...] when the same product is av...</td>\n",
              "    </tr>\n",
              "    <tr>\n",
              "      <th>2547</th>\n",
              "      <td>2775</td>\n",
              "      <td>B00002NCJC</td>\n",
              "      <td>A13RRPGE79XFFH</td>\n",
              "      <td>reader48</td>\n",
              "      <td>0</td>\n",
              "      <td>0</td>\n",
              "      <td>1</td>\n",
              "      <td>1281052800</td>\n",
              "      <td>Flies Begone</td>\n",
              "      <td>We have used the Victor fly bait for 3 seasons...</td>\n",
              "    </tr>\n",
              "    <tr>\n",
              "      <th>1145</th>\n",
              "      <td>1244</td>\n",
              "      <td>B00002Z754</td>\n",
              "      <td>A3B8RCEI0FXFI6</td>\n",
              "      <td>B G Chase</td>\n",
              "      <td>10</td>\n",
              "      <td>10</td>\n",
              "      <td>1</td>\n",
              "      <td>962236800</td>\n",
              "      <td>WOW Make your own 'slickers' !</td>\n",
              "      <td>I just received my shipment and could hardly w...</td>\n",
              "    </tr>\n",
              "    <tr>\n",
              "      <th>1146</th>\n",
              "      <td>1245</td>\n",
              "      <td>B00002Z754</td>\n",
              "      <td>A29Z5PI9BW2PU3</td>\n",
              "      <td>Robbie</td>\n",
              "      <td>7</td>\n",
              "      <td>7</td>\n",
              "      <td>1</td>\n",
              "      <td>961718400</td>\n",
              "      <td>Great Product</td>\n",
              "      <td>This was a really good idea and the final prod...</td>\n",
              "    </tr>\n",
              "    <tr>\n",
              "      <th>2942</th>\n",
              "      <td>3204</td>\n",
              "      <td>B000084DVR</td>\n",
              "      <td>A1UGDJP1ZJWVPF</td>\n",
              "      <td>T. Moore \"thoughtful reader\"</td>\n",
              "      <td>1</td>\n",
              "      <td>1</td>\n",
              "      <td>1</td>\n",
              "      <td>1177977600</td>\n",
              "      <td>Good stuff!</td>\n",
              "      <td>I'm glad my 45lb cocker/standard poodle puppy ...</td>\n",
              "    </tr>\n",
              "    <tr>\n",
              "      <th>2941</th>\n",
              "      <td>3203</td>\n",
              "      <td>B000084DVR</td>\n",
              "      <td>A3DKGXWUEP1AI2</td>\n",
              "      <td>Glenna E. Bauer \"Puppy Mum\"</td>\n",
              "      <td>3</td>\n",
              "      <td>3</td>\n",
              "      <td>1</td>\n",
              "      <td>1163030400</td>\n",
              "      <td>Premium Quality Dog Food!!!</td>\n",
              "      <td>We have been using this food for about 6 month...</td>\n",
              "    </tr>\n",
              "    <tr>\n",
              "      <th>1071</th>\n",
              "      <td>1161</td>\n",
              "      <td>B000084E1U</td>\n",
              "      <td>A3DH85EYHW4AQH</td>\n",
              "      <td>Eric Hochman</td>\n",
              "      <td>1</td>\n",
              "      <td>1</td>\n",
              "      <td>1</td>\n",
              "      <td>1140739200</td>\n",
              "      <td>Cats love it!</td>\n",
              "      <td>I have nine cats and they are crazy about thes...</td>\n",
              "    </tr>\n",
              "    <tr>\n",
              "      <th>2187</th>\n",
              "      <td>2380</td>\n",
              "      <td>B0000CGFV4</td>\n",
              "      <td>A3LSUKN4IFS6VD</td>\n",
              "      <td>Internet Diva</td>\n",
              "      <td>0</td>\n",
              "      <td>0</td>\n",
              "      <td>1</td>\n",
              "      <td>1312416000</td>\n",
              "      <td>Nice, Big Pieces &amp; Big Almond Flavor</td>\n",
              "      <td>These were shipped out the day after I ordered...</td>\n",
              "    </tr>\n",
              "    <tr>\n",
              "      <th>4695</th>\n",
              "      <td>5097</td>\n",
              "      <td>B0000D94SZ</td>\n",
              "      <td>A2R91PG1XPNO0B</td>\n",
              "      <td>Kotton Kandee \"not so secretshopper\"</td>\n",
              "      <td>4</td>\n",
              "      <td>4</td>\n",
              "      <td>1</td>\n",
              "      <td>1184198400</td>\n",
              "      <td>A Summer Treat Fat Free, Guilt Free</td>\n",
              "      <td>This mix is probably not something you would w...</td>\n",
              "    </tr>\n",
              "    <tr>\n",
              "      <th>2806</th>\n",
              "      <td>3053</td>\n",
              "      <td>B0000E65W9</td>\n",
              "      <td>A1GJ37VZOZ6S1W</td>\n",
              "      <td>S. Jettlund \"mamaknows2much\"</td>\n",
              "      <td>0</td>\n",
              "      <td>0</td>\n",
              "      <td>1</td>\n",
              "      <td>1308700800</td>\n",
              "      <td>A Staple in my house</td>\n",
              "      <td>I use these to keep my finicky toddler's prote...</td>\n",
              "    </tr>\n",
              "    <tr>\n",
              "      <th>2805</th>\n",
              "      <td>3052</td>\n",
              "      <td>B0000E65W9</td>\n",
              "      <td>A1GYEGLX3P2Y7P</td>\n",
              "      <td>Shala Kerrigan</td>\n",
              "      <td>1</td>\n",
              "      <td>1</td>\n",
              "      <td>1</td>\n",
              "      <td>1287187200</td>\n",
              "      <td>A favorite quick meal solution</td>\n",
              "      <td>When we get very busy in our home, I like this...</td>\n",
              "    </tr>\n",
              "    <tr>\n",
              "      <th>4099</th>\n",
              "      <td>4443</td>\n",
              "      <td>B0000GGI00</td>\n",
              "      <td>A2D16Q29G5S0E9</td>\n",
              "      <td>Jim \"highaltitudelowopening\"</td>\n",
              "      <td>0</td>\n",
              "      <td>0</td>\n",
              "      <td>1</td>\n",
              "      <td>1339113600</td>\n",
              "      <td>Best Hot Sauce and Taco Sauce Available In Ame...</td>\n",
              "      <td>This company is an American Classic been in bu...</td>\n",
              "    </tr>\n",
              "    <tr>\n",
              "      <th>4096</th>\n",
              "      <td>4440</td>\n",
              "      <td>B0000GGI00</td>\n",
              "      <td>A21EHWHI9XQY10</td>\n",
              "      <td>D. J. Walters</td>\n",
              "      <td>4</td>\n",
              "      <td>4</td>\n",
              "      <td>1</td>\n",
              "      <td>1245456000</td>\n",
              "      <td>Pico Pica ... the BEST</td>\n",
              "      <td>I love Pico Pica.  It adds some flavor, and it...</td>\n",
              "    </tr>\n",
              "    <tr>\n",
              "      <th>4097</th>\n",
              "      <td>4441</td>\n",
              "      <td>B0000GGI00</td>\n",
              "      <td>A23EN4MZKDZIDV</td>\n",
              "      <td>AlwaysFlying</td>\n",
              "      <td>1</td>\n",
              "      <td>1</td>\n",
              "      <td>1</td>\n",
              "      <td>1347408000</td>\n",
              "      <td>This is the stuff!</td>\n",
              "      <td>Thank goodness for MexGrocer. We love this Pic...</td>\n",
              "    </tr>\n",
              "    <tr>\n",
              "      <th>4098</th>\n",
              "      <td>4442</td>\n",
              "      <td>B0000GGI00</td>\n",
              "      <td>A2VBTN6ZR67YOF</td>\n",
              "      <td>Mike Jacobs</td>\n",
              "      <td>1</td>\n",
              "      <td>1</td>\n",
              "      <td>1</td>\n",
              "      <td>1344729600</td>\n",
              "      <td>What everyone is saying here about Pico Pica i...</td>\n",
              "      <td>This is a very different sauce - nothing like ...</td>\n",
              "    </tr>\n",
              "    <tr>\n",
              "      <th>1330</th>\n",
              "      <td>1437</td>\n",
              "      <td>B0000VLH8S</td>\n",
              "      <td>A3OX1UNG90U0G0</td>\n",
              "      <td>S. Woodcock</td>\n",
              "      <td>2</td>\n",
              "      <td>2</td>\n",
              "      <td>1</td>\n",
              "      <td>1229472000</td>\n",
              "      <td>shining star</td>\n",
              "      <td>i purchased this item for a cake that called f...</td>\n",
              "    </tr>\n",
              "    <tr>\n",
              "      <th>1329</th>\n",
              "      <td>1436</td>\n",
              "      <td>B0000VLH8S</td>\n",
              "      <td>A3NNFYRW6UOVMH</td>\n",
              "      <td>John M. Bloom \"dmetrixavier\"</td>\n",
              "      <td>5</td>\n",
              "      <td>5</td>\n",
              "      <td>1</td>\n",
              "      <td>1214265600</td>\n",
              "      <td>The Inexpensive Alternative to Gold Leaf!</td>\n",
              "      <td>I have used this product multiple times.  In f...</td>\n",
              "    </tr>\n",
              "    <tr>\n",
              "      <th>1328</th>\n",
              "      <td>1435</td>\n",
              "      <td>B0000VLH8S</td>\n",
              "      <td>A1HPPPBBMZD78K</td>\n",
              "      <td>Judy J. Blaskowski \"Coauthor of The Step Dyna...</td>\n",
              "      <td>6</td>\n",
              "      <td>6</td>\n",
              "      <td>1</td>\n",
              "      <td>1175644800</td>\n",
              "      <td>Create Exquisite Cake Decorations</td>\n",
              "      <td>I used Super Gold Luster Dust to create the mo...</td>\n",
              "    </tr>\n",
              "    <tr>\n",
              "      <th>1331</th>\n",
              "      <td>1438</td>\n",
              "      <td>B0000VLH8S</td>\n",
              "      <td>APZ1KMTD4SNB9</td>\n",
              "      <td>C. Dembosky</td>\n",
              "      <td>2</td>\n",
              "      <td>2</td>\n",
              "      <td>1</td>\n",
              "      <td>1219968000</td>\n",
              "      <td>gold dust is awesome</td>\n",
              "      <td>This product allows me to make some really big...</td>\n",
              "    </tr>\n",
              "    <tr>\n",
              "      <th>4320</th>\n",
              "      <td>4695</td>\n",
              "      <td>B0000VMBDI</td>\n",
              "      <td>ATU8547UX4G9F</td>\n",
              "      <td>J. Jackson</td>\n",
              "      <td>0</td>\n",
              "      <td>0</td>\n",
              "      <td>1</td>\n",
              "      <td>1348444800</td>\n",
              "      <td>Perfect for my sons cake.</td>\n",
              "      <td>This was a cute, affordable set for my 2 y/o s...</td>\n",
              "    </tr>\n",
              "    <tr>\n",
              "      <th>4321</th>\n",
              "      <td>4696</td>\n",
              "      <td>B0000VMBDI</td>\n",
              "      <td>A1LTDEUQUFK1WC</td>\n",
              "      <td>C. Goettel</td>\n",
              "      <td>0</td>\n",
              "      <td>0</td>\n",
              "      <td>1</td>\n",
              "      <td>1346544000</td>\n",
              "      <td>Really cute - made a great golf cake</td>\n",
              "      <td>I only used one green with it's ball, etc. wit...</td>\n",
              "    </tr>\n",
              "    <tr>\n",
              "      <th>4322</th>\n",
              "      <td>4697</td>\n",
              "      <td>B0000VMBDI</td>\n",
              "      <td>A3JMJEWINMCB2Y</td>\n",
              "      <td>Paul J. Smith</td>\n",
              "      <td>0</td>\n",
              "      <td>0</td>\n",
              "      <td>1</td>\n",
              "      <td>1323907200</td>\n",
              "      <td>Golf Set</td>\n",
              "      <td>&lt;a href=\"http://www.amazon.com/gp/product/B000...</td>\n",
              "    </tr>\n",
              "    <tr>\n",
              "      <th>4323</th>\n",
              "      <td>4698</td>\n",
              "      <td>B0000VMBDI</td>\n",
              "      <td>A1GFEFETAHX8DW</td>\n",
              "      <td>Bob E</td>\n",
              "      <td>0</td>\n",
              "      <td>0</td>\n",
              "      <td>1</td>\n",
              "      <td>1319587200</td>\n",
              "      <td>Cake Topper</td>\n",
              "      <td>The Golf \"set\" arrived quickly and was just as...</td>\n",
              "    </tr>\n",
              "    <tr>\n",
              "      <th>4054</th>\n",
              "      <td>4395</td>\n",
              "      <td>B0001217OA</td>\n",
              "      <td>A3F3B1JPACN215</td>\n",
              "      <td>Michael G. Lustig</td>\n",
              "      <td>2</td>\n",
              "      <td>2</td>\n",
              "      <td>1</td>\n",
              "      <td>1190332800</td>\n",
              "      <td>Fantastic</td>\n",
              "      <td>With all natural ingredients and no preservati...</td>\n",
              "    </tr>\n",
              "    <tr>\n",
              "      <th>2477</th>\n",
              "      <td>2696</td>\n",
              "      <td>B00015BQB6</td>\n",
              "      <td>A3KKDZEJGCK9OW</td>\n",
              "      <td>Catwoman \"Meow.\"</td>\n",
              "      <td>1</td>\n",
              "      <td>1</td>\n",
              "      <td>1</td>\n",
              "      <td>1273104000</td>\n",
              "      <td>Adzuki beans</td>\n",
              "      <td>Adzuki ( or Azuki) beans are ment to be used i...</td>\n",
              "    </tr>\n",
              "    <tr>\n",
              "      <th>2476</th>\n",
              "      <td>2695</td>\n",
              "      <td>B00015BQB6</td>\n",
              "      <td>A2QDPD1G95B99</td>\n",
              "      <td>W. Jackson</td>\n",
              "      <td>2</td>\n",
              "      <td>2</td>\n",
              "      <td>1</td>\n",
              "      <td>1226707200</td>\n",
              "      <td>Yum.</td>\n",
              "      <td>Good beans.  I can't find these in the grocery...</td>\n",
              "    </tr>\n",
              "    <tr>\n",
              "      <th>2478</th>\n",
              "      <td>2697</td>\n",
              "      <td>B00015BQB6</td>\n",
              "      <td>AK6IRH6UKVOO8</td>\n",
              "      <td>dax</td>\n",
              "      <td>1</td>\n",
              "      <td>1</td>\n",
              "      <td>1</td>\n",
              "      <td>1235520000</td>\n",
              "      <td>yummy</td>\n",
              "      <td>their not only good for you but their yummy.th...</td>\n",
              "    </tr>\n",
              "    <tr>\n",
              "      <th>2479</th>\n",
              "      <td>2698</td>\n",
              "      <td>B00015BQB6</td>\n",
              "      <td>A364G7X2C85G36</td>\n",
              "      <td>S. ANDERSON</td>\n",
              "      <td>0</td>\n",
              "      <td>0</td>\n",
              "      <td>1</td>\n",
              "      <td>1288569600</td>\n",
              "      <td>beans</td>\n",
              "      <td>Good stuff - like lentils you don't need to so...</td>\n",
              "    </tr>\n",
              "    <tr>\n",
              "      <th>3466</th>\n",
              "      <td>3768</td>\n",
              "      <td>B00016UX0K</td>\n",
              "      <td>A3RGPMAIZWNQLT</td>\n",
              "      <td>greycat</td>\n",
              "      <td>0</td>\n",
              "      <td>0</td>\n",
              "      <td>1</td>\n",
              "      <td>1310083200</td>\n",
              "      <td>Fabulous</td>\n",
              "      <td>This sauce is something of a permanent staple ...</td>\n",
              "    </tr>\n",
              "    <tr>\n",
              "      <th>3467</th>\n",
              "      <td>3769</td>\n",
              "      <td>B00016UX0K</td>\n",
              "      <td>A1FIJXX5LUYR4Q</td>\n",
              "      <td>katereviews</td>\n",
              "      <td>0</td>\n",
              "      <td>0</td>\n",
              "      <td>1</td>\n",
              "      <td>1309564800</td>\n",
              "      <td>AWESOME</td>\n",
              "      <td>not truly spicy my 2 year old loves this stuff...</td>\n",
              "    </tr>\n",
              "    <tr>\n",
              "      <th>...</th>\n",
              "      <td>...</td>\n",
              "      <td>...</td>\n",
              "      <td>...</td>\n",
              "      <td>...</td>\n",
              "      <td>...</td>\n",
              "      <td>...</td>\n",
              "      <td>...</td>\n",
              "      <td>...</td>\n",
              "      <td>...</td>\n",
              "      <td>...</td>\n",
              "    </tr>\n",
              "    <tr>\n",
              "      <th>2218</th>\n",
              "      <td>2411</td>\n",
              "      <td>B0089SPDUW</td>\n",
              "      <td>A2UKWK12MEF1RE</td>\n",
              "      <td>Mr. Fabio</td>\n",
              "      <td>0</td>\n",
              "      <td>0</td>\n",
              "      <td>1</td>\n",
              "      <td>1341446400</td>\n",
              "      <td>Great tasting coffee</td>\n",
              "      <td>I like the taste of this coffee. Tried the oth...</td>\n",
              "    </tr>\n",
              "    <tr>\n",
              "      <th>2219</th>\n",
              "      <td>2412</td>\n",
              "      <td>B0089SPDUW</td>\n",
              "      <td>AZG9NISRWJB6F</td>\n",
              "      <td>bridgebuddy</td>\n",
              "      <td>0</td>\n",
              "      <td>0</td>\n",
              "      <td>1</td>\n",
              "      <td>1341100800</td>\n",
              "      <td>Best Caribou</td>\n",
              "      <td>This is the best Caribou kcup if you like a da...</td>\n",
              "    </tr>\n",
              "    <tr>\n",
              "      <th>2213</th>\n",
              "      <td>2406</td>\n",
              "      <td>B0089SPDUW</td>\n",
              "      <td>A2M98NPVGQX2GK</td>\n",
              "      <td>Camille</td>\n",
              "      <td>0</td>\n",
              "      <td>0</td>\n",
              "      <td>1</td>\n",
              "      <td>1349827200</td>\n",
              "      <td>Coffee is good; name is good....</td>\n",
              "      <td>The name of this coffee is Mahogany, in my min...</td>\n",
              "    </tr>\n",
              "    <tr>\n",
              "      <th>2215</th>\n",
              "      <td>2408</td>\n",
              "      <td>B0089SPDUW</td>\n",
              "      <td>A1OZONYCJYYK1I</td>\n",
              "      <td>CoffeeLover</td>\n",
              "      <td>0</td>\n",
              "      <td>0</td>\n",
              "      <td>1</td>\n",
              "      <td>1347840000</td>\n",
              "      <td>Love Caribou!</td>\n",
              "      <td>I ordered the Mahogany Caribou Coffee K-Cups a...</td>\n",
              "    </tr>\n",
              "    <tr>\n",
              "      <th>2212</th>\n",
              "      <td>2405</td>\n",
              "      <td>B0089SPDUW</td>\n",
              "      <td>AA7STIIEST2HW</td>\n",
              "      <td>James Glenny</td>\n",
              "      <td>0</td>\n",
              "      <td>0</td>\n",
              "      <td>1</td>\n",
              "      <td>1350604800</td>\n",
              "      <td>down to almost none ....</td>\n",
              "      <td>my wife and I are avid Keurig coffee fans (wit...</td>\n",
              "    </tr>\n",
              "    <tr>\n",
              "      <th>2216</th>\n",
              "      <td>2409</td>\n",
              "      <td>B0089SPDUW</td>\n",
              "      <td>A1Z20CMOWLJ8I1</td>\n",
              "      <td>rrob4</td>\n",
              "      <td>0</td>\n",
              "      <td>0</td>\n",
              "      <td>1</td>\n",
              "      <td>1345248000</td>\n",
              "      <td>yum</td>\n",
              "      <td>This is a serious cup of joe. Yummyness!&lt;br /&gt;...</td>\n",
              "    </tr>\n",
              "    <tr>\n",
              "      <th>2217</th>\n",
              "      <td>2410</td>\n",
              "      <td>B0089SPDUW</td>\n",
              "      <td>ANF5SQBAP7GPG</td>\n",
              "      <td>Smokey &amp; the Bandit</td>\n",
              "      <td>0</td>\n",
              "      <td>0</td>\n",
              "      <td>1</td>\n",
              "      <td>1341792000</td>\n",
              "      <td>great coffee</td>\n",
              "      <td>this is maybe the greatest coffee ever made.  ...</td>\n",
              "    </tr>\n",
              "    <tr>\n",
              "      <th>677</th>\n",
              "      <td>729</td>\n",
              "      <td>B008BEGP9W</td>\n",
              "      <td>A2L0EIYNODCZ9U</td>\n",
              "      <td>good dog</td>\n",
              "      <td>0</td>\n",
              "      <td>0</td>\n",
              "      <td>1</td>\n",
              "      <td>1346371200</td>\n",
              "      <td>cute ,cute, cute!</td>\n",
              "      <td>So surprised to find the Taiwan-shaped pineapp...</td>\n",
              "    </tr>\n",
              "    <tr>\n",
              "      <th>678</th>\n",
              "      <td>730</td>\n",
              "      <td>B008BEGP9W</td>\n",
              "      <td>A1MJ0MF2OFIU4D</td>\n",
              "      <td>Chris</td>\n",
              "      <td>0</td>\n",
              "      <td>0</td>\n",
              "      <td>1</td>\n",
              "      <td>1340496000</td>\n",
              "      <td>A Surprising Find</td>\n",
              "      <td>I really like the pineapple shortcakes sold he...</td>\n",
              "    </tr>\n",
              "    <tr>\n",
              "      <th>3663</th>\n",
              "      <td>3980</td>\n",
              "      <td>B008EMA3AS</td>\n",
              "      <td>ABZL1Q5Y7EK9A</td>\n",
              "      <td>M. Heath \"Techno guy\"</td>\n",
              "      <td>1</td>\n",
              "      <td>1</td>\n",
              "      <td>1</td>\n",
              "      <td>1346198400</td>\n",
              "      <td>It's the best</td>\n",
              "      <td>I started using &lt;a href=\"http://www.amazon.com...</td>\n",
              "    </tr>\n",
              "    <tr>\n",
              "      <th>3662</th>\n",
              "      <td>3979</td>\n",
              "      <td>B008EMA3AS</td>\n",
              "      <td>A1TH877IIP7UHX</td>\n",
              "      <td>Karina Feld \"karina1999\"</td>\n",
              "      <td>2</td>\n",
              "      <td>2</td>\n",
              "      <td>1</td>\n",
              "      <td>1344729600</td>\n",
              "      <td>Huge Fan</td>\n",
              "      <td>I've been using Lourdes Chimichurri for years ...</td>\n",
              "    </tr>\n",
              "    <tr>\n",
              "      <th>3664</th>\n",
              "      <td>3981</td>\n",
              "      <td>B008EMA3AS</td>\n",
              "      <td>A199USG4MU1NWI</td>\n",
              "      <td>rtb521</td>\n",
              "      <td>0</td>\n",
              "      <td>0</td>\n",
              "      <td>1</td>\n",
              "      <td>1350000000</td>\n",
              "      <td>Awesome sauce!</td>\n",
              "      <td>I absolutely love this product!  I use it on c...</td>\n",
              "    </tr>\n",
              "    <tr>\n",
              "      <th>3580</th>\n",
              "      <td>3891</td>\n",
              "      <td>B008G01KM8</td>\n",
              "      <td>A1H1DVTIHXV3YE</td>\n",
              "      <td>Ryan D. Crompton</td>\n",
              "      <td>0</td>\n",
              "      <td>0</td>\n",
              "      <td>1</td>\n",
              "      <td>1348531200</td>\n",
              "      <td>Good Malta, baffling business model</td>\n",
              "      <td>I've never had Sunchy Malta before (I drank a ...</td>\n",
              "    </tr>\n",
              "    <tr>\n",
              "      <th>1110</th>\n",
              "      <td>1203</td>\n",
              "      <td>B008L19ZQ0</td>\n",
              "      <td>A2BN0B0CJQI3KP</td>\n",
              "      <td>RP</td>\n",
              "      <td>0</td>\n",
              "      <td>0</td>\n",
              "      <td>1</td>\n",
              "      <td>1334620800</td>\n",
              "      <td>Service was good</td>\n",
              "      <td>My item got to my house on time and I was surp...</td>\n",
              "    </tr>\n",
              "    <tr>\n",
              "      <th>1109</th>\n",
              "      <td>1202</td>\n",
              "      <td>B008L19ZQ0</td>\n",
              "      <td>A2P19WZ6WD2OZK</td>\n",
              "      <td>Brock</td>\n",
              "      <td>0</td>\n",
              "      <td>0</td>\n",
              "      <td>1</td>\n",
              "      <td>1346457600</td>\n",
              "      <td>I was able to eat bread again!</td>\n",
              "      <td>Since being gluten free I've tried all types o...</td>\n",
              "    </tr>\n",
              "    <tr>\n",
              "      <th>1108</th>\n",
              "      <td>1201</td>\n",
              "      <td>B008L19ZQ0</td>\n",
              "      <td>A1QQ60DX82BE3W</td>\n",
              "      <td>Lamb</td>\n",
              "      <td>1</td>\n",
              "      <td>1</td>\n",
              "      <td>1</td>\n",
              "      <td>1327795200</td>\n",
              "      <td>Love Taro</td>\n",
              "      <td>These are not as good at Houston's Samba Grill...</td>\n",
              "    </tr>\n",
              "    <tr>\n",
              "      <th>1107</th>\n",
              "      <td>1200</td>\n",
              "      <td>B008L19ZQ0</td>\n",
              "      <td>A306PAX3GWF5KV</td>\n",
              "      <td>Season Balik</td>\n",
              "      <td>2</td>\n",
              "      <td>2</td>\n",
              "      <td>1</td>\n",
              "      <td>1323993600</td>\n",
              "      <td>Delicious and easy</td>\n",
              "      <td>I made these recently for a holiday party.  I ...</td>\n",
              "    </tr>\n",
              "    <tr>\n",
              "      <th>1106</th>\n",
              "      <td>1199</td>\n",
              "      <td>B008L19ZQ0</td>\n",
              "      <td>A1N5M6H4GKNBG6</td>\n",
              "      <td>Shanna</td>\n",
              "      <td>2</td>\n",
              "      <td>2</td>\n",
              "      <td>1</td>\n",
              "      <td>1340409600</td>\n",
              "      <td>Favorite thing about Brazil</td>\n",
              "      <td>I spent the first five years of my life in Bra...</td>\n",
              "    </tr>\n",
              "    <tr>\n",
              "      <th>1232</th>\n",
              "      <td>1332</td>\n",
              "      <td>B008MMLXEK</td>\n",
              "      <td>A38MF3LIFBPX51</td>\n",
              "      <td>Jordan</td>\n",
              "      <td>0</td>\n",
              "      <td>0</td>\n",
              "      <td>1</td>\n",
              "      <td>1348617600</td>\n",
              "      <td>Delicous</td>\n",
              "      <td>Love this, dont use too much because it is str...</td>\n",
              "    </tr>\n",
              "    <tr>\n",
              "      <th>4714</th>\n",
              "      <td>5116</td>\n",
              "      <td>B008QXKU4O</td>\n",
              "      <td>A1NJXOUMOIY96X</td>\n",
              "      <td>nanahass</td>\n",
              "      <td>0</td>\n",
              "      <td>0</td>\n",
              "      <td>1</td>\n",
              "      <td>1350172800</td>\n",
              "      <td>Best Italian olive oil</td>\n",
              "      <td>This is the best olive oil not for cooking as ...</td>\n",
              "    </tr>\n",
              "    <tr>\n",
              "      <th>2013</th>\n",
              "      <td>2197</td>\n",
              "      <td>B008YAXFWI</td>\n",
              "      <td>AY12DBB0U420B</td>\n",
              "      <td>Gary Peterson</td>\n",
              "      <td>0</td>\n",
              "      <td>0</td>\n",
              "      <td>1</td>\n",
              "      <td>1346630400</td>\n",
              "      <td>Mild Taste, But Delicious.</td>\n",
              "      <td>A nearby Fresh and Easy Neighborhood Market st...</td>\n",
              "    </tr>\n",
              "    <tr>\n",
              "      <th>3271</th>\n",
              "      <td>3564</td>\n",
              "      <td>B0092XAMDQ</td>\n",
              "      <td>AM0VRGASSST2K</td>\n",
              "      <td>Ashley</td>\n",
              "      <td>1</td>\n",
              "      <td>1</td>\n",
              "      <td>1</td>\n",
              "      <td>1346976000</td>\n",
              "      <td>More for Me</td>\n",
              "      <td>This coffee is really rich, perfect in the mor...</td>\n",
              "    </tr>\n",
              "    <tr>\n",
              "      <th>220</th>\n",
              "      <td>240</td>\n",
              "      <td>B0093NIWVO</td>\n",
              "      <td>A1JT114SOITFFO</td>\n",
              "      <td>Dan &amp; Eileen</td>\n",
              "      <td>0</td>\n",
              "      <td>0</td>\n",
              "      <td>1</td>\n",
              "      <td>1350691200</td>\n",
              "      <td>OMG best chocolate jelly belly</td>\n",
              "      <td>Fresh,a great way to get a little chocolate in...</td>\n",
              "    </tr>\n",
              "    <tr>\n",
              "      <th>4117</th>\n",
              "      <td>4461</td>\n",
              "      <td>B0096E5196</td>\n",
              "      <td>AF6MP20RXGN2J</td>\n",
              "      <td>NORMS09</td>\n",
              "      <td>0</td>\n",
              "      <td>0</td>\n",
              "      <td>1</td>\n",
              "      <td>1350777600</td>\n",
              "      <td>GREAT STUFF</td>\n",
              "      <td>THIS TASTE IS BETWEEN SOMETHING LIKE FLAX BREA...</td>\n",
              "    </tr>\n",
              "    <tr>\n",
              "      <th>4118</th>\n",
              "      <td>4462</td>\n",
              "      <td>B0096E5196</td>\n",
              "      <td>A2REBFO0U8B6Q1</td>\n",
              "      <td>Topkat2 \"topkat2\"</td>\n",
              "      <td>0</td>\n",
              "      <td>0</td>\n",
              "      <td>1</td>\n",
              "      <td>1350604800</td>\n",
              "      <td>You won't believe it</td>\n",
              "      <td>I just had a wonderful dinner: Fresh fluke fri...</td>\n",
              "    </tr>\n",
              "    <tr>\n",
              "      <th>712</th>\n",
              "      <td>766</td>\n",
              "      <td>B009HINRX8</td>\n",
              "      <td>A39BLB42U7M6BD</td>\n",
              "      <td>James Brooks</td>\n",
              "      <td>0</td>\n",
              "      <td>0</td>\n",
              "      <td>1</td>\n",
              "      <td>1344643200</td>\n",
              "      <td>One of the better T-Discs</td>\n",
              "      <td>I have tried about 75% of the available T-Disc...</td>\n",
              "    </tr>\n",
              "    <tr>\n",
              "      <th>711</th>\n",
              "      <td>765</td>\n",
              "      <td>B009HINRX8</td>\n",
              "      <td>A1OEL4UZT3KKI4</td>\n",
              "      <td>coffee drinker in PA \"coffee drinker in PA\"</td>\n",
              "      <td>0</td>\n",
              "      <td>0</td>\n",
              "      <td>1</td>\n",
              "      <td>1344988800</td>\n",
              "      <td>great coffee - terrible price</td>\n",
              "      <td>This is one of the best choices, in my opinion...</td>\n",
              "    </tr>\n",
              "    <tr>\n",
              "      <th>710</th>\n",
              "      <td>764</td>\n",
              "      <td>B009HINRX8</td>\n",
              "      <td>ADDBLG0CFY9AI</td>\n",
              "      <td>S.A.D.</td>\n",
              "      <td>1</td>\n",
              "      <td>1</td>\n",
              "      <td>1</td>\n",
              "      <td>1326758400</td>\n",
              "      <td>Best of the Tassimo's</td>\n",
              "      <td>We've tried many Tassimo flavors.  This is by ...</td>\n",
              "    </tr>\n",
              "    <tr>\n",
              "      <th>709</th>\n",
              "      <td>763</td>\n",
              "      <td>B009HINRX8</td>\n",
              "      <td>A3N9477PUE6WMR</td>\n",
              "      <td>patc477</td>\n",
              "      <td>4</td>\n",
              "      <td>4</td>\n",
              "      <td>1</td>\n",
              "      <td>1323302400</td>\n",
              "      <td>Good Tasting cup o' joe</td>\n",
              "      <td>This is a bold blend that has a great taste. T...</td>\n",
              "    </tr>\n",
              "    <tr>\n",
              "      <th>713</th>\n",
              "      <td>768</td>\n",
              "      <td>B009HINRX8</td>\n",
              "      <td>A2CAZG1CQ8BQI5</td>\n",
              "      <td>Patricia J. Nohalty</td>\n",
              "      <td>0</td>\n",
              "      <td>0</td>\n",
              "      <td>1</td>\n",
              "      <td>1337212800</td>\n",
              "      <td>Kona for Tassimo</td>\n",
              "      <td>Of all the coffee's available for Tassimo this...</td>\n",
              "    </tr>\n",
              "  </tbody>\n",
              "</table>\n",
              "<p>4178 rows × 10 columns</p>\n",
              "</div>"
            ],
            "text/plain": [
              "        Id  ...                                               Text\n",
              "2546  2774  ...  Why is this $[...] when the same product is av...\n",
              "2547  2775  ...  We have used the Victor fly bait for 3 seasons...\n",
              "1145  1244  ...  I just received my shipment and could hardly w...\n",
              "1146  1245  ...  This was a really good idea and the final prod...\n",
              "2942  3204  ...  I'm glad my 45lb cocker/standard poodle puppy ...\n",
              "2941  3203  ...  We have been using this food for about 6 month...\n",
              "1071  1161  ...  I have nine cats and they are crazy about thes...\n",
              "2187  2380  ...  These were shipped out the day after I ordered...\n",
              "4695  5097  ...  This mix is probably not something you would w...\n",
              "2806  3053  ...  I use these to keep my finicky toddler's prote...\n",
              "2805  3052  ...  When we get very busy in our home, I like this...\n",
              "4099  4443  ...  This company is an American Classic been in bu...\n",
              "4096  4440  ...  I love Pico Pica.  It adds some flavor, and it...\n",
              "4097  4441  ...  Thank goodness for MexGrocer. We love this Pic...\n",
              "4098  4442  ...  This is a very different sauce - nothing like ...\n",
              "1330  1437  ...  i purchased this item for a cake that called f...\n",
              "1329  1436  ...  I have used this product multiple times.  In f...\n",
              "1328  1435  ...  I used Super Gold Luster Dust to create the mo...\n",
              "1331  1438  ...  This product allows me to make some really big...\n",
              "4320  4695  ...  This was a cute, affordable set for my 2 y/o s...\n",
              "4321  4696  ...  I only used one green with it's ball, etc. wit...\n",
              "4322  4697  ...  <a href=\"http://www.amazon.com/gp/product/B000...\n",
              "4323  4698  ...  The Golf \"set\" arrived quickly and was just as...\n",
              "4054  4395  ...  With all natural ingredients and no preservati...\n",
              "2477  2696  ...  Adzuki ( or Azuki) beans are ment to be used i...\n",
              "2476  2695  ...  Good beans.  I can't find these in the grocery...\n",
              "2478  2697  ...  their not only good for you but their yummy.th...\n",
              "2479  2698  ...  Good stuff - like lentils you don't need to so...\n",
              "3466  3768  ...  This sauce is something of a permanent staple ...\n",
              "3467  3769  ...  not truly spicy my 2 year old loves this stuff...\n",
              "...    ...  ...                                                ...\n",
              "2218  2411  ...  I like the taste of this coffee. Tried the oth...\n",
              "2219  2412  ...  This is the best Caribou kcup if you like a da...\n",
              "2213  2406  ...  The name of this coffee is Mahogany, in my min...\n",
              "2215  2408  ...  I ordered the Mahogany Caribou Coffee K-Cups a...\n",
              "2212  2405  ...  my wife and I are avid Keurig coffee fans (wit...\n",
              "2216  2409  ...  This is a serious cup of joe. Yummyness!<br />...\n",
              "2217  2410  ...  this is maybe the greatest coffee ever made.  ...\n",
              "677    729  ...  So surprised to find the Taiwan-shaped pineapp...\n",
              "678    730  ...  I really like the pineapple shortcakes sold he...\n",
              "3663  3980  ...  I started using <a href=\"http://www.amazon.com...\n",
              "3662  3979  ...  I've been using Lourdes Chimichurri for years ...\n",
              "3664  3981  ...  I absolutely love this product!  I use it on c...\n",
              "3580  3891  ...  I've never had Sunchy Malta before (I drank a ...\n",
              "1110  1203  ...  My item got to my house on time and I was surp...\n",
              "1109  1202  ...  Since being gluten free I've tried all types o...\n",
              "1108  1201  ...  These are not as good at Houston's Samba Grill...\n",
              "1107  1200  ...  I made these recently for a holiday party.  I ...\n",
              "1106  1199  ...  I spent the first five years of my life in Bra...\n",
              "1232  1332  ...  Love this, dont use too much because it is str...\n",
              "4714  5116  ...  This is the best olive oil not for cooking as ...\n",
              "2013  2197  ...  A nearby Fresh and Easy Neighborhood Market st...\n",
              "3271  3564  ...  This coffee is really rich, perfect in the mor...\n",
              "220    240  ...  Fresh,a great way to get a little chocolate in...\n",
              "4117  4461  ...  THIS TASTE IS BETWEEN SOMETHING LIKE FLAX BREA...\n",
              "4118  4462  ...  I just had a wonderful dinner: Fresh fluke fri...\n",
              "712    766  ...  I have tried about 75% of the available T-Disc...\n",
              "711    765  ...  This is one of the best choices, in my opinion...\n",
              "710    764  ...  We've tried many Tassimo flavors.  This is by ...\n",
              "709    763  ...  This is a bold blend that has a great taste. T...\n",
              "713    768  ...  Of all the coffee's available for Tassimo this...\n",
              "\n",
              "[4178 rows x 10 columns]"
            ]
          },
          "metadata": {
            "tags": []
          },
          "execution_count": 28
        }
      ]
    },
    {
      "cell_type": "code",
      "metadata": {
        "id": "YOzecWMtpl5E",
        "colab_type": "code",
        "outputId": "d883ce38-f1de-4828-e061-7126bb1a34f5",
        "colab": {
          "base_uri": "https://localhost:8080/"
        }
      },
      "source": [
        "import matplotlib.pyplot as plt\n",
        "plt.hist(final['Score'])"
      ],
      "execution_count": 0,
      "outputs": [
        {
          "output_type": "execute_result",
          "data": {
            "text/plain": [
              "(array([ 808.,    0.,    0.,    0.,    0.,    0.,    0.,    0.,    0.,\n",
              "        4178.]),\n",
              " array([0. , 0.1, 0.2, 0.3, 0.4, 0.5, 0.6, 0.7, 0.8, 0.9, 1. ]),\n",
              " <a list of 10 Patch objects>)"
            ]
          },
          "metadata": {
            "tags": []
          },
          "execution_count": 29
        },
        {
          "output_type": "display_data",
          "data": {
            "image/png": "[encoded data removed]",
            "text/plain": [
              "<Figure size 432x288 with 1 Axes>"
            ]
          },
          "metadata": {
            "tags": []
          }
        }
      ]
    },
    {
      "cell_type": "code",
      "metadata": {
        "id": "JLVVGGwMrwZS",
        "colab_type": "code",
        "outputId": "89e9000c-ddab-4974-9815-d933a3134a1c",
        "colab": {
          "base_uri": "https://localhost:8080/"
        }
      },
      "source": [
        "final['CleanedText'] = preprocessed_reviews\n",
        "final"
      ],
      "execution_count": 0,
      "outputs": [
        {
          "output_type": "execute_result",
          "data": {
            "text/html": [
              "<div>\n",
              "<style scoped>\n",
              "    .dataframe tbody tr th:only-of-type {\n",
              "        vertical-align: middle;\n",
              "    }\n",
              "\n",
              "    .dataframe tbody tr th {\n",
              "        vertical-align: top;\n",
              "    }\n",
              "\n",
              "    .dataframe thead th {\n",
              "        text-align: right;\n",
              "    }\n",
              "</style>\n",
              "<table border=\"1\" class=\"dataframe\">\n",
              "  <thead>\n",
              "    <tr style=\"text-align: right;\">\n",
              "      <th></th>\n",
              "      <th>Id</th>\n",
              "      <th>ProductId</th>\n",
              "      <th>UserId</th>\n",
              "      <th>ProfileName</th>\n",
              "      <th>HelpfulnessNumerator</th>\n",
              "      <th>HelpfulnessDenominator</th>\n",
              "      <th>Score</th>\n",
              "      <th>Time</th>\n",
              "      <th>Summary</th>\n",
              "      <th>Text</th>\n",
              "      <th>CleanedText</th>\n",
              "    </tr>\n",
              "  </thead>\n",
              "  <tbody>\n",
              "    <tr>\n",
              "      <th>2546</th>\n",
              "      <td>2774</td>\n",
              "      <td>B00002NCJC</td>\n",
              "      <td>A196AJHU9EASJN</td>\n",
              "      <td>Alex Chaffee</td>\n",
              "      <td>0</td>\n",
              "      <td>0</td>\n",
              "      <td>1</td>\n",
              "      <td>1282953600</td>\n",
              "      <td>thirty bucks?</td>\n",
              "      <td>Why is this $[...] when the same product is av...</td>\n",
              "      <td>product available victor traps unreal course t...</td>\n",
              "    </tr>\n",
              "    <tr>\n",
              "      <th>2547</th>\n",
              "      <td>2775</td>\n",
              "      <td>B00002NCJC</td>\n",
              "      <td>A13RRPGE79XFFH</td>\n",
              "      <td>reader48</td>\n",
              "      <td>0</td>\n",
              "      <td>0</td>\n",
              "      <td>1</td>\n",
              "      <td>1281052800</td>\n",
              "      <td>Flies Begone</td>\n",
              "      <td>We have used the Victor fly bait for 3 seasons...</td>\n",
              "      <td>used victor fly bait seasons ca not beat great...</td>\n",
              "    </tr>\n",
              "    <tr>\n",
              "      <th>1145</th>\n",
              "      <td>1244</td>\n",
              "      <td>B00002Z754</td>\n",
              "      <td>A3B8RCEI0FXFI6</td>\n",
              "      <td>B G Chase</td>\n",
              "      <td>10</td>\n",
              "      <td>10</td>\n",
              "      <td>1</td>\n",
              "      <td>962236800</td>\n",
              "      <td>WOW Make your own 'slickers' !</td>\n",
              "      <td>I just received my shipment and could hardly w...</td>\n",
              "      <td>received shipment could hardly wait try produc...</td>\n",
              "    </tr>\n",
              "    <tr>\n",
              "      <th>1146</th>\n",
              "      <td>1245</td>\n",
              "      <td>B00002Z754</td>\n",
              "      <td>A29Z5PI9BW2PU3</td>\n",
              "      <td>Robbie</td>\n",
              "      <td>7</td>\n",
              "      <td>7</td>\n",
              "      <td>1</td>\n",
              "      <td>961718400</td>\n",
              "      <td>Great Product</td>\n",
              "      <td>This was a really good idea and the final prod...</td>\n",
              "      <td>really good idea final product outstanding use...</td>\n",
              "    </tr>\n",
              "    <tr>\n",
              "      <th>2942</th>\n",
              "      <td>3204</td>\n",
              "      <td>B000084DVR</td>\n",
              "      <td>A1UGDJP1ZJWVPF</td>\n",
              "      <td>T. Moore \"thoughtful reader\"</td>\n",
              "      <td>1</td>\n",
              "      <td>1</td>\n",
              "      <td>1</td>\n",
              "      <td>1177977600</td>\n",
              "      <td>Good stuff!</td>\n",
              "      <td>I'm glad my 45lb cocker/standard poodle puppy ...</td>\n",
              "      <td>glad cocker standard poodle puppy loves stuff ...</td>\n",
              "    </tr>\n",
              "    <tr>\n",
              "      <th>2941</th>\n",
              "      <td>3203</td>\n",
              "      <td>B000084DVR</td>\n",
              "      <td>A3DKGXWUEP1AI2</td>\n",
              "      <td>Glenna E. Bauer \"Puppy Mum\"</td>\n",
              "      <td>3</td>\n",
              "      <td>3</td>\n",
              "      <td>1</td>\n",
              "      <td>1163030400</td>\n",
              "      <td>Premium Quality Dog Food!!!</td>\n",
              "      <td>We have been using this food for about 6 month...</td>\n",
              "      <td>using food months find excellent fact two dogs...</td>\n",
              "    </tr>\n",
              "    <tr>\n",
              "      <th>1071</th>\n",
              "      <td>1161</td>\n",
              "      <td>B000084E1U</td>\n",
              "      <td>A3DH85EYHW4AQH</td>\n",
              "      <td>Eric Hochman</td>\n",
              "      <td>1</td>\n",
              "      <td>1</td>\n",
              "      <td>1</td>\n",
              "      <td>1140739200</td>\n",
              "      <td>Cats love it!</td>\n",
              "      <td>I have nine cats and they are crazy about thes...</td>\n",
              "      <td>nine cats crazy kibbles last thing want cat fo...</td>\n",
              "    </tr>\n",
              "    <tr>\n",
              "      <th>2187</th>\n",
              "      <td>2380</td>\n",
              "      <td>B0000CGFV4</td>\n",
              "      <td>A3LSUKN4IFS6VD</td>\n",
              "      <td>Internet Diva</td>\n",
              "      <td>0</td>\n",
              "      <td>0</td>\n",
              "      <td>1</td>\n",
              "      <td>1312416000</td>\n",
              "      <td>Nice, Big Pieces &amp; Big Almond Flavor</td>\n",
              "      <td>These were shipped out the day after I ordered...</td>\n",
              "      <td>shipped day ordered arrived within days live o...</td>\n",
              "    </tr>\n",
              "    <tr>\n",
              "      <th>4695</th>\n",
              "      <td>5097</td>\n",
              "      <td>B0000D94SZ</td>\n",
              "      <td>A2R91PG1XPNO0B</td>\n",
              "      <td>Kotton Kandee \"not so secretshopper\"</td>\n",
              "      <td>4</td>\n",
              "      <td>4</td>\n",
              "      <td>1</td>\n",
              "      <td>1184198400</td>\n",
              "      <td>A Summer Treat Fat Free, Guilt Free</td>\n",
              "      <td>This mix is probably not something you would w...</td>\n",
              "      <td>mix probably not something would want use ever...</td>\n",
              "    </tr>\n",
              "    <tr>\n",
              "      <th>2068</th>\n",
              "      <td>2256</td>\n",
              "      <td>B0000DC5IY</td>\n",
              "      <td>AGYZZ3QXV9S8</td>\n",
              "      <td>Dr. Glenn B. Gero \"NJnaturaldoc\"</td>\n",
              "      <td>3</td>\n",
              "      <td>4</td>\n",
              "      <td>0</td>\n",
              "      <td>1289865600</td>\n",
              "      <td>Don't buy this product unless you are looking ...</td>\n",
              "      <td>The description of this product is disceptive....</td>\n",
              "      <td>description product disceptive product represe...</td>\n",
              "    </tr>\n",
              "    <tr>\n",
              "      <th>2069</th>\n",
              "      <td>2257</td>\n",
              "      <td>B0000DC5IY</td>\n",
              "      <td>A3GKE33FI1QKA</td>\n",
              "      <td>The Barb Knows Best</td>\n",
              "      <td>0</td>\n",
              "      <td>0</td>\n",
              "      <td>0</td>\n",
              "      <td>1322697600</td>\n",
              "      <td>Little Flavor</td>\n",
              "      <td>I bought this same brand from an online Indian...</td>\n",
              "      <td>bought brand online indian grocery store usual...</td>\n",
              "    </tr>\n",
              "    <tr>\n",
              "      <th>2806</th>\n",
              "      <td>3053</td>\n",
              "      <td>B0000E65W9</td>\n",
              "      <td>A1GJ37VZOZ6S1W</td>\n",
              "      <td>S. Jettlund \"mamaknows2much\"</td>\n",
              "      <td>0</td>\n",
              "      <td>0</td>\n",
              "      <td>1</td>\n",
              "      <td>1308700800</td>\n",
              "      <td>A Staple in my house</td>\n",
              "      <td>I use these to keep my finicky toddler's prote...</td>\n",
              "      <td>use keep finicky toddler protein levels great ...</td>\n",
              "    </tr>\n",
              "    <tr>\n",
              "      <th>2805</th>\n",
              "      <td>3052</td>\n",
              "      <td>B0000E65W9</td>\n",
              "      <td>A1GYEGLX3P2Y7P</td>\n",
              "      <td>Shala Kerrigan</td>\n",
              "      <td>1</td>\n",
              "      <td>1</td>\n",
              "      <td>1</td>\n",
              "      <td>1287187200</td>\n",
              "      <td>A favorite quick meal solution</td>\n",
              "      <td>When we get very busy in our home, I like this...</td>\n",
              "      <td>get busy home like sausage lot quick meal opti...</td>\n",
              "    </tr>\n",
              "    <tr>\n",
              "      <th>4099</th>\n",
              "      <td>4443</td>\n",
              "      <td>B0000GGI00</td>\n",
              "      <td>A2D16Q29G5S0E9</td>\n",
              "      <td>Jim \"highaltitudelowopening\"</td>\n",
              "      <td>0</td>\n",
              "      <td>0</td>\n",
              "      <td>1</td>\n",
              "      <td>1339113600</td>\n",
              "      <td>Best Hot Sauce and Taco Sauce Available In Ame...</td>\n",
              "      <td>This company is an American Classic been in bu...</td>\n",
              "      <td>company american classic business years best h...</td>\n",
              "    </tr>\n",
              "    <tr>\n",
              "      <th>4096</th>\n",
              "      <td>4440</td>\n",
              "      <td>B0000GGI00</td>\n",
              "      <td>A21EHWHI9XQY10</td>\n",
              "      <td>D. J. Walters</td>\n",
              "      <td>4</td>\n",
              "      <td>4</td>\n",
              "      <td>1</td>\n",
              "      <td>1245456000</td>\n",
              "      <td>Pico Pica ... the BEST</td>\n",
              "      <td>I love Pico Pica.  It adds some flavor, and it...</td>\n",
              "      <td>love pico pica adds flavor not hot eat least m...</td>\n",
              "    </tr>\n",
              "    <tr>\n",
              "      <th>4097</th>\n",
              "      <td>4441</td>\n",
              "      <td>B0000GGI00</td>\n",
              "      <td>A23EN4MZKDZIDV</td>\n",
              "      <td>AlwaysFlying</td>\n",
              "      <td>1</td>\n",
              "      <td>1</td>\n",
              "      <td>1</td>\n",
              "      <td>1347408000</td>\n",
              "      <td>This is the stuff!</td>\n",
              "      <td>Thank goodness for MexGrocer. We love this Pic...</td>\n",
              "      <td>thank goodness mexgrocer love pico pica sauce ...</td>\n",
              "    </tr>\n",
              "    <tr>\n",
              "      <th>4098</th>\n",
              "      <td>4442</td>\n",
              "      <td>B0000GGI00</td>\n",
              "      <td>A2VBTN6ZR67YOF</td>\n",
              "      <td>Mike Jacobs</td>\n",
              "      <td>1</td>\n",
              "      <td>1</td>\n",
              "      <td>1</td>\n",
              "      <td>1344729600</td>\n",
              "      <td>What everyone is saying here about Pico Pica i...</td>\n",
              "      <td>This is a very different sauce - nothing like ...</td>\n",
              "      <td>different sauce nothing like anything find gro...</td>\n",
              "    </tr>\n",
              "    <tr>\n",
              "      <th>1332</th>\n",
              "      <td>1439</td>\n",
              "      <td>B0000VLH8S</td>\n",
              "      <td>A3PCZQ3Y8C32OP</td>\n",
              "      <td>saphenomenon \"saphenomenon\"</td>\n",
              "      <td>0</td>\n",
              "      <td>0</td>\n",
              "      <td>0</td>\n",
              "      <td>1349222400</td>\n",
              "      <td>not edible</td>\n",
              "      <td>i found this product doing a search for \"edibl...</td>\n",
              "      <td>found product search edible gold leaf decided ...</td>\n",
              "    </tr>\n",
              "    <tr>\n",
              "      <th>1330</th>\n",
              "      <td>1437</td>\n",
              "      <td>B0000VLH8S</td>\n",
              "      <td>A3OX1UNG90U0G0</td>\n",
              "      <td>S. Woodcock</td>\n",
              "      <td>2</td>\n",
              "      <td>2</td>\n",
              "      <td>1</td>\n",
              "      <td>1229472000</td>\n",
              "      <td>shining star</td>\n",
              "      <td>i purchased this item for a cake that called f...</td>\n",
              "      <td>purchased item cake called gold dust never tho...</td>\n",
              "    </tr>\n",
              "    <tr>\n",
              "      <th>1329</th>\n",
              "      <td>1436</td>\n",
              "      <td>B0000VLH8S</td>\n",
              "      <td>A3NNFYRW6UOVMH</td>\n",
              "      <td>John M. Bloom \"dmetrixavier\"</td>\n",
              "      <td>5</td>\n",
              "      <td>5</td>\n",
              "      <td>1</td>\n",
              "      <td>1214265600</td>\n",
              "      <td>The Inexpensive Alternative to Gold Leaf!</td>\n",
              "      <td>I have used this product multiple times.  In f...</td>\n",
              "      <td>used product multiple times fact purchased fou...</td>\n",
              "    </tr>\n",
              "    <tr>\n",
              "      <th>1328</th>\n",
              "      <td>1435</td>\n",
              "      <td>B0000VLH8S</td>\n",
              "      <td>A1HPPPBBMZD78K</td>\n",
              "      <td>Judy J. Blaskowski \"Coauthor of The Step Dyna...</td>\n",
              "      <td>6</td>\n",
              "      <td>6</td>\n",
              "      <td>1</td>\n",
              "      <td>1175644800</td>\n",
              "      <td>Create Exquisite Cake Decorations</td>\n",
              "      <td>I used Super Gold Luster Dust to create the mo...</td>\n",
              "      <td>used super gold luster dust create exquisite c...</td>\n",
              "    </tr>\n",
              "    <tr>\n",
              "      <th>1331</th>\n",
              "      <td>1438</td>\n",
              "      <td>B0000VLH8S</td>\n",
              "      <td>APZ1KMTD4SNB9</td>\n",
              "      <td>C. Dembosky</td>\n",
              "      <td>2</td>\n",
              "      <td>2</td>\n",
              "      <td>1</td>\n",
              "      <td>1219968000</td>\n",
              "      <td>gold dust is awesome</td>\n",
              "      <td>This product allows me to make some really big...</td>\n",
              "      <td>product allows make really big splashes provid...</td>\n",
              "    </tr>\n",
              "    <tr>\n",
              "      <th>4320</th>\n",
              "      <td>4695</td>\n",
              "      <td>B0000VMBDI</td>\n",
              "      <td>ATU8547UX4G9F</td>\n",
              "      <td>J. Jackson</td>\n",
              "      <td>0</td>\n",
              "      <td>0</td>\n",
              "      <td>1</td>\n",
              "      <td>1348444800</td>\n",
              "      <td>Perfect for my sons cake.</td>\n",
              "      <td>This was a cute, affordable set for my 2 y/o s...</td>\n",
              "      <td>cute affordable set son golf theme party great...</td>\n",
              "    </tr>\n",
              "    <tr>\n",
              "      <th>4321</th>\n",
              "      <td>4696</td>\n",
              "      <td>B0000VMBDI</td>\n",
              "      <td>A1LTDEUQUFK1WC</td>\n",
              "      <td>C. Goettel</td>\n",
              "      <td>0</td>\n",
              "      <td>0</td>\n",
              "      <td>1</td>\n",
              "      <td>1346544000</td>\n",
              "      <td>Really cute - made a great golf cake</td>\n",
              "      <td>I only used one green with it's ball, etc. wit...</td>\n",
              "      <td>used one green ball etc golfer cake made one l...</td>\n",
              "    </tr>\n",
              "    <tr>\n",
              "      <th>4322</th>\n",
              "      <td>4697</td>\n",
              "      <td>B0000VMBDI</td>\n",
              "      <td>A3JMJEWINMCB2Y</td>\n",
              "      <td>Paul J. Smith</td>\n",
              "      <td>0</td>\n",
              "      <td>0</td>\n",
              "      <td>1</td>\n",
              "      <td>1323907200</td>\n",
              "      <td>Golf Set</td>\n",
              "      <td>&lt;a href=\"http://www.amazon.com/gp/product/B000...</td>\n",
              "      <td></td>\n",
              "    </tr>\n",
              "    <tr>\n",
              "      <th>4323</th>\n",
              "      <td>4698</td>\n",
              "      <td>B0000VMBDI</td>\n",
              "      <td>A1GFEFETAHX8DW</td>\n",
              "      <td>Bob E</td>\n",
              "      <td>0</td>\n",
              "      <td>0</td>\n",
              "      <td>1</td>\n",
              "      <td>1319587200</td>\n",
              "      <td>Cake Topper</td>\n",
              "      <td>The Golf \"set\" arrived quickly and was just as...</td>\n",
              "      <td>golf set arrived quickly pictured birthday fiv...</td>\n",
              "    </tr>\n",
              "    <tr>\n",
              "      <th>4054</th>\n",
              "      <td>4395</td>\n",
              "      <td>B0001217OA</td>\n",
              "      <td>A3F3B1JPACN215</td>\n",
              "      <td>Michael G. Lustig</td>\n",
              "      <td>2</td>\n",
              "      <td>2</td>\n",
              "      <td>1</td>\n",
              "      <td>1190332800</td>\n",
              "      <td>Fantastic</td>\n",
              "      <td>With all natural ingredients and no preservati...</td>\n",
              "      <td>natural ingredients no preservatives say fanta...</td>\n",
              "    </tr>\n",
              "    <tr>\n",
              "      <th>2477</th>\n",
              "      <td>2696</td>\n",
              "      <td>B00015BQB6</td>\n",
              "      <td>A3KKDZEJGCK9OW</td>\n",
              "      <td>Catwoman \"Meow.\"</td>\n",
              "      <td>1</td>\n",
              "      <td>1</td>\n",
              "      <td>1</td>\n",
              "      <td>1273104000</td>\n",
              "      <td>Adzuki beans</td>\n",
              "      <td>Adzuki ( or Azuki) beans are ment to be used i...</td>\n",
              "      <td>adzuki azuki beans ment used asian sweets make...</td>\n",
              "    </tr>\n",
              "    <tr>\n",
              "      <th>2476</th>\n",
              "      <td>2695</td>\n",
              "      <td>B00015BQB6</td>\n",
              "      <td>A2QDPD1G95B99</td>\n",
              "      <td>W. Jackson</td>\n",
              "      <td>2</td>\n",
              "      <td>2</td>\n",
              "      <td>1</td>\n",
              "      <td>1226707200</td>\n",
              "      <td>Yum.</td>\n",
              "      <td>Good beans.  I can't find these in the grocery...</td>\n",
              "      <td>good beans not find grocery stores live ordere...</td>\n",
              "    </tr>\n",
              "    <tr>\n",
              "      <th>2478</th>\n",
              "      <td>2697</td>\n",
              "      <td>B00015BQB6</td>\n",
              "      <td>AK6IRH6UKVOO8</td>\n",
              "      <td>dax</td>\n",
              "      <td>1</td>\n",
              "      <td>1</td>\n",
              "      <td>1</td>\n",
              "      <td>1235520000</td>\n",
              "      <td>yummy</td>\n",
              "      <td>their not only good for you but their yummy.th...</td>\n",
              "      <td>not good yummy smell like cloves cooking taste...</td>\n",
              "    </tr>\n",
              "    <tr>\n",
              "      <th>...</th>\n",
              "      <td>...</td>\n",
              "      <td>...</td>\n",
              "      <td>...</td>\n",
              "      <td>...</td>\n",
              "      <td>...</td>\n",
              "      <td>...</td>\n",
              "      <td>...</td>\n",
              "      <td>...</td>\n",
              "      <td>...</td>\n",
              "      <td>...</td>\n",
              "      <td>...</td>\n",
              "    </tr>\n",
              "    <tr>\n",
              "      <th>2214</th>\n",
              "      <td>2407</td>\n",
              "      <td>B0089SPDUW</td>\n",
              "      <td>A18S1559XJID18</td>\n",
              "      <td>Kathleen Mele</td>\n",
              "      <td>0</td>\n",
              "      <td>0</td>\n",
              "      <td>0</td>\n",
              "      <td>1349481600</td>\n",
              "      <td>burnt toast</td>\n",
              "      <td>Carabou Mahogony is the worst tasting cup of c...</td>\n",
              "      <td>carabou mahogony worst tasting cup coffee ever...</td>\n",
              "    </tr>\n",
              "    <tr>\n",
              "      <th>2215</th>\n",
              "      <td>2408</td>\n",
              "      <td>B0089SPDUW</td>\n",
              "      <td>A1OZONYCJYYK1I</td>\n",
              "      <td>CoffeeLover</td>\n",
              "      <td>0</td>\n",
              "      <td>0</td>\n",
              "      <td>1</td>\n",
              "      <td>1347840000</td>\n",
              "      <td>Love Caribou!</td>\n",
              "      <td>I ordered the Mahogany Caribou Coffee K-Cups a...</td>\n",
              "      <td>ordered mahogany caribou coffee k cups adore r...</td>\n",
              "    </tr>\n",
              "    <tr>\n",
              "      <th>2212</th>\n",
              "      <td>2405</td>\n",
              "      <td>B0089SPDUW</td>\n",
              "      <td>AA7STIIEST2HW</td>\n",
              "      <td>James Glenny</td>\n",
              "      <td>0</td>\n",
              "      <td>0</td>\n",
              "      <td>1</td>\n",
              "      <td>1350604800</td>\n",
              "      <td>down to almost none ....</td>\n",
              "      <td>my wife and I are avid Keurig coffee fans (wit...</td>\n",
              "      <td>wife avid keurig coffee fans three brewers two...</td>\n",
              "    </tr>\n",
              "    <tr>\n",
              "      <th>2216</th>\n",
              "      <td>2409</td>\n",
              "      <td>B0089SPDUW</td>\n",
              "      <td>A1Z20CMOWLJ8I1</td>\n",
              "      <td>rrob4</td>\n",
              "      <td>0</td>\n",
              "      <td>0</td>\n",
              "      <td>1</td>\n",
              "      <td>1345248000</td>\n",
              "      <td>yum</td>\n",
              "      <td>This is a serious cup of joe. Yummyness!&lt;br /&gt;...</td>\n",
              "      <td>serious cup joe yummyness turned least friends...</td>\n",
              "    </tr>\n",
              "    <tr>\n",
              "      <th>2217</th>\n",
              "      <td>2410</td>\n",
              "      <td>B0089SPDUW</td>\n",
              "      <td>ANF5SQBAP7GPG</td>\n",
              "      <td>Smokey &amp; the Bandit</td>\n",
              "      <td>0</td>\n",
              "      <td>0</td>\n",
              "      <td>1</td>\n",
              "      <td>1341792000</td>\n",
              "      <td>great coffee</td>\n",
              "      <td>this is maybe the greatest coffee ever made.  ...</td>\n",
              "      <td>maybe greatest coffee ever made many time regu...</td>\n",
              "    </tr>\n",
              "    <tr>\n",
              "      <th>677</th>\n",
              "      <td>729</td>\n",
              "      <td>B008BEGP9W</td>\n",
              "      <td>A2L0EIYNODCZ9U</td>\n",
              "      <td>good dog</td>\n",
              "      <td>0</td>\n",
              "      <td>0</td>\n",
              "      <td>1</td>\n",
              "      <td>1346371200</td>\n",
              "      <td>cute ,cute, cute!</td>\n",
              "      <td>So surprised to find the Taiwan-shaped pineapp...</td>\n",
              "      <td>surprised find taiwan shaped pineapple cakes c...</td>\n",
              "    </tr>\n",
              "    <tr>\n",
              "      <th>678</th>\n",
              "      <td>730</td>\n",
              "      <td>B008BEGP9W</td>\n",
              "      <td>A1MJ0MF2OFIU4D</td>\n",
              "      <td>Chris</td>\n",
              "      <td>0</td>\n",
              "      <td>0</td>\n",
              "      <td>1</td>\n",
              "      <td>1340496000</td>\n",
              "      <td>A Surprising Find</td>\n",
              "      <td>I really like the pineapple shortcakes sold he...</td>\n",
              "      <td>really like pineapple shortcakes sold unlike m...</td>\n",
              "    </tr>\n",
              "    <tr>\n",
              "      <th>3663</th>\n",
              "      <td>3980</td>\n",
              "      <td>B008EMA3AS</td>\n",
              "      <td>ABZL1Q5Y7EK9A</td>\n",
              "      <td>M. Heath \"Techno guy\"</td>\n",
              "      <td>1</td>\n",
              "      <td>1</td>\n",
              "      <td>1</td>\n",
              "      <td>1346198400</td>\n",
              "      <td>It's the best</td>\n",
              "      <td>I started using &lt;a href=\"http://www.amazon.com...</td>\n",
              "      <td>started using</td>\n",
              "    </tr>\n",
              "    <tr>\n",
              "      <th>3662</th>\n",
              "      <td>3979</td>\n",
              "      <td>B008EMA3AS</td>\n",
              "      <td>A1TH877IIP7UHX</td>\n",
              "      <td>Karina Feld \"karina1999\"</td>\n",
              "      <td>2</td>\n",
              "      <td>2</td>\n",
              "      <td>1</td>\n",
              "      <td>1344729600</td>\n",
              "      <td>Huge Fan</td>\n",
              "      <td>I've been using Lourdes Chimichurri for years ...</td>\n",
              "      <td>using lourdes chimichurri years stuff awesome ...</td>\n",
              "    </tr>\n",
              "    <tr>\n",
              "      <th>3664</th>\n",
              "      <td>3981</td>\n",
              "      <td>B008EMA3AS</td>\n",
              "      <td>A199USG4MU1NWI</td>\n",
              "      <td>rtb521</td>\n",
              "      <td>0</td>\n",
              "      <td>0</td>\n",
              "      <td>1</td>\n",
              "      <td>1350000000</td>\n",
              "      <td>Awesome sauce!</td>\n",
              "      <td>I absolutely love this product!  I use it on c...</td>\n",
              "      <td>absolutely love product use chicken beef veggi...</td>\n",
              "    </tr>\n",
              "    <tr>\n",
              "      <th>3580</th>\n",
              "      <td>3891</td>\n",
              "      <td>B008G01KM8</td>\n",
              "      <td>A1H1DVTIHXV3YE</td>\n",
              "      <td>Ryan D. Crompton</td>\n",
              "      <td>0</td>\n",
              "      <td>0</td>\n",
              "      <td>1</td>\n",
              "      <td>1348531200</td>\n",
              "      <td>Good Malta, baffling business model</td>\n",
              "      <td>I've never had Sunchy Malta before (I drank a ...</td>\n",
              "      <td>never sunchy malta drank lot goya available lo...</td>\n",
              "    </tr>\n",
              "    <tr>\n",
              "      <th>1110</th>\n",
              "      <td>1203</td>\n",
              "      <td>B008L19ZQ0</td>\n",
              "      <td>A2BN0B0CJQI3KP</td>\n",
              "      <td>RP</td>\n",
              "      <td>0</td>\n",
              "      <td>0</td>\n",
              "      <td>1</td>\n",
              "      <td>1334620800</td>\n",
              "      <td>Service was good</td>\n",
              "      <td>My item got to my house on time and I was surp...</td>\n",
              "      <td>item got house time surprised well package pac...</td>\n",
              "    </tr>\n",
              "    <tr>\n",
              "      <th>1109</th>\n",
              "      <td>1202</td>\n",
              "      <td>B008L19ZQ0</td>\n",
              "      <td>A2P19WZ6WD2OZK</td>\n",
              "      <td>Brock</td>\n",
              "      <td>0</td>\n",
              "      <td>0</td>\n",
              "      <td>1</td>\n",
              "      <td>1346457600</td>\n",
              "      <td>I was able to eat bread again!</td>\n",
              "      <td>Since being gluten free I've tried all types o...</td>\n",
              "      <td>since gluten free tried types gf breads expens...</td>\n",
              "    </tr>\n",
              "    <tr>\n",
              "      <th>1108</th>\n",
              "      <td>1201</td>\n",
              "      <td>B008L19ZQ0</td>\n",
              "      <td>A1QQ60DX82BE3W</td>\n",
              "      <td>Lamb</td>\n",
              "      <td>1</td>\n",
              "      <td>1</td>\n",
              "      <td>1</td>\n",
              "      <td>1327795200</td>\n",
              "      <td>Love Taro</td>\n",
              "      <td>These are not as good at Houston's Samba Grill...</td>\n",
              "      <td>not good houston samba grill tasted great text...</td>\n",
              "    </tr>\n",
              "    <tr>\n",
              "      <th>1107</th>\n",
              "      <td>1200</td>\n",
              "      <td>B008L19ZQ0</td>\n",
              "      <td>A306PAX3GWF5KV</td>\n",
              "      <td>Season Balik</td>\n",
              "      <td>2</td>\n",
              "      <td>2</td>\n",
              "      <td>1</td>\n",
              "      <td>1323993600</td>\n",
              "      <td>Delicious and easy</td>\n",
              "      <td>I made these recently for a holiday party.  I ...</td>\n",
              "      <td>made recently holiday party never seen anythin...</td>\n",
              "    </tr>\n",
              "    <tr>\n",
              "      <th>1106</th>\n",
              "      <td>1199</td>\n",
              "      <td>B008L19ZQ0</td>\n",
              "      <td>A1N5M6H4GKNBG6</td>\n",
              "      <td>Shanna</td>\n",
              "      <td>2</td>\n",
              "      <td>2</td>\n",
              "      <td>1</td>\n",
              "      <td>1340409600</td>\n",
              "      <td>Favorite thing about Brazil</td>\n",
              "      <td>I spent the first five years of my life in Bra...</td>\n",
              "      <td>spent first five years life brazil american pa...</td>\n",
              "    </tr>\n",
              "    <tr>\n",
              "      <th>1232</th>\n",
              "      <td>1332</td>\n",
              "      <td>B008MMLXEK</td>\n",
              "      <td>A38MF3LIFBPX51</td>\n",
              "      <td>Jordan</td>\n",
              "      <td>0</td>\n",
              "      <td>0</td>\n",
              "      <td>1</td>\n",
              "      <td>1348617600</td>\n",
              "      <td>Delicous</td>\n",
              "      <td>Love this, dont use too much because it is str...</td>\n",
              "      <td>love dont use much strong tastes great makes e...</td>\n",
              "    </tr>\n",
              "    <tr>\n",
              "      <th>4714</th>\n",
              "      <td>5116</td>\n",
              "      <td>B008QXKU4O</td>\n",
              "      <td>A1NJXOUMOIY96X</td>\n",
              "      <td>nanahass</td>\n",
              "      <td>0</td>\n",
              "      <td>0</td>\n",
              "      <td>1</td>\n",
              "      <td>1350172800</td>\n",
              "      <td>Best Italian olive oil</td>\n",
              "      <td>This is the best olive oil not for cooking as ...</td>\n",
              "      <td>best olive oil not cooking olive oil work flav...</td>\n",
              "    </tr>\n",
              "    <tr>\n",
              "      <th>2013</th>\n",
              "      <td>2197</td>\n",
              "      <td>B008YAXFWI</td>\n",
              "      <td>AY12DBB0U420B</td>\n",
              "      <td>Gary Peterson</td>\n",
              "      <td>0</td>\n",
              "      <td>0</td>\n",
              "      <td>1</td>\n",
              "      <td>1346630400</td>\n",
              "      <td>Mild Taste, But Delicious.</td>\n",
              "      <td>A nearby Fresh and Easy Neighborhood Market st...</td>\n",
              "      <td>nearby fresh easy neighborhood market stocks n...</td>\n",
              "    </tr>\n",
              "    <tr>\n",
              "      <th>3567</th>\n",
              "      <td>3878</td>\n",
              "      <td>B009166ECC</td>\n",
              "      <td>A2A5SQE8EEDLLD</td>\n",
              "      <td>Kurt</td>\n",
              "      <td>1</td>\n",
              "      <td>1</td>\n",
              "      <td>0</td>\n",
              "      <td>1348012800</td>\n",
              "      <td>Great drink, horrible price!</td>\n",
              "      <td>I can get it at Walmart for $1.78 each or the ...</td>\n",
              "      <td>get walmart gas station</td>\n",
              "    </tr>\n",
              "    <tr>\n",
              "      <th>3271</th>\n",
              "      <td>3564</td>\n",
              "      <td>B0092XAMDQ</td>\n",
              "      <td>AM0VRGASSST2K</td>\n",
              "      <td>Ashley</td>\n",
              "      <td>1</td>\n",
              "      <td>1</td>\n",
              "      <td>1</td>\n",
              "      <td>1346976000</td>\n",
              "      <td>More for Me</td>\n",
              "      <td>This coffee is really rich, perfect in the mor...</td>\n",
              "      <td>coffee really rich perfect morning ordered off...</td>\n",
              "    </tr>\n",
              "    <tr>\n",
              "      <th>220</th>\n",
              "      <td>240</td>\n",
              "      <td>B0093NIWVO</td>\n",
              "      <td>A1JT114SOITFFO</td>\n",
              "      <td>Dan &amp; Eileen</td>\n",
              "      <td>0</td>\n",
              "      <td>0</td>\n",
              "      <td>1</td>\n",
              "      <td>1350691200</td>\n",
              "      <td>OMG best chocolate jelly belly</td>\n",
              "      <td>Fresh,a great way to get a little chocolate in...</td>\n",
              "      <td>fresh great way get little chocolate life with...</td>\n",
              "    </tr>\n",
              "    <tr>\n",
              "      <th>4117</th>\n",
              "      <td>4461</td>\n",
              "      <td>B0096E5196</td>\n",
              "      <td>AF6MP20RXGN2J</td>\n",
              "      <td>NORMS09</td>\n",
              "      <td>0</td>\n",
              "      <td>0</td>\n",
              "      <td>1</td>\n",
              "      <td>1350777600</td>\n",
              "      <td>GREAT STUFF</td>\n",
              "      <td>THIS TASTE IS BETWEEN SOMETHING LIKE FLAX BREA...</td>\n",
              "      <td>taste something like flax bread cornbread exce...</td>\n",
              "    </tr>\n",
              "    <tr>\n",
              "      <th>4118</th>\n",
              "      <td>4462</td>\n",
              "      <td>B0096E5196</td>\n",
              "      <td>A2REBFO0U8B6Q1</td>\n",
              "      <td>Topkat2 \"topkat2\"</td>\n",
              "      <td>0</td>\n",
              "      <td>0</td>\n",
              "      <td>1</td>\n",
              "      <td>1350604800</td>\n",
              "      <td>You won't believe it</td>\n",
              "      <td>I just had a wonderful dinner: Fresh fluke fri...</td>\n",
              "      <td>wonderful dinner fresh fluke fried tempura bat...</td>\n",
              "    </tr>\n",
              "    <tr>\n",
              "      <th>712</th>\n",
              "      <td>766</td>\n",
              "      <td>B009HINRX8</td>\n",
              "      <td>A39BLB42U7M6BD</td>\n",
              "      <td>James Brooks</td>\n",
              "      <td>0</td>\n",
              "      <td>0</td>\n",
              "      <td>1</td>\n",
              "      <td>1344643200</td>\n",
              "      <td>One of the better T-Discs</td>\n",
              "      <td>I have tried about 75% of the available T-Disc...</td>\n",
              "      <td>tried available discs kona blend one best regu...</td>\n",
              "    </tr>\n",
              "    <tr>\n",
              "      <th>711</th>\n",
              "      <td>765</td>\n",
              "      <td>B009HINRX8</td>\n",
              "      <td>A1OEL4UZT3KKI4</td>\n",
              "      <td>coffee drinker in PA \"coffee drinker in PA\"</td>\n",
              "      <td>0</td>\n",
              "      <td>0</td>\n",
              "      <td>1</td>\n",
              "      <td>1344988800</td>\n",
              "      <td>great coffee - terrible price</td>\n",
              "      <td>This is one of the best choices, in my opinion...</td>\n",
              "      <td>one best choices opinion also adore amazon nee...</td>\n",
              "    </tr>\n",
              "    <tr>\n",
              "      <th>710</th>\n",
              "      <td>764</td>\n",
              "      <td>B009HINRX8</td>\n",
              "      <td>ADDBLG0CFY9AI</td>\n",
              "      <td>S.A.D.</td>\n",
              "      <td>1</td>\n",
              "      <td>1</td>\n",
              "      <td>1</td>\n",
              "      <td>1326758400</td>\n",
              "      <td>Best of the Tassimo's</td>\n",
              "      <td>We've tried many Tassimo flavors.  This is by ...</td>\n",
              "      <td>tried many tassimo flavors far favorite normal...</td>\n",
              "    </tr>\n",
              "    <tr>\n",
              "      <th>709</th>\n",
              "      <td>763</td>\n",
              "      <td>B009HINRX8</td>\n",
              "      <td>A3N9477PUE6WMR</td>\n",
              "      <td>patc477</td>\n",
              "      <td>4</td>\n",
              "      <td>4</td>\n",
              "      <td>1</td>\n",
              "      <td>1323302400</td>\n",
              "      <td>Good Tasting cup o' joe</td>\n",
              "      <td>This is a bold blend that has a great taste. T...</td>\n",
              "      <td>bold blend great taste flavor comes bursting u...</td>\n",
              "    </tr>\n",
              "    <tr>\n",
              "      <th>713</th>\n",
              "      <td>768</td>\n",
              "      <td>B009HINRX8</td>\n",
              "      <td>A2CAZG1CQ8BQI5</td>\n",
              "      <td>Patricia J. Nohalty</td>\n",
              "      <td>0</td>\n",
              "      <td>0</td>\n",
              "      <td>1</td>\n",
              "      <td>1337212800</td>\n",
              "      <td>Kona for Tassimo</td>\n",
              "      <td>Of all the coffee's available for Tassimo this...</td>\n",
              "      <td>coffee available tassimo kona richest flavor f...</td>\n",
              "    </tr>\n",
              "    <tr>\n",
              "      <th>1362</th>\n",
              "      <td>1478</td>\n",
              "      <td>B009UOFU20</td>\n",
              "      <td>AJVB004EB0MVK</td>\n",
              "      <td>D. Christofferson</td>\n",
              "      <td>0</td>\n",
              "      <td>0</td>\n",
              "      <td>0</td>\n",
              "      <td>1345852800</td>\n",
              "      <td>weak coffee not good for a premium product and...</td>\n",
              "      <td>This coffee supposedly is premium, it tastes w...</td>\n",
              "      <td>coffee supposedly premium tastes watery thin n...</td>\n",
              "    </tr>\n",
              "  </tbody>\n",
              "</table>\n",
              "<p>4986 rows × 11 columns</p>\n",
              "</div>"
            ],
            "text/plain": [
              "        Id  ...                                        CleanedText\n",
              "2546  2774  ...  product available victor traps unreal course t...\n",
              "2547  2775  ...  used victor fly bait seasons ca not beat great...\n",
              "1145  1244  ...  received shipment could hardly wait try produc...\n",
              "1146  1245  ...  really good idea final product outstanding use...\n",
              "2942  3204  ...  glad cocker standard poodle puppy loves stuff ...\n",
              "2941  3203  ...  using food months find excellent fact two dogs...\n",
              "1071  1161  ...  nine cats crazy kibbles last thing want cat fo...\n",
              "2187  2380  ...  shipped day ordered arrived within days live o...\n",
              "4695  5097  ...  mix probably not something would want use ever...\n",
              "2068  2256  ...  description product disceptive product represe...\n",
              "2069  2257  ...  bought brand online indian grocery store usual...\n",
              "2806  3053  ...  use keep finicky toddler protein levels great ...\n",
              "2805  3052  ...  get busy home like sausage lot quick meal opti...\n",
              "4099  4443  ...  company american classic business years best h...\n",
              "4096  4440  ...  love pico pica adds flavor not hot eat least m...\n",
              "4097  4441  ...  thank goodness mexgrocer love pico pica sauce ...\n",
              "4098  4442  ...  different sauce nothing like anything find gro...\n",
              "1332  1439  ...  found product search edible gold leaf decided ...\n",
              "1330  1437  ...  purchased item cake called gold dust never tho...\n",
              "1329  1436  ...  used product multiple times fact purchased fou...\n",
              "1328  1435  ...  used super gold luster dust create exquisite c...\n",
              "1331  1438  ...  product allows make really big splashes provid...\n",
              "4320  4695  ...  cute affordable set son golf theme party great...\n",
              "4321  4696  ...  used one green ball etc golfer cake made one l...\n",
              "4322  4697  ...                                                   \n",
              "4323  4698  ...  golf set arrived quickly pictured birthday fiv...\n",
              "4054  4395  ...  natural ingredients no preservatives say fanta...\n",
              "2477  2696  ...  adzuki azuki beans ment used asian sweets make...\n",
              "2476  2695  ...  good beans not find grocery stores live ordere...\n",
              "2478  2697  ...  not good yummy smell like cloves cooking taste...\n",
              "...    ...  ...                                                ...\n",
              "2214  2407  ...  carabou mahogony worst tasting cup coffee ever...\n",
              "2215  2408  ...  ordered mahogany caribou coffee k cups adore r...\n",
              "2212  2405  ...  wife avid keurig coffee fans three brewers two...\n",
              "2216  2409  ...  serious cup joe yummyness turned least friends...\n",
              "2217  2410  ...  maybe greatest coffee ever made many time regu...\n",
              "677    729  ...  surprised find taiwan shaped pineapple cakes c...\n",
              "678    730  ...  really like pineapple shortcakes sold unlike m...\n",
              "3663  3980  ...                                      started using\n",
              "3662  3979  ...  using lourdes chimichurri years stuff awesome ...\n",
              "3664  3981  ...  absolutely love product use chicken beef veggi...\n",
              "3580  3891  ...  never sunchy malta drank lot goya available lo...\n",
              "1110  1203  ...  item got house time surprised well package pac...\n",
              "1109  1202  ...  since gluten free tried types gf breads expens...\n",
              "1108  1201  ...  not good houston samba grill tasted great text...\n",
              "1107  1200  ...  made recently holiday party never seen anythin...\n",
              "1106  1199  ...  spent first five years life brazil american pa...\n",
              "1232  1332  ...  love dont use much strong tastes great makes e...\n",
              "4714  5116  ...  best olive oil not cooking olive oil work flav...\n",
              "2013  2197  ...  nearby fresh easy neighborhood market stocks n...\n",
              "3567  3878  ...                            get walmart gas station\n",
              "3271  3564  ...  coffee really rich perfect morning ordered off...\n",
              "220    240  ...  fresh great way get little chocolate life with...\n",
              "4117  4461  ...  taste something like flax bread cornbread exce...\n",
              "4118  4462  ...  wonderful dinner fresh fluke fried tempura bat...\n",
              "712    766  ...  tried available discs kona blend one best regu...\n",
              "711    765  ...  one best choices opinion also adore amazon nee...\n",
              "710    764  ...  tried many tassimo flavors far favorite normal...\n",
              "709    763  ...  bold blend great taste flavor comes bursting u...\n",
              "713    768  ...  coffee available tassimo kona richest flavor f...\n",
              "1362  1478  ...  coffee supposedly premium tastes watery thin n...\n",
              "\n",
              "[4986 rows x 11 columns]"
            ]
          },
          "metadata": {
            "tags": []
          },
          "execution_count": 30
        }
      ]
    },
    {
      "cell_type": "code",
      "metadata": {
        "id": "Rw_A_9pfDYMw",
        "colab_type": "code",
        "colab": {}
      },
      "source": [
        "# Please write all the code with proper documentation\n",
        "positive_points = final[final['Score'] == 1].sample(\n",
        "    n=900, random_state=0)\n",
        "negative_points = final[final['Score'] == 0].sample(\n",
        "    n=808, random_state=0)\n",
        "total_points = pd.concat([positive_points, negative_points])\n",
        "\n",
        "# Sorting based on time\n",
        "total_points['Time'] = pd.to_datetime(\n",
        "    total_points['Time'], origin='unix', unit='s')\n",
        "total_points = total_points.sort_values('Time')\n",
        "sample_points = total_points['CleanedText']\n",
        "labels = total_points['Score']"
      ],
      "execution_count": 0,
      "outputs": []
    },
    {
      "cell_type": "code",
      "metadata": {
        "id": "mz5rw2MSvaCA",
        "colab_type": "code",
        "colab": {}
      },
      "source": [
        "# Splitting into train and test\n",
        "X_train, X_test, Y_train, Y_test = train_test_split(\n",
        "    sample_points, labels, test_size=0.30, random_state=0)\n",
        "\n",
        "count_vect = CountVectorizer(ngram_range=(1, 1))\n",
        "X_train = count_vect.fit_transform(X_train)\n",
        "X_test = count_vect.transform(X_test)"
      ],
      "execution_count": 0,
      "outputs": []
    },
    {
      "cell_type": "code",
      "metadata": {
        "id": "u_qPvC-Zs2A2",
        "colab_type": "code",
        "colab": {}
      },
      "source": [
        "neighbors = list(range(20, 80, 4))\n",
        "cv_score = []\n",
        "for k in neighbors:\n",
        "    knn = KNeighborsClassifier(n_neighbors=k, algorithm='brute')\n",
        "    scores = cross_val_score(knn, X_train, Y_train, cv=10, scoring='accuracy')\n",
        "    cv_score.append(scores.mean())"
      ],
      "execution_count": 0,
      "outputs": []
    },
    {
      "cell_type": "code",
      "metadata": {
        "id": "fE2QkkUSs192",
        "colab_type": "code",
        "outputId": "5d67a274-fdd5-4b2b-bc30-e074bdc341da",
        "colab": {
          "base_uri": "https://localhost:8080/"
        }
      },
      "source": [
        "#Missclassification Error\n",
        "\n",
        "MSE = [1 - x for x in cv_score]\n",
        "optimal_k = neighbors[MSE.index(min(MSE))]\n",
        "print(\"_\" * 101)\n",
        "print(\"Optimal number of neighbors: \", optimal_k)\n",
        "print(\"_\" * 101)\n",
        "print(\"Missclassification error for each k values: \", np.round(MSE, 3))\n",
        "print(\"_\" * 101)\n",
        "\n",
        "plt.plot(neighbors, MSE)\n",
        "plt.title(\"Number of neighbors and error\")\n",
        "plt.xlabel(\"Number of neighbors\")\n",
        "plt.ylabel(\"Missclassification error\")\n",
        "plt.show()"
      ],
      "execution_count": 0,
      "outputs": [
        {
          "output_type": "stream",
          "text": [
            "_____________________________________________________________________________________________________\n",
            "Optimal number of neighbors:  24\n",
            "_____________________________________________________________________________________________________\n",
            "Missclassification error for each k values:  [0.322 0.31  0.32  0.33  0.335 0.346 0.357 0.353 0.357 0.364 0.364 0.373\n",
            " 0.376 0.377 0.378]\n",
            "_____________________________________________________________________________________________________\n"
          ],
          "name": "stdout"
        },
        {
          "output_type": "display_data",
          "data": {
            "image/png": "[encoded data removed]",
            "text/plain": [
              "<Figure size 432x288 with 1 Axes>"
            ]
          },
          "metadata": {
            "tags": []
          }
        }
      ]
    },
    {
      "cell_type": "code",
      "metadata": {
        "id": "s1sRQ5JsuTFS",
        "colab_type": "code",
        "outputId": "6128f0af-3bb4-4624-9b21-7e8a30ab1000",
        "colab": {
          "base_uri": "https://localhost:8080/"
        }
      },
      "source": [
        "#Accuracy Score\n",
        "optimal_model = KNeighborsClassifier(n_neighbors=optimal_k)\n",
        "optimal_model.fit(X_train, Y_train)\n",
        "prediction = optimal_model.predict(X_test)\n",
        "\n",
        "training_accuracy = optimal_model.score(X_train, Y_train)\n",
        "training_error = 1 - training_accuracy\n",
        "test_accuracy = accuracy_score(Y_test, prediction)\n",
        "test_error = 1 - test_accuracy\n",
        "\n",
        "print(\"_\" * 101)\n",
        "print(\"Training Accuracy: \", training_accuracy)\n",
        "print(\"Train Error: \", training_error)\n",
        "print(\"Test Accuracy: \", test_accuracy)\n",
        "print(\"Test Error: \", test_error)\n",
        "print(\"_\" * 101)"
      ],
      "execution_count": 0,
      "outputs": [
        {
          "output_type": "stream",
          "text": [
            "_____________________________________________________________________________________________________\n",
            "Training Accuracy:  0.7238493723849372\n",
            "Train Error:  0.2761506276150628\n",
            "Test Accuracy:  0.6939571150097466\n",
            "Test Error:  0.30604288499025345\n",
            "_____________________________________________________________________________________________________\n"
          ],
          "name": "stdout"
        }
      ]
    },
    {
      "cell_type": "code",
      "metadata": {
        "id": "Z6i3WftguTCZ",
        "colab_type": "code",
        "outputId": "7caa1051-6308-41f0-f640-9e91367a6f84",
        "colab": {
          "base_uri": "https://localhost:8080/"
        }
      },
      "source": [
        "#classification report\n",
        "\n",
        "from sklearn.metrics import classification_report\n",
        "print(\"_\" * 101)\n",
        "print(\"Classification Report: \\n\")\n",
        "print(classification_report(Y_test, prediction))\n",
        "print(\"_\" * 101)"
      ],
      "execution_count": 0,
      "outputs": [
        {
          "output_type": "stream",
          "text": [
            "_____________________________________________________________________________________________________\n",
            "Classification Report: \n",
            "\n",
            "              precision    recall  f1-score   support\n",
            "\n",
            "           0       0.71      0.65      0.68       254\n",
            "           1       0.68      0.74      0.71       259\n",
            "\n",
            "    accuracy                           0.69       513\n",
            "   macro avg       0.70      0.69      0.69       513\n",
            "weighted avg       0.70      0.69      0.69       513\n",
            "\n",
            "_____________________________________________________________________________________________________\n"
          ],
          "name": "stdout"
        }
      ]
    },
    {
      "cell_type": "code",
      "metadata": {
        "id": "zkB3bfBCvZ9u",
        "colab_type": "code",
        "outputId": "0ace298d-b752-4211-c645-b14edac5d25b",
        "colab": {
          "base_uri": "https://localhost:8080/"
        }
      },
      "source": [
        "#Confusion Matrix\n",
        "from sklearn.metrics import confusion_matrix\n",
        "\n",
        "conf_matrix = confusion_matrix(Y_test, prediction)\n",
        "class_label = ['negative', 'positive']\n",
        "df_conf_matrix = pd.DataFrame(\n",
        "    conf_matrix, index=class_label, columns=class_label)\n",
        "sb.heatmap(df_conf_matrix, annot=True, fmt='d')\n",
        "plt.title(\"Confusion Matrix\")\n",
        "plt.xlabel(\"Predicted\")\n",
        "plt.ylabel(\"Actual\")\n",
        "plt.show()\n",
        "print(\"_\" * 101)"
      ],
      "execution_count": 0,
      "outputs": [
        {
          "output_type": "display_data",
          "data": {
            "image/png": "[encoded data removed]",
            "text/plain": [
              "<Figure size 432x288 with 2 Axes>"
            ]
          },
          "metadata": {
            "tags": []
          }
        },
        {
          "output_type": "stream",
          "text": [
            "_____________________________________________________________________________________________________\n"
          ],
          "name": "stdout"
        }
      ]
    },
    {
      "cell_type": "code",
      "metadata": {
        "id": "jMo8BnPkvZ8F",
        "colab_type": "code",
        "colab": {}
      },
      "source": [
        ""
      ],
      "execution_count": 0,
      "outputs": []
    },
    {
      "cell_type": "markdown",
      "metadata": {
        "id": "m0UxvEKBDYM8",
        "colab_type": "text"
      },
      "source": [
        "### [5.1.2] Applying KNN brute force on TFIDF,<font color='red'> SET 2</font>"
      ]
    },
    {
      "cell_type": "code",
      "metadata": {
        "id": "5ffXQxa7DYM9",
        "colab_type": "code",
        "outputId": "83c01787-b417-472f-f3c3-f678e0c96e36",
        "colab": {
          "base_uri": "https://localhost:8080/"
        }
      },
      "source": [
        "# Please write all the code with proper documentation\n",
        "# Splitting into train and test\n",
        "X_train, X_test, Y_train, Y_test = train_test_split(\n",
        "    sample_points, labels, test_size=0.30)\n",
        "print(X_train.shape, X_test.shape, Y_train.shape, Y_test.shape)"
      ],
      "execution_count": 0,
      "outputs": [
        {
          "output_type": "stream",
          "text": [
            "(1195,) (513,) (1195,) (513,)\n"
          ],
          "name": "stdout"
        }
      ]
    },
    {
      "cell_type": "code",
      "metadata": {
        "id": "JG5kScO30SVI",
        "colab_type": "code",
        "outputId": "7eb477bc-9c3a-4dab-a75e-43cabf2987b7",
        "colab": {
          "base_uri": "https://localhost:8080/"
        }
      },
      "source": [
        "# Initializing tfidf vectorizer\n",
        "tfidf_vect = TfidfVectorizer(ngram_range=(1, 1))\n",
        "\n",
        "# Fitting for tfidf vectorization\n",
        "X_train = tfidf_vect.fit_transform(X_train)\n",
        "X_test = tfidf_vect.transform(X_test)\n",
        "\n",
        "print(X_train.shape, X_test.shape, Y_train.shape, Y_test.shape)"
      ],
      "execution_count": 0,
      "outputs": [
        {
          "output_type": "stream",
          "text": [
            "(1195, 6488) (513, 6488) (1195,) (513,)\n"
          ],
          "name": "stdout"
        }
      ]
    },
    {
      "cell_type": "code",
      "metadata": {
        "id": "r9JohzeS0R0E",
        "colab_type": "code",
        "colab": {}
      },
      "source": [
        "neighbors = list(range(20, 80, 4))\n",
        "cv_score = []\n",
        "for k in neighbors:\n",
        "    knn = KNeighborsClassifier(n_neighbors=k, algorithm='brute')\n",
        "    scores = cross_val_score(knn, X_train, Y_train, cv=10, scoring='accuracy')\n",
        "    cv_score.append(scores.mean())"
      ],
      "execution_count": 0,
      "outputs": []
    },
    {
      "cell_type": "code",
      "metadata": {
        "id": "xX7e3b4n0Rxg",
        "colab_type": "code",
        "outputId": "fe8d181f-837d-4a0d-a99c-6655ba875fe7",
        "colab": {
          "base_uri": "https://localhost:8080/"
        }
      },
      "source": [
        "#Miscalssification Error\n",
        "MSE = [1 - x for x in cv_score]\n",
        "optimal_k = neighbors[MSE.index(min(MSE))]\n",
        "print(\"_\" * 101)\n",
        "print(\"Optimal number of neighbors: \", optimal_k)\n",
        "print(\"_\" * 101)\n",
        "print(\"Missclassification error for each k values: \", np.round(MSE, 3))\n",
        "print(\"_\" * 101)\n",
        "\n",
        "plt.plot(neighbors, MSE)\n",
        "\n",
        "plt.title(\"Number of neighbors and error\")\n",
        "plt.xlabel(\"Number of neighbors\")\n",
        "plt.ylabel(\"Missclassification error\")\n",
        "plt.show()"
      ],
      "execution_count": 0,
      "outputs": [
        {
          "output_type": "stream",
          "text": [
            "_____________________________________________________________________________________________________\n",
            "Optimal number of neighbors:  72\n",
            "_____________________________________________________________________________________________________\n",
            "Missclassification error for each k values:  [0.268 0.269 0.268 0.263 0.254 0.256 0.262 0.259 0.264 0.254 0.254 0.253\n",
            " 0.247 0.242 0.249]\n",
            "_____________________________________________________________________________________________________\n"
          ],
          "name": "stdout"
        },
        {
          "output_type": "display_data",
          "data": {
            "image/png": "[encoded data removed]",
            "text/plain": [
              "<Figure size 432x288 with 1 Axes>"
            ]
          },
          "metadata": {
            "tags": []
          }
        }
      ]
    },
    {
      "cell_type": "code",
      "metadata": {
        "id": "ePk_Mg6m0vel",
        "colab_type": "code",
        "outputId": "dc312211-204f-4983-ea8c-24972080aec5",
        "colab": {
          "base_uri": "https://localhost:8080/"
        }
      },
      "source": [
        "#Accuracy Score\n",
        "optimal_model = KNeighborsClassifier(\n",
        "    n_neighbors=optimal_k, algorithm='brute')#brute\n",
        "optimal_model.fit(X_train, Y_train)\n",
        "prediction = optimal_model.predict(X_test)\n",
        "\n",
        "training_accuracy = optimal_model.score(X_train, Y_train)\n",
        "training_error = 1 - training_accuracy\n",
        "test_accuracy = accuracy_score(Y_test, prediction)\n",
        "test_error = 1 - test_accuracy\n",
        "\n",
        "print(\"_\" * 101)\n",
        "print(\"Training Accuracy: \", training_accuracy)\n",
        "print(\"Train Error: \", training_error)\n",
        "print(\"Test Accuracy: \", test_accuracy)\n",
        "print(\"Test Error: \", test_error)\n",
        "print(\"_\" * 101)"
      ],
      "execution_count": 0,
      "outputs": [
        {
          "output_type": "stream",
          "text": [
            "_____________________________________________________________________________________________________\n",
            "Training Accuracy:  0.7723849372384938\n",
            "Train Error:  0.22761506276150623\n",
            "Test Accuracy:  0.7446393762183235\n",
            "Test Error:  0.25536062378167645\n",
            "_____________________________________________________________________________________________________\n"
          ],
          "name": "stdout"
        }
      ]
    },
    {
      "cell_type": "code",
      "metadata": {
        "id": "kx2IeQ1r0vbr",
        "colab_type": "code",
        "outputId": "06757262-f192-4eae-a040-ef5594925b65",
        "colab": {
          "base_uri": "https://localhost:8080/"
        }
      },
      "source": [
        "#Classification Report\n",
        "print(\"_\" * 101)\n",
        "print(\"Classification Report: \\n\")\n",
        "print(classification_report(Y_test, prediction))\n",
        "print(\"_\" * 101)"
      ],
      "execution_count": 0,
      "outputs": [
        {
          "output_type": "stream",
          "text": [
            "_____________________________________________________________________________________________________\n",
            "Classification Report: \n",
            "\n",
            "              precision    recall  f1-score   support\n",
            "\n",
            "           0       0.84      0.58      0.69       247\n",
            "           1       0.70      0.90      0.78       266\n",
            "\n",
            "    accuracy                           0.74       513\n",
            "   macro avg       0.77      0.74      0.74       513\n",
            "weighted avg       0.77      0.74      0.74       513\n",
            "\n",
            "_____________________________________________________________________________________________________\n"
          ],
          "name": "stdout"
        }
      ]
    },
    {
      "cell_type": "code",
      "metadata": {
        "id": "1qLTJyYG0Rt_",
        "colab_type": "code",
        "outputId": "29a3899e-0272-478f-eaef-9cbf677e567e",
        "colab": {
          "base_uri": "https://localhost:8080/"
        }
      },
      "source": [
        "#Confusion Matrix\n",
        "conf_matrix = confusion_matrix(Y_test, prediction)\n",
        "class_label = ['negative', 'positive']\n",
        "df_conf_matrix = pd.DataFrame(\n",
        "    conf_matrix, index=class_label, columns=class_label)\n",
        "sb.heatmap(df_conf_matrix, annot=True, fmt='d')\n",
        "plt.title(\"Confusion Matrix\")\n",
        "plt.xlabel(\"Predicted\")\n",
        "plt.ylabel(\"Actual\")\n",
        "plt.show()"
      ],
      "execution_count": 0,
      "outputs": [
        {
          "output_type": "display_data",
          "data": {
            "image/png": "[encoded data removed]",
            "text/plain": [
              "<Figure size 432x288 with 2 Axes>"
            ]
          },
          "metadata": {
            "tags": []
          }
        }
      ]
    },
    {
      "cell_type": "code",
      "metadata": {
        "id": "l864c-1c0RsJ",
        "colab_type": "code",
        "colab": {}
      },
      "source": [
        ""
      ],
      "execution_count": 0,
      "outputs": []
    },
    {
      "cell_type": "markdown",
      "metadata": {
        "id": "sgcPCRG8DYNC",
        "colab_type": "text"
      },
      "source": [
        "### [5.1.3] Applying KNN brute force on AVG W2V,<font color='red'> SET 3</font>"
      ]
    },
    {
      "cell_type": "code",
      "metadata": {
        "id": "rks7OdezO7pT",
        "colab_type": "code",
        "colab": {}
      },
      "source": [
        "sent_vectors"
      ],
      "execution_count": 0,
      "outputs": []
    },
    {
      "cell_type": "code",
      "metadata": {
        "id": "bT4Dm8fiDYNL",
        "colab_type": "code",
        "colab": {}
      },
      "source": [
        "# Please write all the code with proper documentation\n",
        "neighbors = list(range(20, 50, 2))\n",
        "cv_score = []\n",
        "for k in neighbors:\n",
        "    knn = KNeighborsClassifier(n_neighbors=k, algorithm='brute')\n",
        "    scores = cross_val_score(knn, X_train, Y_train, cv=10, scoring='accuracy')\n",
        "    cv_score.append(scores.mean())"
      ],
      "execution_count": 0,
      "outputs": []
    },
    {
      "cell_type": "code",
      "metadata": {
        "id": "TCTgnR3UYKmD",
        "colab_type": "code",
        "outputId": "76287d94-bb2d-4ad1-8a81-ce1f3323f375",
        "colab": {
          "base_uri": "https://localhost:8080/"
        }
      },
      "source": [
        "#Misclassification Error\n",
        "\n",
        "MSE = [1 - x for x in cv_score]\n",
        "optimal_k = neighbors[MSE.index(min(MSE))]\n",
        "print(\"_\" * 101)\n",
        "print(\"Optimal number of neighbors: \", optimal_k)\n",
        "print(\"_\" * 101)\n",
        "print(\"Missclassification error for each k values: \", np.round(MSE, 3))\n",
        "print(\"_\" * 101)\n",
        "\n",
        "plt.plot(neighbors, MSE)\n",
        "\n",
        "plt.title(\"Number of neighbors and error\")\n",
        "plt.xlabel(\"Number of neighbors\")\n",
        "plt.ylabel(\"Missclassification error\")\n",
        "plt.show()\n"
      ],
      "execution_count": 0,
      "outputs": [
        {
          "output_type": "stream",
          "text": [
            "_____________________________________________________________________________________________________\n",
            "Optimal number of neighbors:  28\n",
            "_____________________________________________________________________________________________________\n",
            "Missclassification error for each k values:  [0.17  0.17  0.17  0.169 0.169 0.169 0.169 0.169 0.169 0.169 0.169 0.169\n",
            " 0.169 0.169 0.169]\n",
            "_____________________________________________________________________________________________________\n"
          ],
          "name": "stdout"
        },
        {
          "output_type": "display_data",
          "data": {
            "image/png": "[encoded data removed]",
            "text/plain": [
              "<Figure size 432x288 with 1 Axes>"
            ]
          },
          "metadata": {
            "tags": []
          }
        }
      ]
    },
    {
      "cell_type": "code",
      "metadata": {
        "id": "GHqrKVyLYKfb",
        "colab_type": "code",
        "outputId": "b04343eb-09af-4989-869b-54f116f8916a",
        "colab": {
          "base_uri": "https://localhost:8080/"
        }
      },
      "source": [
        "#Accuracy Score\n",
        "\n",
        "optimal_model = KNeighborsClassifier(\n",
        "    n_neighbors=optimal_k, algorithm='kd_tree')\n",
        "optimal_model.fit(X_train, Y_train)\n",
        "prediction = optimal_model.predict(X_test)\n",
        "\n",
        "training_accuracy = optimal_model.score(X_train, Y_train)\n",
        "training_error = 1 - training_accuracy\n",
        "test_accuracy = accuracy_score(Y_test, prediction)\n",
        "test_error = 1 - test_accuracy\n",
        "\n",
        "print(\"_\" * 101)\n",
        "print(\"Training Accuracy: \", training_accuracy)\n",
        "print(\"Train Error: \", training_error)\n",
        "print(\"Test Accuracy: \", test_accuracy)\n",
        "print(\"Test Error: \", test_error)\n",
        "print(\"_\" * 101)"
      ],
      "execution_count": 0,
      "outputs": [
        {
          "output_type": "stream",
          "text": [
            "_____________________________________________________________________________________________________\n",
            "Training Accuracy:  0.8312320916905445\n",
            "Train Error:  0.16876790830945554\n",
            "Test Accuracy:  0.8536096256684492\n",
            "Test Error:  0.14639037433155078\n",
            "_____________________________________________________________________________________________________\n"
          ],
          "name": "stdout"
        }
      ]
    },
    {
      "cell_type": "code",
      "metadata": {
        "id": "iQK54m9gYKbX",
        "colab_type": "code",
        "outputId": "b1ce6c8f-be96-408a-91a4-d8ba998e39db",
        "colab": {
          "base_uri": "https://localhost:8080/"
        }
      },
      "source": [
        "#Classification Report\n",
        "\n",
        "print(\"_\" * 101)\n",
        "print(\"Classification Report: \\n\")\n",
        "print(classification_report(Y_test, prediction))\n",
        "print(\"_\" * 101)"
      ],
      "execution_count": 0,
      "outputs": [
        {
          "output_type": "stream",
          "text": [
            "_____________________________________________________________________________________________________\n",
            "Classification Report: \n",
            "\n",
            "              precision    recall  f1-score   support\n",
            "\n",
            "           0       0.00      0.00      0.00       219\n",
            "           1       0.85      1.00      0.92      1277\n",
            "\n",
            "    accuracy                           0.85      1496\n",
            "   macro avg       0.43      0.50      0.46      1496\n",
            "weighted avg       0.73      0.85      0.79      1496\n",
            "\n",
            "_____________________________________________________________________________________________________\n"
          ],
          "name": "stdout"
        }
      ]
    },
    {
      "cell_type": "code",
      "metadata": {
        "id": "Yk4BX1_qYKZn",
        "colab_type": "code",
        "outputId": "0bd5eb79-1b27-4a69-f57a-bf2efd7b0d09",
        "colab": {
          "base_uri": "https://localhost:8080/"
        }
      },
      "source": [
        "#Confusion Matrix\n",
        "\n",
        "conf_matrix = confusion_matrix(Y_test, prediction)\n",
        "class_label = ['negative', 'positive']\n",
        "df_conf_matrix = pd.DataFrame(\n",
        "    conf_matrix, index=class_label, columns=class_label)\n",
        "sb.heatmap(df_conf_matrix, annot=True, fmt='d')\n",
        "plt.title(\"Confusion Matrix\")\n",
        "plt.xlabel(\"Predicted\")\n",
        "plt.ylabel(\"Actual\")\n",
        "plt.show()\n",
        "print(\"_\" * 101)"
      ],
      "execution_count": 0,
      "outputs": [
        {
          "output_type": "display_data",
          "data": {
            "image/png": "[encoded data removed]",
            "text/plain": [
              "<Figure size 432x288 with 2 Axes>"
            ]
          },
          "metadata": {
            "tags": []
          }
        },
        {
          "output_type": "stream",
          "text": [
            "_____________________________________________________________________________________________________\n"
          ],
          "name": "stdout"
        }
      ]
    },
    {
      "cell_type": "markdown",
      "metadata": {
        "id": "L-xcoDmADYNP",
        "colab_type": "text"
      },
      "source": [
        "### [5.1.4] Applying KNN brute force on TFIDF W2V,<font color='red'> SET 4</font>"
      ]
    },
    {
      "cell_type": "code",
      "metadata": {
        "id": "Z9tFDe5_DYNQ",
        "colab_type": "code",
        "colab": {}
      },
      "source": [
        "# Please write all the code with proper documentation\n",
        "neighbors = list(range(1, 50, 2))\n",
        "cv_score = []\n",
        "for k in neighbors:\n",
        "    knn = KNeighborsClassifier(n_neighbors=k, algorithm='brute')\n",
        "    scores = cross_val_score(knn, X_train, Y_train, cv=10, scoring='accuracy')\n",
        "    cv_score.append(scores.mean())"
      ],
      "execution_count": 0,
      "outputs": []
    },
    {
      "cell_type": "code",
      "metadata": {
        "id": "CnnqP7oeqZa0",
        "colab_type": "code",
        "outputId": "26fe8c0c-3035-4be9-edd0-6cf1b4f5fe24",
        "colab": {
          "base_uri": "https://localhost:8080/"
        }
      },
      "source": [
        "#Misclassification Error\n",
        "\n",
        "MSE = [1 - x for x in cv_score]\n",
        "optimal_k = neighbors[MSE.index(min(MSE))]\n",
        "print(\"_\" * 101)\n",
        "print(\"Optimal number of neighbors: \", optimal_k)\n",
        "print(\"_\" * 101)\n",
        "print(\"Missclassification error for each k values: \", np.round(MSE, 3))\n",
        "print(\"_\" * 101)\n",
        "\n",
        "plt.plot(neighbors, MSE)\n",
        "#for xy in zip(neighbors, np.round(MSE, 3)):\n",
        "#    plt.annotate(\"%s %s\" %xy, xy=xy, textcoords='data')\n",
        "plt.title(\"Number of neighbors and error\")\n",
        "plt.xlabel(\"Number of neighbors\")\n",
        "plt.ylabel(\"Missclassification error\")\n",
        "plt.show()"
      ],
      "execution_count": 0,
      "outputs": [
        {
          "output_type": "stream",
          "text": [
            "_____________________________________________________________________________________________________\n",
            "Optimal number of neighbors:  19\n",
            "_____________________________________________________________________________________________________\n",
            "Missclassification error for each k values:  [0.269 0.211 0.189 0.177 0.169 0.166 0.165 0.165 0.163 0.162 0.162 0.162\n",
            " 0.162 0.162 0.162 0.162 0.162 0.162 0.162 0.162 0.162 0.162 0.162 0.162\n",
            " 0.162]\n",
            "_____________________________________________________________________________________________________\n"
          ],
          "name": "stdout"
        },
        {
          "output_type": "display_data",
          "data": {
            "image/png": "[encoded data removed]",
            "text/plain": [
              "<Figure size 432x288 with 1 Axes>"
            ]
          },
          "metadata": {
            "tags": []
          }
        }
      ]
    },
    {
      "cell_type": "code",
      "metadata": {
        "id": "rFlPubZSqZL5",
        "colab_type": "code",
        "outputId": "793f70fd-0419-4f98-bdc6-58d500568cdd",
        "colab": {
          "base_uri": "https://localhost:8080/"
        }
      },
      "source": [
        "#Accuracy Score\n",
        "\n",
        "optimal_model = KNeighborsClassifier(\n",
        "    n_neighbors=optimal_k, algorithm='kd_tree')\n",
        "optimal_model.fit(X_train, Y_train)\n",
        "prediction = optimal_model.predict(X_test)\n",
        "\n",
        "training_accuracy = optimal_model.score(X_train, Y_train)\n",
        "training_error = 1 - training_accuracy\n",
        "test_accuracy = accuracy_score(Y_test, prediction)\n",
        "test_error = 1 - test_accuracy\n",
        "\n",
        "print(\"_\" * 101)\n",
        "print(\"Training Accuracy: \", training_accuracy)\n",
        "print(\"Train Error: \", training_error)\n",
        "print(\"Test Accuracy: \", test_accuracy)\n",
        "print(\"Test Error: \", test_error)\n",
        "print(\"_\" * 101)"
      ],
      "execution_count": 0,
      "outputs": [
        {
          "output_type": "stream",
          "text": [
            "_____________________________________________________________________________________________________\n",
            "Training Accuracy:  0.8375358166189112\n",
            "Train Error:  0.1624641833810888\n",
            "Test Accuracy:  0.838903743315508\n",
            "Test Error:  0.161096256684492\n",
            "_____________________________________________________________________________________________________\n"
          ],
          "name": "stdout"
        }
      ]
    },
    {
      "cell_type": "code",
      "metadata": {
        "id": "ivjgpc9wqZGl",
        "colab_type": "code",
        "outputId": "7f18cd27-ff7a-4c94-fd81-ab9548816ee4",
        "colab": {
          "base_uri": "https://localhost:8080/"
        }
      },
      "source": [
        "#Classification Report\n",
        "\n",
        "print(\"_\" * 101)\n",
        "print(\"Classification Report: \\n\")\n",
        "print(classification_report(Y_test, prediction))\n",
        "print(\"_\" * 101)"
      ],
      "execution_count": 0,
      "outputs": [
        {
          "output_type": "stream",
          "text": [
            "_____________________________________________________________________________________________________\n",
            "Classification Report: \n",
            "\n",
            "              precision    recall  f1-score   support\n",
            "\n",
            "           0       0.00      0.00      0.00       241\n",
            "           1       0.84      1.00      0.91      1255\n",
            "\n",
            "    accuracy                           0.84      1496\n",
            "   macro avg       0.42      0.50      0.46      1496\n",
            "weighted avg       0.70      0.84      0.77      1496\n",
            "\n",
            "_____________________________________________________________________________________________________\n"
          ],
          "name": "stdout"
        }
      ]
    },
    {
      "cell_type": "code",
      "metadata": {
        "id": "a4qAG3B0qZD9",
        "colab_type": "code",
        "outputId": "9307be38-a31b-4676-a945-4af65633025e",
        "colab": {
          "base_uri": "https://localhost:8080/"
        }
      },
      "source": [
        "#Confusion Matrix\n",
        "\n",
        "conf_matrix = confusion_matrix(Y_test, prediction)\n",
        "class_label = ['negative', 'positive']\n",
        "df_conf_matrix = pd.DataFrame(\n",
        "    conf_matrix, index=class_label, columns=class_label)\n",
        "sb.heatmap(df_conf_matrix, annot=True, fmt='d')\n",
        "plt.title(\"Confusion Matrix\")\n",
        "plt.xlabel(\"Predicted\")\n",
        "plt.ylabel(\"Actual\")\n",
        "plt.show()\n",
        "print(\"_\" * 101)"
      ],
      "execution_count": 0,
      "outputs": [
        {
          "output_type": "display_data",
          "data": {
            "image/png": "[encoded data removed]",
            "text/plain": [
              "<Figure size 432x288 with 2 Axes>"
            ]
          },
          "metadata": {
            "tags": []
          }
        },
        {
          "output_type": "stream",
          "text": [
            "_____________________________________________________________________________________________________\n"
          ],
          "name": "stdout"
        }
      ]
    },
    {
      "cell_type": "markdown",
      "metadata": {
        "id": "v2x7vWX-DYNT",
        "colab_type": "text"
      },
      "source": [
        "## [5.2] Applying KNN kd-tree"
      ]
    },
    {
      "cell_type": "markdown",
      "metadata": {
        "id": "jfY8wT02DYNU",
        "colab_type": "text"
      },
      "source": [
        "### [5.2.1] Applying KNN kd-tree on BOW,<font color='red'> SET 5</font>"
      ]
    },
    {
      "cell_type": "code",
      "metadata": {
        "id": "kiIQYuA2DYNV",
        "colab_type": "code",
        "colab": {}
      },
      "source": [
        "# Please write all the code with proper documentation\n",
        "neighbors = list(range(20, 80, 4))\n",
        "cv_score = []\n",
        "for k in neighbors:\n",
        "    knn = KNeighborsClassifier(n_neighbors=k, algorithm='kd_tree')\n",
        "    scores = cross_val_score(knn, X_train, Y_train, cv=10, scoring='accuracy')\n",
        "    cv_score.append(scores.mean())"
      ],
      "execution_count": 0,
      "outputs": []
    },
    {
      "cell_type": "code",
      "metadata": {
        "id": "u952L9FtxTf4",
        "colab_type": "code",
        "outputId": "c1c52915-c76d-4447-c6b5-4085319757a3",
        "colab": {
          "base_uri": "https://localhost:8080/"
        }
      },
      "source": [
        "#Misclassification Error\n",
        "MSE = [1 - x for x in cv_score]\n",
        "optimal_k = neighbors[MSE.index(min(MSE))]\n",
        "print(\"_\" * 101)\n",
        "print(\"Optimal number of neighbors: \", optimal_k)\n",
        "print(\"_\" * 101)\n",
        "print(\"Missclassification error for each k values: \", np.round(MSE, 3))\n",
        "print(\"_\" * 101)\n",
        "\n",
        "plt.plot(neighbors, MSE)\n",
        "#for xy in zip(neighbors, np.round(MSE, 3)):\n",
        "#    plt.annotate(\"%s %s\" %xy, xy=xy, textcoords='data')\n",
        "plt.title(\"Number of neighbors and error\")\n",
        "plt.xlabel(\"Number of neighbors\")\n",
        "plt.ylabel(\"Missclassification error\")\n",
        "plt.show()"
      ],
      "execution_count": 0,
      "outputs": [
        {
          "output_type": "stream",
          "text": [
            "_____________________________________________________________________________________________________\n",
            "Optimal number of neighbors:  24\n",
            "_____________________________________________________________________________________________________\n",
            "Missclassification error for each k values:  [0.322 0.31  0.32  0.33  0.335 0.346 0.357 0.353 0.357 0.364 0.364 0.373\n",
            " 0.376 0.377 0.378]\n",
            "_____________________________________________________________________________________________________\n"
          ],
          "name": "stdout"
        },
        {
          "output_type": "display_data",
          "data": {
            "image/png": "[encoded data removed]",
            "text/plain": [
              "<Figure size 432x288 with 1 Axes>"
            ]
          },
          "metadata": {
            "tags": []
          }
        }
      ]
    },
    {
      "cell_type": "code",
      "metadata": {
        "id": "yU7Ln-47xTFa",
        "colab_type": "code",
        "outputId": "62b9ad6e-9cc4-4ef4-bfde-2d5a8b0bc355",
        "colab": {
          "base_uri": "https://localhost:8080/"
        }
      },
      "source": [
        "#Accuracy Score\n",
        "\n",
        "optimal_model = KNeighborsClassifier(\n",
        "    n_neighbors=optimal_k, algorithm='kd_tree')#kd tree\n",
        "optimal_model.fit(X_train, Y_train)\n",
        "prediction = optimal_model.predict(X_test)\n",
        "\n",
        "training_accuracy = optimal_model.score(X_train, Y_train)\n",
        "training_error = 1 - training_accuracy\n",
        "test_accuracy = accuracy_score(Y_test, prediction)\n",
        "test_error = 1 - test_accuracy\n",
        "\n",
        "print(\"_\" * 101)\n",
        "print(\"Training Accuracy: \", training_accuracy)\n",
        "print(\"Train Error: \", training_error)\n",
        "print(\"Test Accuracy: \", test_accuracy)\n",
        "print(\"Test Error: \", test_error)\n",
        "print(\"_\" * 101)"
      ],
      "execution_count": 0,
      "outputs": [
        {
          "output_type": "stream",
          "text": [
            "_____________________________________________________________________________________________________\n",
            "Training Accuracy:  0.7238493723849372\n",
            "Train Error:  0.2761506276150628\n",
            "Test Accuracy:  0.6939571150097466\n",
            "Test Error:  0.30604288499025345\n",
            "_____________________________________________________________________________________________________\n"
          ],
          "name": "stdout"
        }
      ]
    },
    {
      "cell_type": "code",
      "metadata": {
        "id": "GiwXE96dx2sE",
        "colab_type": "code",
        "outputId": "97768a5f-dc0d-4ccc-e30d-16e9e0570048",
        "colab": {
          "base_uri": "https://localhost:8080/"
        }
      },
      "source": [
        "#Classification Report\n",
        "print(\"Classification Report: \\n\")\n",
        "print(classification_report(Y_test, prediction))"
      ],
      "execution_count": 0,
      "outputs": [
        {
          "output_type": "stream",
          "text": [
            "Classification Report: \n",
            "\n",
            "              precision    recall  f1-score   support\n",
            "\n",
            "           0       0.71      0.65      0.68       254\n",
            "           1       0.68      0.74      0.71       259\n",
            "\n",
            "    accuracy                           0.69       513\n",
            "   macro avg       0.70      0.69      0.69       513\n",
            "weighted avg       0.70      0.69      0.69       513\n",
            "\n"
          ],
          "name": "stdout"
        }
      ]
    },
    {
      "cell_type": "code",
      "metadata": {
        "id": "Vv34SHsaxTCV",
        "colab_type": "code",
        "outputId": "9c08a778-4ac0-47d8-eadd-96d0f608e0d8",
        "colab": {
          "base_uri": "https://localhost:8080/"
        }
      },
      "source": [
        "#Confusion Matrix\n",
        "conf_matrix = confusion_matrix(Y_test, prediction)\n",
        "class_label = ['negative', 'positive']\n",
        "df_conf_matrix = pd.DataFrame(\n",
        "    conf_matrix, index=class_label, columns=class_label)\n",
        "sb.heatmap(df_conf_matrix, annot=True, fmt='d')\n",
        "plt.title(\"Confusion Matrix\")\n",
        "plt.xlabel(\"Predicted\")\n",
        "plt.ylabel(\"Actual\")\n",
        "plt.show()\n",
        "print(\"_\" * 101)"
      ],
      "execution_count": 0,
      "outputs": [
        {
          "output_type": "display_data",
          "data": {
            "image/png": "[encoded data removed]",
            "text/plain": [
              "<Figure size 432x288 with 2 Axes>"
            ]
          },
          "metadata": {
            "tags": []
          }
        },
        {
          "output_type": "stream",
          "text": [
            "_____________________________________________________________________________________________________\n"
          ],
          "name": "stdout"
        }
      ]
    },
    {
      "cell_type": "markdown",
      "metadata": {
        "id": "kG-xYnK7DYNt",
        "colab_type": "text"
      },
      "source": [
        "### [5.2.2] Applying KNN kd-tree on TFIDF,<font color='red'> SET 6</font>"
      ]
    },
    {
      "cell_type": "code",
      "metadata": {
        "id": "ffjRVz_iDYNu",
        "colab_type": "code",
        "colab": {}
      },
      "source": [
        "# Please write all the code with proper documentation\n",
        "neighbors = list(range(20, 80, 4))\n",
        "cv_score = []\n",
        "for k in neighbors:\n",
        "    knn = KNeighborsClassifier(n_neighbors=k, algorithm='kd_tree')\n",
        "    scores = cross_val_score(knn, X_train, Y_train, cv=10, scoring='accuracy')\n",
        "    cv_score.append(scores.mean())"
      ],
      "execution_count": 0,
      "outputs": []
    },
    {
      "cell_type": "code",
      "metadata": {
        "id": "XJXfn1Q518Ej",
        "colab_type": "code",
        "outputId": "a520ddf3-2ba6-445f-a7bf-ad75b407e4e5",
        "colab": {
          "base_uri": "https://localhost:8080/"
        }
      },
      "source": [
        "#Misclassification Error\n",
        "MSE = [1 - x for x in cv_score]\n",
        "optimal_k = neighbors[MSE.index(min(MSE))]\n",
        "print(\"_\" * 101)\n",
        "print(\"Optimal number of neighbors: \", optimal_k)\n",
        "print(\"_\" * 101)\n",
        "print(\"Missclassification error for each k values: \", np.round(MSE, 3))\n",
        "print(\"_\" * 101)\n",
        "\n",
        "plt.plot(neighbors, MSE)\n",
        "#for xy in zip(neighbors, np.round(MSE, 3)):\n",
        "#    plt.annotate(\"%s %s\" %xy, xy=xy, textcoords='data')\n",
        "plt.title(\"Number of neighbors and error\")\n",
        "plt.xlabel(\"Number of neighbors\")\n",
        "plt.ylabel(\"Missclassification error\")\n",
        "plt.show()"
      ],
      "execution_count": 0,
      "outputs": [
        {
          "output_type": "stream",
          "text": [
            "_____________________________________________________________________________________________________\n",
            "Optimal number of neighbors:  72\n",
            "_____________________________________________________________________________________________________\n",
            "Missclassification error for each k values:  [0.268 0.269 0.268 0.263 0.254 0.256 0.262 0.259 0.264 0.254 0.254 0.253\n",
            " 0.247 0.242 0.249]\n",
            "_____________________________________________________________________________________________________\n"
          ],
          "name": "stdout"
        },
        {
          "output_type": "display_data",
          "data": {
            "image/png": "[encoded data removed]",
            "text/plain": [
              "<Figure size 432x288 with 1 Axes>"
            ]
          },
          "metadata": {
            "tags": []
          }
        }
      ]
    },
    {
      "cell_type": "code",
      "metadata": {
        "id": "aB1fNSBi17pB",
        "colab_type": "code",
        "outputId": "c9dfdc11-81f4-4d77-c183-9baf0e7c7c3c",
        "colab": {
          "base_uri": "https://localhost:8080/"
        }
      },
      "source": [
        "#Accuracy Score\n",
        "optimal_model = KNeighborsClassifier(\n",
        "    n_neighbors=optimal_k, algorithm='kd_tree')\n",
        "optimal_model.fit(X_train, Y_train)\n",
        "prediction = optimal_model.predict(X_test)\n",
        "\n",
        "training_accuracy = optimal_model.score(X_train, Y_train)\n",
        "training_error = 1 - training_accuracy\n",
        "test_accuracy = accuracy_score(Y_test, prediction)\n",
        "test_error = 1 - test_accuracy\n",
        "\n",
        "print(\"_\" * 101)\n",
        "print(\"Training Accuracy: \", training_accuracy)\n",
        "print(\"Train Error: \", training_error)\n",
        "print(\"Test Accuracy: \", test_accuracy)\n",
        "print(\"Test Error: \", test_error)\n",
        "print(\"_\" * 101)"
      ],
      "execution_count": 0,
      "outputs": [
        {
          "output_type": "stream",
          "text": [
            "_____________________________________________________________________________________________________\n",
            "Training Accuracy:  0.7723849372384938\n",
            "Train Error:  0.22761506276150623\n",
            "Test Accuracy:  0.7446393762183235\n",
            "Test Error:  0.25536062378167645\n",
            "_____________________________________________________________________________________________________\n"
          ],
          "name": "stdout"
        }
      ]
    },
    {
      "cell_type": "code",
      "metadata": {
        "id": "a7jJITjz17l2",
        "colab_type": "code",
        "outputId": "1ce9079e-a7f7-4502-f9dd-700c4f7fa636",
        "colab": {
          "base_uri": "https://localhost:8080/"
        }
      },
      "source": [
        "#Classificatoin Report\n",
        "print(\"_\" * 101)\n",
        "print(\"Classification Report: \\n\")\n",
        "print(classification_report(Y_test, prediction))\n",
        "print(\"_\" * 101)"
      ],
      "execution_count": 0,
      "outputs": [
        {
          "output_type": "stream",
          "text": [
            "_____________________________________________________________________________________________________\n",
            "Classification Report: \n",
            "\n",
            "              precision    recall  f1-score   support\n",
            "\n",
            "           0       0.84      0.58      0.69       247\n",
            "           1       0.70      0.90      0.78       266\n",
            "\n",
            "    accuracy                           0.74       513\n",
            "   macro avg       0.77      0.74      0.74       513\n",
            "weighted avg       0.77      0.74      0.74       513\n",
            "\n",
            "_____________________________________________________________________________________________________\n"
          ],
          "name": "stdout"
        }
      ]
    },
    {
      "cell_type": "code",
      "metadata": {
        "id": "MQtMX3dr17ib",
        "colab_type": "code",
        "outputId": "64e98961-77ae-40af-d9d7-6994dedc4657",
        "colab": {
          "base_uri": "https://localhost:8080/"
        }
      },
      "source": [
        "#Confusion Matrix\n",
        "conf_matrix = confusion_matrix(Y_test, prediction)\n",
        "class_label = ['negative', 'positive']\n",
        "df_conf_matrix = pd.DataFrame(\n",
        "    conf_matrix, index=class_label, columns=class_label)\n",
        "sb.heatmap(df_conf_matrix, annot=True, fmt='d')\n",
        "plt.title(\"Confusion Matrix\")\n",
        "plt.xlabel(\"Predicted\")\n",
        "plt.ylabel(\"Actual\")\n",
        "plt.show()\n",
        "print(\"_\" * 101)"
      ],
      "execution_count": 0,
      "outputs": [
        {
          "output_type": "display_data",
          "data": {
            "image/png": "[encoded data removed]",
            "text/plain": [
              "<Figure size 432x288 with 2 Axes>"
            ]
          },
          "metadata": {
            "tags": []
          }
        },
        {
          "output_type": "stream",
          "text": [
            "_____________________________________________________________________________________________________\n"
          ],
          "name": "stdout"
        }
      ]
    },
    {
      "cell_type": "code",
      "metadata": {
        "id": "iq-6SuGe17g3",
        "colab_type": "code",
        "colab": {}
      },
      "source": [
        ""
      ],
      "execution_count": 0,
      "outputs": []
    },
    {
      "cell_type": "markdown",
      "metadata": {
        "id": "ddU0dZI0DYNx",
        "colab_type": "text"
      },
      "source": [
        "### [5.2.3] Applying KNN kd-tree on AVG W2V,<font color='red'> SET 3</font>"
      ]
    },
    {
      "cell_type": "code",
      "metadata": {
        "id": "YAl6PXWcDYNy",
        "colab_type": "code",
        "colab": {}
      },
      "source": [
        "# Please write all the code with proper documentation\n",
        "neighbors = list(range(20, 50, 4))\n",
        "cv_score = []\n",
        "for k in neighbors:\n",
        "    knn = KNeighborsClassifier(n_neighbors=k, algorithm='kd_tree')\n",
        "    scores = cross_val_score(knn, X_train, Y_train, cv=10, scoring='accuracy')\n",
        "    cv_score.append(scores.mean())"
      ],
      "execution_count": 0,
      "outputs": []
    },
    {
      "cell_type": "code",
      "metadata": {
        "id": "zMvuVRiHi7xb",
        "colab_type": "code",
        "outputId": "6bcc8700-20d6-4d16-d57a-4ccdf6e68014",
        "colab": {
          "base_uri": "https://localhost:8080/"
        }
      },
      "source": [
        "#Misclassification Error\n",
        "\n",
        "MSE = [1 - x for x in cv_score]\n",
        "optimal_k = neighbors[MSE.index(min(MSE))]\n",
        "print(\"_\" * 101)\n",
        "print(\"Optimal number of neighbors: \", optimal_k)\n",
        "print(\"_\" * 101)\n",
        "print(\"Missclassification error for each k values: \", np.round(MSE, 3))\n",
        "print(\"_\" * 101)\n",
        "\n",
        "plt.plot(neighbors, MSE)\n",
        "#for xy in zip(neighbors, np.round(MSE, 3)):\n",
        "#    plt.annotate(\"%s %s\" %xy, xy=xy, textcoords='data')\n",
        "plt.title(\"Number of neighbors and error\")\n",
        "plt.xlabel(\"Number of neighbors\")\n",
        "plt.ylabel(\"Missclassification error\")\n",
        "plt.show()"
      ],
      "execution_count": 0,
      "outputs": [
        {
          "output_type": "stream",
          "text": [
            "_____________________________________________________________________________________________________\n",
            "Optimal number of neighbors:  28\n",
            "_____________________________________________________________________________________________________\n",
            "Missclassification error for each k values:  [0.17  0.17  0.169 0.169 0.169 0.169 0.169 0.169]\n",
            "_____________________________________________________________________________________________________\n"
          ],
          "name": "stdout"
        },
        {
          "output_type": "display_data",
          "data": {
            "image/png": "[encoded data removed]",
            "text/plain": [
              "<Figure size 432x288 with 1 Axes>"
            ]
          },
          "metadata": {
            "tags": []
          }
        }
      ]
    },
    {
      "cell_type": "code",
      "metadata": {
        "id": "U9Js8mV5i7Wb",
        "colab_type": "code",
        "outputId": "7ec43540-76a0-4ed4-e2d8-5f366aa5cef8",
        "colab": {
          "base_uri": "https://localhost:8080/"
        }
      },
      "source": [
        "#Accuracy Score\n",
        "\n",
        "optimal_model = KNeighborsClassifier(\n",
        "    n_neighbors=optimal_k, algorithm='kd_tree')\n",
        "optimal_model.fit(X_train, Y_train)\n",
        "prediction = optimal_model.predict(X_test)\n",
        "\n",
        "training_accuracy = optimal_model.score(X_train, Y_train)\n",
        "training_error = 1 - training_accuracy\n",
        "test_accuracy = accuracy_score(Y_test, prediction)\n",
        "test_error = 1 - test_accuracy\n",
        "\n",
        "print(\"_\" * 101)\n",
        "print(\"Training Accuracy: \", training_accuracy)\n",
        "print(\"Train Error: \", training_error)\n",
        "print(\"Test Accuracy: \", test_accuracy)\n",
        "print(\"Test Error: \", test_error)\n",
        "print(\"_\" * 101)"
      ],
      "execution_count": 0,
      "outputs": [
        {
          "output_type": "stream",
          "text": [
            "_____________________________________________________________________________________________________\n",
            "Training Accuracy:  0.8312320916905445\n",
            "Train Error:  0.16876790830945554\n",
            "Test Accuracy:  0.8536096256684492\n",
            "Test Error:  0.14639037433155078\n",
            "_____________________________________________________________________________________________________\n"
          ],
          "name": "stdout"
        }
      ]
    },
    {
      "cell_type": "code",
      "metadata": {
        "id": "xasvs3gai7S1",
        "colab_type": "code",
        "outputId": "5539e294-8365-468f-f6bb-12a959ced58e",
        "colab": {
          "base_uri": "https://localhost:8080/"
        }
      },
      "source": [
        "#Classification Report\n",
        "\n",
        "print(\"_\" * 101)\n",
        "print(\"Classification Report: \\n\")\n",
        "print(classification_report(Y_test, prediction))\n",
        "print(\"_\" * 101)"
      ],
      "execution_count": 0,
      "outputs": [
        {
          "output_type": "stream",
          "text": [
            "_____________________________________________________________________________________________________\n",
            "Classification Report: \n",
            "\n",
            "              precision    recall  f1-score   support\n",
            "\n",
            "           0       0.00      0.00      0.00       219\n",
            "           1       0.85      1.00      0.92      1277\n",
            "\n",
            "    accuracy                           0.85      1496\n",
            "   macro avg       0.43      0.50      0.46      1496\n",
            "weighted avg       0.73      0.85      0.79      1496\n",
            "\n",
            "_____________________________________________________________________________________________________\n"
          ],
          "name": "stdout"
        }
      ]
    },
    {
      "cell_type": "code",
      "metadata": {
        "id": "fSm-VRL8i7Qw",
        "colab_type": "code",
        "outputId": "1de71ab2-98bc-4c13-b8d8-301b28715185",
        "colab": {
          "base_uri": "https://localhost:8080/"
        }
      },
      "source": [
        "#Confusion Matrix\n",
        "\n",
        "conf_matrix = confusion_matrix(Y_test, prediction)\n",
        "class_label = ['negative', 'positive']\n",
        "df_conf_matrix = pd.DataFrame(\n",
        "    conf_matrix, index=class_label, columns=class_label)\n",
        "sb.heatmap(df_conf_matrix, annot=True, fmt='d')\n",
        "plt.title(\"Confusion Matrix\")\n",
        "plt.xlabel(\"Predicted\")\n",
        "plt.ylabel(\"Actual\")\n",
        "plt.show()\n",
        "print(\"_\" * 101)"
      ],
      "execution_count": 0,
      "outputs": [
        {
          "output_type": "display_data",
          "data": {
            "image/png": "[encoded data removed]",
            "text/plain": [
              "<Figure size 432x288 with 2 Axes>"
            ]
          },
          "metadata": {
            "tags": []
          }
        },
        {
          "output_type": "stream",
          "text": [
            "_____________________________________________________________________________________________________\n"
          ],
          "name": "stdout"
        }
      ]
    },
    {
      "cell_type": "markdown",
      "metadata": {
        "id": "IQUILTzFDYN0",
        "colab_type": "text"
      },
      "source": [
        "### [5.2.4] Applying KNN kd-tree on TFIDF W2V,<font color='red'> SET 4</font>"
      ]
    },
    {
      "cell_type": "code",
      "metadata": {
        "id": "vNmmBe5hDYN1",
        "colab_type": "code",
        "colab": {}
      },
      "source": [
        "# Please write all the code with proper documentation\n",
        "neighbors = list(range(1, 50, 2))\n",
        "cv_score = []\n",
        "for k in neighbors:\n",
        "    knn = KNeighborsClassifier(n_neighbors=k, algorithm='kd_tree')\n",
        "    scores = cross_val_score(knn, X_train, Y_train, cv=10, scoring='accuracy')\n",
        "    cv_score.append(scores.mean())"
      ],
      "execution_count": 0,
      "outputs": []
    },
    {
      "cell_type": "code",
      "metadata": {
        "id": "SbjeST2Fq5p1",
        "colab_type": "code",
        "outputId": "87c11ff9-42aa-4a1c-911e-7e13c74438bb",
        "colab": {
          "base_uri": "https://localhost:8080/",
          "height": 416
        }
      },
      "source": [
        "#Misclassification Error\n",
        "\n",
        "MSE = [1 - x for x in cv_score]\n",
        "optimal_k = neighbors[MSE.index(min(MSE))]\n",
        "print(\"_\" * 101)\n",
        "print(\"Optimal number of neighbors: \", optimal_k)\n",
        "print(\"_\" * 101)\n",
        "print(\"Missclassification error for each k values: \", np.round(MSE, 3))\n",
        "print(\"_\" * 101)\n",
        "\n",
        "plt.plot(neighbors, MSE)\n",
        "#for xy in zip(neighbors, np.round(MSE, 3)):\n",
        "#    plt.annotate(\"%s %s\" %xy, xy=xy, textcoords='data')\n",
        "plt.title(\"Number of neighbors and error\")\n",
        "plt.xlabel(\"Number of neighbors\")\n",
        "plt.ylabel(\"Missclassification error\")\n",
        "plt.show()\n"
      ],
      "execution_count": 0,
      "outputs": [
        {
          "output_type": "stream",
          "text": [
            "_____________________________________________________________________________________________________\n",
            "Optimal number of neighbors:  19\n",
            "_____________________________________________________________________________________________________\n",
            "Missclassification error for each k values:  [0.269 0.211 0.189 0.177 0.169 0.166 0.165 0.165 0.163 0.162 0.162 0.162\n",
            " 0.162 0.162 0.162 0.162 0.162 0.162 0.162 0.162 0.162 0.162 0.162 0.162\n",
            " 0.162]\n",
            "_____________________________________________________________________________________________________\n"
          ],
          "name": "stdout"
        },
        {
          "output_type": "display_data",
          "data": {
            "image/png": "[encoded data removed]",
            "text/plain": [
              "<Figure size 432x288 with 1 Axes>"
            ]
          },
          "metadata": {
            "tags": []
          }
        }
      ]
    },
    {
      "cell_type": "code",
      "metadata": {
        "id": "uA1CAaUzq5c_",
        "colab_type": "code",
        "outputId": "ff646594-df95-4c50-e725-0a50958c2c55",
        "colab": {
          "base_uri": "https://localhost:8080/",
          "height": 121
        }
      },
      "source": [
        "#Accuracy Score\n",
        "\n",
        "optimal_model = KNeighborsClassifier(\n",
        "    n_neighbors=optimal_k, algorithm='kd_tree')\n",
        "optimal_model.fit(X_train, Y_train)\n",
        "prediction = optimal_model.predict(X_test)\n",
        "\n",
        "training_accuracy = optimal_model.score(X_train, Y_train)\n",
        "training_error = 1 - training_accuracy\n",
        "test_accuracy = accuracy_score(Y_test, prediction)\n",
        "test_error = 1 - test_accuracy\n",
        "\n",
        "print(\"_\" * 101)\n",
        "print(\"Training Accuracy: \", training_accuracy)\n",
        "print(\"Train Error: \", training_error)\n",
        "print(\"Test Accuracy: \", test_accuracy)\n",
        "print(\"Test Error: \", test_error)\n",
        "print(\"_\" * 101)"
      ],
      "execution_count": 0,
      "outputs": [
        {
          "output_type": "stream",
          "text": [
            "_____________________________________________________________________________________________________\n",
            "Training Accuracy:  0.8375358166189112\n",
            "Train Error:  0.1624641833810888\n",
            "Test Accuracy:  0.838903743315508\n",
            "Test Error:  0.161096256684492\n",
            "_____________________________________________________________________________________________________\n"
          ],
          "name": "stdout"
        }
      ]
    },
    {
      "cell_type": "code",
      "metadata": {
        "id": "OKy60Hlgq5aP",
        "colab_type": "code",
        "outputId": "7ba07953-85a5-4e47-d359-7655129fd6e6",
        "colab": {
          "base_uri": "https://localhost:8080/",
          "height": 242
        }
      },
      "source": [
        "#Classification Report\n",
        "\n",
        "print(\"_\" * 101)\n",
        "print(\"Classification Report: \\n\")\n",
        "print(classification_report(Y_test, prediction))\n",
        "print(\"_\" * 101)"
      ],
      "execution_count": 0,
      "outputs": [
        {
          "output_type": "stream",
          "text": [
            "_____________________________________________________________________________________________________\n",
            "Classification Report: \n",
            "\n",
            "              precision    recall  f1-score   support\n",
            "\n",
            "           0       0.00      0.00      0.00       241\n",
            "           1       0.84      1.00      0.91      1255\n",
            "\n",
            "    accuracy                           0.84      1496\n",
            "   macro avg       0.42      0.50      0.46      1496\n",
            "weighted avg       0.70      0.84      0.77      1496\n",
            "\n",
            "_____________________________________________________________________________________________________\n"
          ],
          "name": "stdout"
        }
      ]
    },
    {
      "cell_type": "code",
      "metadata": {
        "id": "zs3Zd3bHq5Uu",
        "colab_type": "code",
        "outputId": "0bcd3a8b-6797-45ad-e7f4-6c8f92a19e8e",
        "colab": {
          "base_uri": "https://localhost:8080/",
          "height": 295
        }
      },
      "source": [
        "#Confusion Matrix\n",
        "\n",
        "conf_matrix = confusion_matrix(Y_test, prediction)\n",
        "class_label = ['negative', 'positive']\n",
        "df_conf_matrix = pd.DataFrame(\n",
        "    conf_matrix, index=class_label, columns=class_label)\n",
        "sb.heatmap(df_conf_matrix, annot=True, fmt='d')\n",
        "plt.title(\"Confusion Matrix\")\n",
        "plt.xlabel(\"Predicted\")\n",
        "plt.ylabel(\"Actual\")\n",
        "plt.show()"
      ],
      "execution_count": 0,
      "outputs": [
        {
          "output_type": "display_data",
          "data": {
            "image/png": "[encoded data removed]",
            "text/plain": [
              "<Figure size 432x288 with 2 Axes>"
            ]
          },
          "metadata": {
            "tags": []
          }
        }
      ]
    },
    {
      "cell_type": "code",
      "metadata": {
        "id": "SVK9Co-hq5Sb",
        "colab_type": "code",
        "colab": {}
      },
      "source": [
        ""
      ],
      "execution_count": 0,
      "outputs": []
    },
    {
      "cell_type": "markdown",
      "metadata": {
        "id": "crZ4qBCyDYN7",
        "colab_type": "text"
      },
      "source": [
        "# [6] Conclusions"
      ]
    },
    {
      "cell_type": "code",
      "metadata": {
        "id": "13G3QNgCtL_M",
        "colab_type": "code",
        "outputId": "9c7017c7-110e-4d94-919c-4a2ba3eaf496",
        "colab": {
          "base_uri": "https://localhost:8080/",
          "height": 193
        }
      },
      "source": [
        "!pip install Ptable"
      ],
      "execution_count": 0,
      "outputs": [
        {
          "output_type": "stream",
          "text": [
            "Collecting Ptable\n",
            "  Downloading https://files.pythonhosted.org/packages/ab/b3/b54301811173ca94119eb474634f120a49cd370f257d1aae5a4abaf12729/PTable-0.9.2.tar.gz\n",
            "Building wheels for collected packages: Ptable\n",
            "  Building wheel for Ptable (setup.py) ... \u001b[?25l\u001b[?25hdone\n",
            "  Created wheel for Ptable: filename=PTable-0.9.2-cp36-none-any.whl size=22907 sha256=9d99025d8bbce9bab99be81a7fbeb998221322d3d17b902125ec3824db24a057\n",
            "  Stored in directory: /root/.cache/pip/wheels/22/cc/2e/55980bfe86393df3e9896146a01f6802978d09d7ebcba5ea56\n",
            "Successfully built Ptable\n",
            "Installing collected packages: Ptable\n",
            "Successfully installed Ptable-0.9.2\n"
          ],
          "name": "stdout"
        }
      ]
    },
    {
      "cell_type": "code",
      "metadata": {
        "id": "9OacHxi1DYN8",
        "colab_type": "code",
        "outputId": "472f3756-213d-45ee-fa71-8722f0663ea4",
        "colab": {
          "base_uri": "https://localhost:8080/",
          "height": 345
        }
      },
      "source": [
        "# Please compare all your models using Prettytable library\n",
        "from prettytable import PrettyTable\n",
        "\n",
        "bf = PrettyTable()\n",
        "kd = PrettyTable()\n",
        "\n",
        "bf.field_names = ['Featurization', \"Train Accuracy\", \"Train Error\", \"Test Accuracy\", \"Test Error\"]\n",
        "kd.field_names = ['Featurization', \"Train Accuracy\", \"Train Error\", \"Test Accuracy\", \"Test Error\"]\n",
        "\n",
        "bf.add_row(['BoW', 72.38, 27.61, 69.39, 30.60])\n",
        "bf.add_row(['TF-idf', 77.23, 22.76, 74.46, 25.53])\n",
        "bf.add_row(['Avg-w2v', 83.12, 16.87, 85.36, 14.63])\n",
        "bf.add_row(['TF-idf w2v', 83.75, 16.24, 83.89, 16.10])\n",
        "\n",
        "kd.add_row(['BoW', 72.83, 27.61, 69.39, 30.60])\n",
        "kd.add_row(['TF-idf', 77.23, 22.76, 74.46, 25.53])\n",
        "kd.add_row(['Avg-w2v', 83.12, 16.87, 85.36, 14.63])\n",
        "kd.add_row(['TF-idf w2v',83.75, 16.24, 83.89, 16.10])\n",
        "\n",
        "print('Accuracy Report in %:')\n",
        "print ('Knn Brute Force:\\n', bf)\n",
        "print ('Knn Kd tree:\\n', kd)"
      ],
      "execution_count": 0,
      "outputs": [
        {
          "output_type": "stream",
          "text": [
            "Accuracy Report in %:\n",
            "Knn Brute Force:\n",
            " +---------------+----------------+-------------+---------------+------------+\n",
            "| Featurization | Train Accuracy | Train Error | Test Accuracy | Test Error |\n",
            "+---------------+----------------+-------------+---------------+------------+\n",
            "|      BoW      |     72.38      |    27.61    |     69.39     |    30.6    |\n",
            "|     TF-idf    |     77.23      |    22.76    |     74.46     |   25.53    |\n",
            "|    Avg-w2v    |     83.12      |    16.87    |     85.36     |   14.63    |\n",
            "|   TF-idf w2v  |     83.75      |    16.24    |     83.89     |    16.1    |\n",
            "+---------------+----------------+-------------+---------------+------------+\n",
            "Knn Kd tree:\n",
            " +---------------+----------------+-------------+---------------+------------+\n",
            "| Featurization | Train Accuracy | Train Error | Test Accuracy | Test Error |\n",
            "+---------------+----------------+-------------+---------------+------------+\n",
            "|      BoW      |     72.83      |    27.61    |     69.39     |    30.6    |\n",
            "|     TF-idf    |     77.23      |    22.76    |     74.46     |   25.53    |\n",
            "|    Avg-w2v    |     83.12      |    16.87    |     85.36     |   14.63    |\n",
            "|   TF-idf w2v  |     83.75      |    16.24    |     83.89     |    16.1    |\n",
            "+---------------+----------------+-------------+---------------+------------+\n"
          ],
          "name": "stdout"
        }
      ]
    },
    {
      "cell_type": "markdown",
      "metadata": {
        "id": "BKM_4CI0zeae",
        "colab_type": "text"
      },
      "source": [
        "##Conclusions\n",
        "1.  All accuracy are same either using brute force or kd tree method.\n",
        "2. For word2vec either avgw2v or tfidgw2v the model is skewed toward positive class, <br>   so it can be said that this model is not suitable for Word2vec.\n",
        "3.BoW has accuracy of around 71%, and Tfidf with slightly better accuracy of around 75% "
      ]
    },
    {
      "cell_type": "markdown",
      "metadata": {
        "id": "IHYfxaHIr4gR",
        "colab_type": "text"
      },
      "source": [
        "##Reference\n",
        "https://www.kaggle.com/jitendras/knn-amazon-fine-food-reviews-data-set#TFIDF-Word2Vec"
      ]
    }
  ]
}